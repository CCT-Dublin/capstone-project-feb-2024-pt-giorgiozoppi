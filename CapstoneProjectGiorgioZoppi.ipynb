{
 "cells": [
  {
   "cell_type": "markdown",
   "metadata": {},
   "source": [
    "# <b>TrackML/HotelRank</b>: Elevating Revenue Performance Through Machine Learning and Deep Learning Techniques."
   ]
  },
  {
   "cell_type": "markdown",
   "metadata": {},
   "source": [
    "Revenue management is a very important to make profits in the hotel industry, three main factors play an important role to get it right:  \n",
    "    <ol>\n",
    "    <li>Hotel room demand over time (demand forecast).</li>\n",
    "    <li>Prediction of booking cancellations.</li>\n",
    "    <li>Online hotel reputation.</li>\n",
    "    </ol>\n",
    "In this project we take in account each one thru a linear combination of different scores that represent each item."
   ]
  },
  {
   "cell_type": "markdown",
   "metadata": {},
   "source": [
    "# <b>DemandScore</b>: Demand Forecast over 12 months booking."
   ]
  },
  {
   "cell_type": "markdown",
   "metadata": {},
   "source": [
    "The objective to section to concentrate ourselves to demand forecast with just Blastness dataset and nothing more:\n",
    "- We have to clean the data provided and see patterns.\n",
    "- Detect outliers in the demand\n",
    "- Compare SARIMAX and prophet neural network to see which fits better for the demandscore.\n",
    "- Create the demand score for each hotel using booking forecast in next temporal year frame.\n",
    "- We leave to future work any crossdata about the demand related to weather and external events.\n"
   ]
  },
  {
   "cell_type": "code",
   "execution_count": 1,
   "metadata": {},
   "outputs": [
    {
     "name": "stdout",
     "output_type": "stream",
     "text": [
      "Requirement already satisfied: bamboolib in /home/jozoppi/anaconda3/lib/python3.12/site-packages (1.30.19)\n",
      "Requirement already satisfied: attrs>=20.3.0 in /home/jozoppi/anaconda3/lib/python3.12/site-packages (from bamboolib) (23.1.0)\n",
      "Requirement already satisfied: cryptography>=2.6.1 in /home/jozoppi/anaconda3/lib/python3.12/site-packages (from bamboolib) (42.0.5)\n",
      "Requirement already satisfied: ipywidgets<8.0.0,>=7.6.0 in /home/jozoppi/anaconda3/lib/python3.12/site-packages (from bamboolib) (7.8.1)\n",
      "Requirement already satisfied: jedi<1.0.0 in /home/jozoppi/anaconda3/lib/python3.12/site-packages (from bamboolib) (0.18.1)\n",
      "Requirement already satisfied: pandas<2.0.0,>=1.1.0 in /home/jozoppi/anaconda3/lib/python3.12/site-packages (from bamboolib) (1.5.3)\n",
      "Requirement already satisfied: packaging>=19.2 in /home/jozoppi/anaconda3/lib/python3.12/site-packages (from bamboolib) (23.2)\n",
      "Requirement already satisfied: plotly<6.0.0,>=4.9.0 in /home/jozoppi/anaconda3/lib/python3.12/site-packages (from bamboolib) (5.22.0)\n",
      "Requirement already satisfied: ppscore<2.0.0,>=1.2.0 in /home/jozoppi/anaconda3/lib/python3.12/site-packages (from bamboolib) (1.3.0)\n",
      "Requirement already satisfied: psutil<6,>=5.4.2 in /home/jozoppi/anaconda3/lib/python3.12/site-packages (from bamboolib) (5.9.0)\n",
      "Requirement already satisfied: pygments in /home/jozoppi/anaconda3/lib/python3.12/site-packages (from bamboolib) (2.15.1)\n",
      "Requirement already satisfied: ipyslickgrid==0.0.3 in /home/jozoppi/anaconda3/lib/python3.12/site-packages (from bamboolib) (0.0.3)\n",
      "Requirement already satisfied: scikit-learn<2.0.0,>=0.20.2 in /home/jozoppi/anaconda3/lib/python3.12/site-packages (from bamboolib) (1.4.2)\n",
      "Requirement already satisfied: statsmodels<1.0.0 in /home/jozoppi/anaconda3/lib/python3.12/site-packages (from bamboolib) (0.14.2)\n",
      "Requirement already satisfied: toml>=0.10.0 in /home/jozoppi/anaconda3/lib/python3.12/site-packages (from bamboolib) (0.10.2)\n",
      "Requirement already satisfied: xlrd>=1.0.0 in /home/jozoppi/anaconda3/lib/python3.12/site-packages (from bamboolib) (2.0.1)\n",
      "Requirement already satisfied: notebook>=4.0.0 in /home/jozoppi/anaconda3/lib/python3.12/site-packages (from ipyslickgrid==0.0.3->bamboolib) (7.0.8)\n",
      "Requirement already satisfied: cffi>=1.12 in /home/jozoppi/anaconda3/lib/python3.12/site-packages (from cryptography>=2.6.1->bamboolib) (1.16.0)\n",
      "Requirement already satisfied: comm>=0.1.3 in /home/jozoppi/anaconda3/lib/python3.12/site-packages (from ipywidgets<8.0.0,>=7.6.0->bamboolib) (0.2.1)\n",
      "Requirement already satisfied: ipython-genutils~=0.2.0 in /home/jozoppi/anaconda3/lib/python3.12/site-packages (from ipywidgets<8.0.0,>=7.6.0->bamboolib) (0.2.0)\n",
      "Requirement already satisfied: traitlets>=4.3.1 in /home/jozoppi/anaconda3/lib/python3.12/site-packages (from ipywidgets<8.0.0,>=7.6.0->bamboolib) (5.14.3)\n",
      "Requirement already satisfied: widgetsnbextension~=3.6.6 in /home/jozoppi/anaconda3/lib/python3.12/site-packages (from ipywidgets<8.0.0,>=7.6.0->bamboolib) (3.6.6)\n",
      "Requirement already satisfied: ipython>=4.0.0 in /home/jozoppi/anaconda3/lib/python3.12/site-packages (from ipywidgets<8.0.0,>=7.6.0->bamboolib) (8.25.0)\n",
      "Requirement already satisfied: jupyterlab-widgets<3,>=1.0.0 in /home/jozoppi/anaconda3/lib/python3.12/site-packages (from ipywidgets<8.0.0,>=7.6.0->bamboolib) (1.0.0)\n",
      "Requirement already satisfied: parso<0.9.0,>=0.8.0 in /home/jozoppi/anaconda3/lib/python3.12/site-packages (from jedi<1.0.0->bamboolib) (0.8.3)\n",
      "Requirement already satisfied: python-dateutil>=2.8.1 in /home/jozoppi/anaconda3/lib/python3.12/site-packages (from pandas<2.0.0,>=1.1.0->bamboolib) (2.9.0.post0)\n",
      "Requirement already satisfied: pytz>=2020.1 in /home/jozoppi/anaconda3/lib/python3.12/site-packages (from pandas<2.0.0,>=1.1.0->bamboolib) (2024.1)\n",
      "Requirement already satisfied: numpy>=1.21.0 in /home/jozoppi/anaconda3/lib/python3.12/site-packages (from pandas<2.0.0,>=1.1.0->bamboolib) (1.26.4)\n",
      "Requirement already satisfied: tenacity>=6.2.0 in /home/jozoppi/anaconda3/lib/python3.12/site-packages (from plotly<6.0.0,>=4.9.0->bamboolib) (8.2.2)\n",
      "Requirement already satisfied: scipy>=1.6.0 in /home/jozoppi/anaconda3/lib/python3.12/site-packages (from scikit-learn<2.0.0,>=0.20.2->bamboolib) (1.11.4)\n",
      "Requirement already satisfied: joblib>=1.2.0 in /home/jozoppi/anaconda3/lib/python3.12/site-packages (from scikit-learn<2.0.0,>=0.20.2->bamboolib) (1.3.2)\n",
      "Requirement already satisfied: threadpoolctl>=2.0.0 in /home/jozoppi/anaconda3/lib/python3.12/site-packages (from scikit-learn<2.0.0,>=0.20.2->bamboolib) (2.2.0)\n",
      "Requirement already satisfied: patsy>=0.5.6 in /home/jozoppi/anaconda3/lib/python3.12/site-packages (from statsmodels<1.0.0->bamboolib) (0.5.6)\n",
      "Requirement already satisfied: pycparser in /home/jozoppi/anaconda3/lib/python3.12/site-packages (from cffi>=1.12->cryptography>=2.6.1->bamboolib) (2.21)\n",
      "Requirement already satisfied: decorator in /home/jozoppi/anaconda3/lib/python3.12/site-packages (from ipython>=4.0.0->ipywidgets<8.0.0,>=7.6.0->bamboolib) (5.1.1)\n",
      "Requirement already satisfied: matplotlib-inline in /home/jozoppi/anaconda3/lib/python3.12/site-packages (from ipython>=4.0.0->ipywidgets<8.0.0,>=7.6.0->bamboolib) (0.1.6)\n",
      "Requirement already satisfied: prompt-toolkit<3.1.0,>=3.0.41 in /home/jozoppi/anaconda3/lib/python3.12/site-packages (from ipython>=4.0.0->ipywidgets<8.0.0,>=7.6.0->bamboolib) (3.0.43)\n",
      "Requirement already satisfied: stack-data in /home/jozoppi/anaconda3/lib/python3.12/site-packages (from ipython>=4.0.0->ipywidgets<8.0.0,>=7.6.0->bamboolib) (0.2.0)\n",
      "Requirement already satisfied: pexpect>4.3 in /home/jozoppi/anaconda3/lib/python3.12/site-packages (from ipython>=4.0.0->ipywidgets<8.0.0,>=7.6.0->bamboolib) (4.8.0)\n",
      "Requirement already satisfied: jupyter-server<3,>=2.4.0 in /home/jozoppi/anaconda3/lib/python3.12/site-packages (from notebook>=4.0.0->ipyslickgrid==0.0.3->bamboolib) (2.14.1)\n",
      "Requirement already satisfied: jupyterlab-server<3,>=2.22.1 in /home/jozoppi/anaconda3/lib/python3.12/site-packages (from notebook>=4.0.0->ipyslickgrid==0.0.3->bamboolib) (2.25.1)\n",
      "Requirement already satisfied: jupyterlab<4.1,>=4.0.2 in /home/jozoppi/anaconda3/lib/python3.12/site-packages (from notebook>=4.0.0->ipyslickgrid==0.0.3->bamboolib) (4.0.11)\n",
      "Requirement already satisfied: notebook-shim<0.3,>=0.2 in /home/jozoppi/anaconda3/lib/python3.12/site-packages (from notebook>=4.0.0->ipyslickgrid==0.0.3->bamboolib) (0.2.3)\n",
      "Requirement already satisfied: tornado>=6.2.0 in /home/jozoppi/anaconda3/lib/python3.12/site-packages (from notebook>=4.0.0->ipyslickgrid==0.0.3->bamboolib) (6.4.1)\n",
      "Requirement already satisfied: six in /home/jozoppi/anaconda3/lib/python3.12/site-packages (from patsy>=0.5.6->statsmodels<1.0.0->bamboolib) (1.16.0)\n",
      "Requirement already satisfied: anyio>=3.1.0 in /home/jozoppi/anaconda3/lib/python3.12/site-packages (from jupyter-server<3,>=2.4.0->notebook>=4.0.0->ipyslickgrid==0.0.3->bamboolib) (4.2.0)\n",
      "Requirement already satisfied: argon2-cffi>=21.1 in /home/jozoppi/anaconda3/lib/python3.12/site-packages (from jupyter-server<3,>=2.4.0->notebook>=4.0.0->ipyslickgrid==0.0.3->bamboolib) (21.3.0)\n",
      "Requirement already satisfied: jinja2>=3.0.3 in /home/jozoppi/anaconda3/lib/python3.12/site-packages (from jupyter-server<3,>=2.4.0->notebook>=4.0.0->ipyslickgrid==0.0.3->bamboolib) (3.1.4)\n",
      "Requirement already satisfied: jupyter-client>=7.4.4 in /home/jozoppi/anaconda3/lib/python3.12/site-packages (from jupyter-server<3,>=2.4.0->notebook>=4.0.0->ipyslickgrid==0.0.3->bamboolib) (8.6.0)\n",
      "Requirement already satisfied: jupyter-core!=5.0.*,>=4.12 in /home/jozoppi/anaconda3/lib/python3.12/site-packages (from jupyter-server<3,>=2.4.0->notebook>=4.0.0->ipyslickgrid==0.0.3->bamboolib) (5.7.2)\n",
      "Requirement already satisfied: jupyter-events>=0.9.0 in /home/jozoppi/anaconda3/lib/python3.12/site-packages (from jupyter-server<3,>=2.4.0->notebook>=4.0.0->ipyslickgrid==0.0.3->bamboolib) (0.10.0)\n",
      "Requirement already satisfied: jupyter-server-terminals>=0.4.4 in /home/jozoppi/anaconda3/lib/python3.12/site-packages (from jupyter-server<3,>=2.4.0->notebook>=4.0.0->ipyslickgrid==0.0.3->bamboolib) (0.4.4)\n",
      "Requirement already satisfied: nbconvert>=6.4.4 in /home/jozoppi/anaconda3/lib/python3.12/site-packages (from jupyter-server<3,>=2.4.0->notebook>=4.0.0->ipyslickgrid==0.0.3->bamboolib) (7.10.0)\n",
      "Requirement already satisfied: nbformat>=5.3.0 in /home/jozoppi/anaconda3/lib/python3.12/site-packages (from jupyter-server<3,>=2.4.0->notebook>=4.0.0->ipyslickgrid==0.0.3->bamboolib) (5.9.2)\n",
      "Requirement already satisfied: overrides>=5.0 in /home/jozoppi/anaconda3/lib/python3.12/site-packages (from jupyter-server<3,>=2.4.0->notebook>=4.0.0->ipyslickgrid==0.0.3->bamboolib) (7.4.0)\n",
      "Requirement already satisfied: prometheus-client>=0.9 in /home/jozoppi/anaconda3/lib/python3.12/site-packages (from jupyter-server<3,>=2.4.0->notebook>=4.0.0->ipyslickgrid==0.0.3->bamboolib) (0.14.1)\n",
      "Requirement already satisfied: pyzmq>=24 in /home/jozoppi/anaconda3/lib/python3.12/site-packages (from jupyter-server<3,>=2.4.0->notebook>=4.0.0->ipyslickgrid==0.0.3->bamboolib) (25.1.2)\n",
      "Requirement already satisfied: send2trash>=1.8.2 in /home/jozoppi/anaconda3/lib/python3.12/site-packages (from jupyter-server<3,>=2.4.0->notebook>=4.0.0->ipyslickgrid==0.0.3->bamboolib) (1.8.2)\n",
      "Requirement already satisfied: terminado>=0.8.3 in /home/jozoppi/anaconda3/lib/python3.12/site-packages (from jupyter-server<3,>=2.4.0->notebook>=4.0.0->ipyslickgrid==0.0.3->bamboolib) (0.17.1)\n",
      "Requirement already satisfied: websocket-client>=1.7 in /home/jozoppi/anaconda3/lib/python3.12/site-packages (from jupyter-server<3,>=2.4.0->notebook>=4.0.0->ipyslickgrid==0.0.3->bamboolib) (1.8.0)\n",
      "Requirement already satisfied: async-lru>=1.0.0 in /home/jozoppi/anaconda3/lib/python3.12/site-packages (from jupyterlab<4.1,>=4.0.2->notebook>=4.0.0->ipyslickgrid==0.0.3->bamboolib) (2.0.4)\n",
      "Requirement already satisfied: ipykernel in /home/jozoppi/anaconda3/lib/python3.12/site-packages (from jupyterlab<4.1,>=4.0.2->notebook>=4.0.0->ipyslickgrid==0.0.3->bamboolib) (6.28.0)\n",
      "Requirement already satisfied: jupyter-lsp>=2.0.0 in /home/jozoppi/anaconda3/lib/python3.12/site-packages (from jupyterlab<4.1,>=4.0.2->notebook>=4.0.0->ipyslickgrid==0.0.3->bamboolib) (2.2.0)\n",
      "Requirement already satisfied: babel>=2.10 in /home/jozoppi/anaconda3/lib/python3.12/site-packages (from jupyterlab-server<3,>=2.22.1->notebook>=4.0.0->ipyslickgrid==0.0.3->bamboolib) (2.11.0)\n",
      "Requirement already satisfied: json5>=0.9.0 in /home/jozoppi/anaconda3/lib/python3.12/site-packages (from jupyterlab-server<3,>=2.22.1->notebook>=4.0.0->ipyslickgrid==0.0.3->bamboolib) (0.9.6)\n",
      "Requirement already satisfied: jsonschema>=4.18.0 in /home/jozoppi/anaconda3/lib/python3.12/site-packages (from jupyterlab-server<3,>=2.22.1->notebook>=4.0.0->ipyslickgrid==0.0.3->bamboolib) (4.19.2)\n",
      "Requirement already satisfied: requests>=2.31 in /home/jozoppi/anaconda3/lib/python3.12/site-packages (from jupyterlab-server<3,>=2.22.1->notebook>=4.0.0->ipyslickgrid==0.0.3->bamboolib) (2.32.2)\n",
      "Requirement already satisfied: ptyprocess>=0.5 in /home/jozoppi/anaconda3/lib/python3.12/site-packages (from pexpect>4.3->ipython>=4.0.0->ipywidgets<8.0.0,>=7.6.0->bamboolib) (0.7.0)\n",
      "Requirement already satisfied: wcwidth in /home/jozoppi/anaconda3/lib/python3.12/site-packages (from prompt-toolkit<3.1.0,>=3.0.41->ipython>=4.0.0->ipywidgets<8.0.0,>=7.6.0->bamboolib) (0.2.5)\n",
      "Requirement already satisfied: executing in /home/jozoppi/anaconda3/lib/python3.12/site-packages (from stack-data->ipython>=4.0.0->ipywidgets<8.0.0,>=7.6.0->bamboolib) (0.8.3)\n",
      "Requirement already satisfied: asttokens in /home/jozoppi/anaconda3/lib/python3.12/site-packages (from stack-data->ipython>=4.0.0->ipywidgets<8.0.0,>=7.6.0->bamboolib) (2.0.5)\n",
      "Requirement already satisfied: pure-eval in /home/jozoppi/anaconda3/lib/python3.12/site-packages (from stack-data->ipython>=4.0.0->ipywidgets<8.0.0,>=7.6.0->bamboolib) (0.2.2)\n",
      "Requirement already satisfied: idna>=2.8 in /home/jozoppi/anaconda3/lib/python3.12/site-packages (from anyio>=3.1.0->jupyter-server<3,>=2.4.0->notebook>=4.0.0->ipyslickgrid==0.0.3->bamboolib) (3.7)\n",
      "Requirement already satisfied: sniffio>=1.1 in /home/jozoppi/anaconda3/lib/python3.12/site-packages (from anyio>=3.1.0->jupyter-server<3,>=2.4.0->notebook>=4.0.0->ipyslickgrid==0.0.3->bamboolib) (1.3.0)\n",
      "Requirement already satisfied: argon2-cffi-bindings in /home/jozoppi/anaconda3/lib/python3.12/site-packages (from argon2-cffi>=21.1->jupyter-server<3,>=2.4.0->notebook>=4.0.0->ipyslickgrid==0.0.3->bamboolib) (21.2.0)\n",
      "Requirement already satisfied: MarkupSafe>=2.0 in /home/jozoppi/anaconda3/lib/python3.12/site-packages (from jinja2>=3.0.3->jupyter-server<3,>=2.4.0->notebook>=4.0.0->ipyslickgrid==0.0.3->bamboolib) (2.1.3)\n",
      "Requirement already satisfied: jsonschema-specifications>=2023.03.6 in /home/jozoppi/anaconda3/lib/python3.12/site-packages (from jsonschema>=4.18.0->jupyterlab-server<3,>=2.22.1->notebook>=4.0.0->ipyslickgrid==0.0.3->bamboolib) (2023.7.1)\n",
      "Requirement already satisfied: referencing>=0.28.4 in /home/jozoppi/anaconda3/lib/python3.12/site-packages (from jsonschema>=4.18.0->jupyterlab-server<3,>=2.22.1->notebook>=4.0.0->ipyslickgrid==0.0.3->bamboolib) (0.30.2)\n",
      "Requirement already satisfied: rpds-py>=0.7.1 in /home/jozoppi/anaconda3/lib/python3.12/site-packages (from jsonschema>=4.18.0->jupyterlab-server<3,>=2.22.1->notebook>=4.0.0->ipyslickgrid==0.0.3->bamboolib) (0.10.6)\n",
      "Requirement already satisfied: platformdirs>=2.5 in /home/jozoppi/anaconda3/lib/python3.12/site-packages (from jupyter-core!=5.0.*,>=4.12->jupyter-server<3,>=2.4.0->notebook>=4.0.0->ipyslickgrid==0.0.3->bamboolib) (3.10.0)\n",
      "Requirement already satisfied: python-json-logger>=2.0.4 in /home/jozoppi/anaconda3/lib/python3.12/site-packages (from jupyter-events>=0.9.0->jupyter-server<3,>=2.4.0->notebook>=4.0.0->ipyslickgrid==0.0.3->bamboolib) (2.0.7)\n",
      "Requirement already satisfied: pyyaml>=5.3 in /home/jozoppi/anaconda3/lib/python3.12/site-packages (from jupyter-events>=0.9.0->jupyter-server<3,>=2.4.0->notebook>=4.0.0->ipyslickgrid==0.0.3->bamboolib) (6.0.1)\n",
      "Requirement already satisfied: rfc3339-validator in /home/jozoppi/anaconda3/lib/python3.12/site-packages (from jupyter-events>=0.9.0->jupyter-server<3,>=2.4.0->notebook>=4.0.0->ipyslickgrid==0.0.3->bamboolib) (0.1.4)\n",
      "Requirement already satisfied: rfc3986-validator>=0.1.1 in /home/jozoppi/anaconda3/lib/python3.12/site-packages (from jupyter-events>=0.9.0->jupyter-server<3,>=2.4.0->notebook>=4.0.0->ipyslickgrid==0.0.3->bamboolib) (0.1.1)\n",
      "Requirement already satisfied: beautifulsoup4 in /home/jozoppi/anaconda3/lib/python3.12/site-packages (from nbconvert>=6.4.4->jupyter-server<3,>=2.4.0->notebook>=4.0.0->ipyslickgrid==0.0.3->bamboolib) (4.12.3)\n",
      "Requirement already satisfied: bleach!=5.0.0 in /home/jozoppi/anaconda3/lib/python3.12/site-packages (from nbconvert>=6.4.4->jupyter-server<3,>=2.4.0->notebook>=4.0.0->ipyslickgrid==0.0.3->bamboolib) (4.1.0)\n",
      "Requirement already satisfied: defusedxml in /home/jozoppi/anaconda3/lib/python3.12/site-packages (from nbconvert>=6.4.4->jupyter-server<3,>=2.4.0->notebook>=4.0.0->ipyslickgrid==0.0.3->bamboolib) (0.7.1)\n",
      "Requirement already satisfied: jupyterlab-pygments in /home/jozoppi/anaconda3/lib/python3.12/site-packages (from nbconvert>=6.4.4->jupyter-server<3,>=2.4.0->notebook>=4.0.0->ipyslickgrid==0.0.3->bamboolib) (0.1.2)\n",
      "Requirement already satisfied: mistune<4,>=2.0.3 in /home/jozoppi/anaconda3/lib/python3.12/site-packages (from nbconvert>=6.4.4->jupyter-server<3,>=2.4.0->notebook>=4.0.0->ipyslickgrid==0.0.3->bamboolib) (2.0.4)\n",
      "Requirement already satisfied: nbclient>=0.5.0 in /home/jozoppi/anaconda3/lib/python3.12/site-packages (from nbconvert>=6.4.4->jupyter-server<3,>=2.4.0->notebook>=4.0.0->ipyslickgrid==0.0.3->bamboolib) (0.8.0)\n",
      "Requirement already satisfied: pandocfilters>=1.4.1 in /home/jozoppi/anaconda3/lib/python3.12/site-packages (from nbconvert>=6.4.4->jupyter-server<3,>=2.4.0->notebook>=4.0.0->ipyslickgrid==0.0.3->bamboolib) (1.5.0)\n",
      "Requirement already satisfied: tinycss2 in /home/jozoppi/anaconda3/lib/python3.12/site-packages (from nbconvert>=6.4.4->jupyter-server<3,>=2.4.0->notebook>=4.0.0->ipyslickgrid==0.0.3->bamboolib) (1.2.1)\n",
      "Requirement already satisfied: fastjsonschema in /home/jozoppi/anaconda3/lib/python3.12/site-packages (from nbformat>=5.3.0->jupyter-server<3,>=2.4.0->notebook>=4.0.0->ipyslickgrid==0.0.3->bamboolib) (2.16.2)\n",
      "Requirement already satisfied: charset-normalizer<4,>=2 in /home/jozoppi/anaconda3/lib/python3.12/site-packages (from requests>=2.31->jupyterlab-server<3,>=2.22.1->notebook>=4.0.0->ipyslickgrid==0.0.3->bamboolib) (2.0.4)\n",
      "Requirement already satisfied: urllib3<3,>=1.21.1 in /home/jozoppi/anaconda3/lib/python3.12/site-packages (from requests>=2.31->jupyterlab-server<3,>=2.22.1->notebook>=4.0.0->ipyslickgrid==0.0.3->bamboolib) (2.2.2)\n",
      "Requirement already satisfied: certifi>=2017.4.17 in /home/jozoppi/anaconda3/lib/python3.12/site-packages (from requests>=2.31->jupyterlab-server<3,>=2.22.1->notebook>=4.0.0->ipyslickgrid==0.0.3->bamboolib) (2024.8.30)\n",
      "Requirement already satisfied: debugpy>=1.6.5 in /home/jozoppi/anaconda3/lib/python3.12/site-packages (from ipykernel->jupyterlab<4.1,>=4.0.2->notebook>=4.0.0->ipyslickgrid==0.0.3->bamboolib) (1.6.7)\n",
      "Requirement already satisfied: nest-asyncio in /home/jozoppi/anaconda3/lib/python3.12/site-packages (from ipykernel->jupyterlab<4.1,>=4.0.2->notebook>=4.0.0->ipyslickgrid==0.0.3->bamboolib) (1.6.0)\n",
      "Requirement already satisfied: webencodings in /home/jozoppi/anaconda3/lib/python3.12/site-packages (from bleach!=5.0.0->nbconvert>=6.4.4->jupyter-server<3,>=2.4.0->notebook>=4.0.0->ipyslickgrid==0.0.3->bamboolib) (0.5.1)\n",
      "Requirement already satisfied: fqdn in /home/jozoppi/anaconda3/lib/python3.12/site-packages (from jsonschema[format-nongpl]>=4.18.0->jupyter-events>=0.9.0->jupyter-server<3,>=2.4.0->notebook>=4.0.0->ipyslickgrid==0.0.3->bamboolib) (1.5.1)\n",
      "Requirement already satisfied: isoduration in /home/jozoppi/anaconda3/lib/python3.12/site-packages (from jsonschema[format-nongpl]>=4.18.0->jupyter-events>=0.9.0->jupyter-server<3,>=2.4.0->notebook>=4.0.0->ipyslickgrid==0.0.3->bamboolib) (20.11.0)\n",
      "Requirement already satisfied: jsonpointer>1.13 in /home/jozoppi/anaconda3/lib/python3.12/site-packages (from jsonschema[format-nongpl]>=4.18.0->jupyter-events>=0.9.0->jupyter-server<3,>=2.4.0->notebook>=4.0.0->ipyslickgrid==0.0.3->bamboolib) (2.1)\n",
      "Requirement already satisfied: uri-template in /home/jozoppi/anaconda3/lib/python3.12/site-packages (from jsonschema[format-nongpl]>=4.18.0->jupyter-events>=0.9.0->jupyter-server<3,>=2.4.0->notebook>=4.0.0->ipyslickgrid==0.0.3->bamboolib) (1.3.0)\n",
      "Requirement already satisfied: webcolors>=1.11 in /home/jozoppi/anaconda3/lib/python3.12/site-packages (from jsonschema[format-nongpl]>=4.18.0->jupyter-events>=0.9.0->jupyter-server<3,>=2.4.0->notebook>=4.0.0->ipyslickgrid==0.0.3->bamboolib) (24.8.0)\n",
      "Requirement already satisfied: soupsieve>1.2 in /home/jozoppi/anaconda3/lib/python3.12/site-packages (from beautifulsoup4->nbconvert>=6.4.4->jupyter-server<3,>=2.4.0->notebook>=4.0.0->ipyslickgrid==0.0.3->bamboolib) (2.5)\n",
      "Requirement already satisfied: arrow>=0.15.0 in /home/jozoppi/anaconda3/lib/python3.12/site-packages (from isoduration->jsonschema[format-nongpl]>=4.18.0->jupyter-events>=0.9.0->jupyter-server<3,>=2.4.0->notebook>=4.0.0->ipyslickgrid==0.0.3->bamboolib) (1.2.3)\n",
      "Requirement already satisfied: pandas in /home/jozoppi/anaconda3/lib/python3.12/site-packages (1.5.3)\n",
      "Requirement already satisfied: numpy in /home/jozoppi/anaconda3/lib/python3.12/site-packages (1.26.4)\n",
      "Requirement already satisfied: seaborn in /home/jozoppi/anaconda3/lib/python3.12/site-packages (0.13.2)\n",
      "Requirement already satisfied: matplot in /home/jozoppi/anaconda3/lib/python3.12/site-packages (0.1.9)\n",
      "Requirement already satisfied: scikit-learn in /home/jozoppi/anaconda3/lib/python3.12/site-packages (1.4.2)\n",
      "Requirement already satisfied: pyarrow in /home/jozoppi/anaconda3/lib/python3.12/site-packages (17.0.0)\n",
      "Requirement already satisfied: prophet in /home/jozoppi/anaconda3/lib/python3.12/site-packages (1.1.6)\n",
      "Requirement already satisfied: statsmodels in /home/jozoppi/anaconda3/lib/python3.12/site-packages (0.14.2)\n",
      "Requirement already satisfied: pycaret in /home/jozoppi/anaconda3/lib/python3.12/site-packages (3.3.2)\n",
      "Requirement already satisfied: datasets in /home/jozoppi/anaconda3/lib/python3.12/site-packages (3.0.1)\n",
      "Requirement already satisfied: python-dateutil>=2.8.1 in /home/jozoppi/anaconda3/lib/python3.12/site-packages (from pandas) (2.9.0.post0)\n",
      "Requirement already satisfied: pytz>=2020.1 in /home/jozoppi/anaconda3/lib/python3.12/site-packages (from pandas) (2024.1)\n",
      "Requirement already satisfied: matplotlib!=3.6.1,>=3.4 in /home/jozoppi/anaconda3/lib/python3.12/site-packages (from seaborn) (3.7.5)\n",
      "Requirement already satisfied: pyloco>=0.0.134 in /home/jozoppi/anaconda3/lib/python3.12/site-packages (from matplot) (0.0.139)\n",
      "Requirement already satisfied: scipy>=1.6.0 in /home/jozoppi/anaconda3/lib/python3.12/site-packages (from scikit-learn) (1.11.4)\n",
      "Requirement already satisfied: joblib>=1.2.0 in /home/jozoppi/anaconda3/lib/python3.12/site-packages (from scikit-learn) (1.3.2)\n",
      "Requirement already satisfied: threadpoolctl>=2.0.0 in /home/jozoppi/anaconda3/lib/python3.12/site-packages (from scikit-learn) (2.2.0)\n",
      "Requirement already satisfied: cmdstanpy>=1.0.4 in /home/jozoppi/anaconda3/lib/python3.12/site-packages (from prophet) (1.2.4)\n",
      "Requirement already satisfied: holidays<1,>=0.25 in /home/jozoppi/anaconda3/lib/python3.12/site-packages (from prophet) (0.58)\n",
      "Requirement already satisfied: tqdm>=4.36.1 in /home/jozoppi/anaconda3/lib/python3.12/site-packages (from prophet) (4.66.4)\n",
      "Requirement already satisfied: importlib-resources in /home/jozoppi/anaconda3/lib/python3.12/site-packages (from prophet) (6.4.5)\n",
      "Requirement already satisfied: patsy>=0.5.6 in /home/jozoppi/anaconda3/lib/python3.12/site-packages (from statsmodels) (0.5.6)\n",
      "Requirement already satisfied: packaging>=21.3 in /home/jozoppi/anaconda3/lib/python3.12/site-packages (from statsmodels) (23.2)\n",
      "Requirement already satisfied: ipython>=5.5.0 in /home/jozoppi/anaconda3/lib/python3.12/site-packages (from pycaret) (8.25.0)\n",
      "Requirement already satisfied: ipywidgets>=7.6.5 in /home/jozoppi/anaconda3/lib/python3.12/site-packages (from pycaret) (7.8.1)\n",
      "Requirement already satisfied: jinja2>=3 in /home/jozoppi/anaconda3/lib/python3.12/site-packages (from pycaret) (3.1.4)\n",
      "Requirement already satisfied: pyod>=1.1.3 in /home/jozoppi/anaconda3/lib/python3.12/site-packages (from pycaret) (2.0.2)\n",
      "Requirement already satisfied: imbalanced-learn>=0.12.0 in /home/jozoppi/anaconda3/lib/python3.12/site-packages (from pycaret) (0.12.3)\n",
      "Requirement already satisfied: category-encoders>=2.4.0 in /home/jozoppi/anaconda3/lib/python3.12/site-packages (from pycaret) (2.6.4)\n",
      "Requirement already satisfied: lightgbm>=3.0.0 in /home/jozoppi/anaconda3/lib/python3.12/site-packages (from pycaret) (4.5.0)\n",
      "Requirement already satisfied: numba>=0.55.0 in /home/jozoppi/anaconda3/lib/python3.12/site-packages (from pycaret) (0.59.1)\n",
      "Requirement already satisfied: requests>=2.27.1 in /home/jozoppi/anaconda3/lib/python3.12/site-packages (from pycaret) (2.32.2)\n",
      "Requirement already satisfied: psutil>=5.9.0 in /home/jozoppi/anaconda3/lib/python3.12/site-packages (from pycaret) (5.9.0)\n",
      "Requirement already satisfied: markupsafe>=2.0.1 in /home/jozoppi/anaconda3/lib/python3.12/site-packages (from pycaret) (2.1.3)\n",
      "Requirement already satisfied: importlib-metadata>=4.12.0 in /home/jozoppi/anaconda3/lib/python3.12/site-packages (from pycaret) (7.0.1)\n",
      "Requirement already satisfied: nbformat>=4.2.0 in /home/jozoppi/anaconda3/lib/python3.12/site-packages (from pycaret) (5.9.2)\n",
      "Requirement already satisfied: cloudpickle in /home/jozoppi/anaconda3/lib/python3.12/site-packages (from pycaret) (2.2.1)\n",
      "Requirement already satisfied: deprecation>=2.1.0 in /home/jozoppi/anaconda3/lib/python3.12/site-packages (from pycaret) (2.1.0)\n",
      "Requirement already satisfied: xxhash in /home/jozoppi/anaconda3/lib/python3.12/site-packages (from pycaret) (3.5.0)\n",
      "Requirement already satisfied: scikit-plot>=0.3.7 in /home/jozoppi/anaconda3/lib/python3.12/site-packages (from pycaret) (0.3.7)\n",
      "Requirement already satisfied: yellowbrick>=1.4 in /home/jozoppi/anaconda3/lib/python3.12/site-packages (from pycaret) (1.5)\n",
      "Requirement already satisfied: plotly>=5.14.0 in /home/jozoppi/anaconda3/lib/python3.12/site-packages (from pycaret) (5.22.0)\n",
      "Requirement already satisfied: kaleido>=0.2.1 in /home/jozoppi/anaconda3/lib/python3.12/site-packages (from pycaret) (0.2.1)\n",
      "Requirement already satisfied: schemdraw==0.15 in /home/jozoppi/anaconda3/lib/python3.12/site-packages (from pycaret) (0.15)\n",
      "Requirement already satisfied: plotly-resampler>=0.8.3.1 in /home/jozoppi/anaconda3/lib/python3.12/site-packages (from pycaret) (0.10.0)\n",
      "Requirement already satisfied: sktime==0.26.0 in /home/jozoppi/anaconda3/lib/python3.12/site-packages (from pycaret) (0.26.0)\n",
      "Requirement already satisfied: tbats>=1.1.3 in /home/jozoppi/anaconda3/lib/python3.12/site-packages (from pycaret) (1.1.3)\n",
      "Requirement already satisfied: pmdarima>=2.0.4 in /home/jozoppi/anaconda3/lib/python3.12/site-packages (from pycaret) (2.0.4)\n",
      "Requirement already satisfied: wurlitzer in /home/jozoppi/anaconda3/lib/python3.12/site-packages (from pycaret) (3.0.2)\n",
      "Requirement already satisfied: scikit-base<0.8.0 in /home/jozoppi/anaconda3/lib/python3.12/site-packages (from sktime==0.26.0->pycaret) (0.7.8)\n",
      "Requirement already satisfied: filelock in /home/jozoppi/anaconda3/lib/python3.12/site-packages (from datasets) (3.13.1)\n",
      "Requirement already satisfied: dill<0.3.9,>=0.3.0 in /home/jozoppi/anaconda3/lib/python3.12/site-packages (from datasets) (0.3.8)\n",
      "Requirement already satisfied: multiprocess in /home/jozoppi/anaconda3/lib/python3.12/site-packages (from datasets) (0.70.16)\n",
      "Requirement already satisfied: fsspec<=2024.6.1,>=2023.1.0 in /home/jozoppi/anaconda3/lib/python3.12/site-packages (from fsspec[http]<=2024.6.1,>=2023.1.0->datasets) (2024.3.1)\n",
      "Requirement already satisfied: aiohttp in /home/jozoppi/anaconda3/lib/python3.12/site-packages (from datasets) (3.9.5)\n",
      "Requirement already satisfied: huggingface-hub>=0.22.0 in /home/jozoppi/anaconda3/lib/python3.12/site-packages (from datasets) (0.26.0)\n",
      "Requirement already satisfied: pyyaml>=5.1 in /home/jozoppi/anaconda3/lib/python3.12/site-packages (from datasets) (6.0.1)\n",
      "Requirement already satisfied: stanio<2.0.0,>=0.4.0 in /home/jozoppi/anaconda3/lib/python3.12/site-packages (from cmdstanpy>=1.0.4->prophet) (0.5.1)\n",
      "Requirement already satisfied: aiosignal>=1.1.2 in /home/jozoppi/anaconda3/lib/python3.12/site-packages (from aiohttp->datasets) (1.2.0)\n",
      "Requirement already satisfied: attrs>=17.3.0 in /home/jozoppi/anaconda3/lib/python3.12/site-packages (from aiohttp->datasets) (23.1.0)\n",
      "Requirement already satisfied: frozenlist>=1.1.1 in /home/jozoppi/anaconda3/lib/python3.12/site-packages (from aiohttp->datasets) (1.4.0)\n",
      "Requirement already satisfied: multidict<7.0,>=4.5 in /home/jozoppi/anaconda3/lib/python3.12/site-packages (from aiohttp->datasets) (6.0.4)\n",
      "Requirement already satisfied: yarl<2.0,>=1.0 in /home/jozoppi/anaconda3/lib/python3.12/site-packages (from aiohttp->datasets) (1.9.3)\n",
      "Requirement already satisfied: typing-extensions>=3.7.4.3 in /home/jozoppi/anaconda3/lib/python3.12/site-packages (from huggingface-hub>=0.22.0->datasets) (4.11.0)\n",
      "Requirement already satisfied: zipp>=0.5 in /home/jozoppi/anaconda3/lib/python3.12/site-packages (from importlib-metadata>=4.12.0->pycaret) (3.17.0)\n",
      "Requirement already satisfied: decorator in /home/jozoppi/anaconda3/lib/python3.12/site-packages (from ipython>=5.5.0->pycaret) (5.1.1)\n",
      "Requirement already satisfied: jedi>=0.16 in /home/jozoppi/anaconda3/lib/python3.12/site-packages (from ipython>=5.5.0->pycaret) (0.18.1)\n",
      "Requirement already satisfied: matplotlib-inline in /home/jozoppi/anaconda3/lib/python3.12/site-packages (from ipython>=5.5.0->pycaret) (0.1.6)\n",
      "Requirement already satisfied: prompt-toolkit<3.1.0,>=3.0.41 in /home/jozoppi/anaconda3/lib/python3.12/site-packages (from ipython>=5.5.0->pycaret) (3.0.43)\n",
      "Requirement already satisfied: pygments>=2.4.0 in /home/jozoppi/anaconda3/lib/python3.12/site-packages (from ipython>=5.5.0->pycaret) (2.15.1)\n",
      "Requirement already satisfied: stack-data in /home/jozoppi/anaconda3/lib/python3.12/site-packages (from ipython>=5.5.0->pycaret) (0.2.0)\n",
      "Requirement already satisfied: traitlets>=5.13.0 in /home/jozoppi/anaconda3/lib/python3.12/site-packages (from ipython>=5.5.0->pycaret) (5.14.3)\n",
      "Requirement already satisfied: pexpect>4.3 in /home/jozoppi/anaconda3/lib/python3.12/site-packages (from ipython>=5.5.0->pycaret) (4.8.0)\n",
      "Requirement already satisfied: comm>=0.1.3 in /home/jozoppi/anaconda3/lib/python3.12/site-packages (from ipywidgets>=7.6.5->pycaret) (0.2.1)\n",
      "Requirement already satisfied: ipython-genutils~=0.2.0 in /home/jozoppi/anaconda3/lib/python3.12/site-packages (from ipywidgets>=7.6.5->pycaret) (0.2.0)\n",
      "Requirement already satisfied: widgetsnbextension~=3.6.6 in /home/jozoppi/anaconda3/lib/python3.12/site-packages (from ipywidgets>=7.6.5->pycaret) (3.6.6)\n",
      "Requirement already satisfied: jupyterlab-widgets<3,>=1.0.0 in /home/jozoppi/anaconda3/lib/python3.12/site-packages (from ipywidgets>=7.6.5->pycaret) (1.0.0)\n",
      "Requirement already satisfied: contourpy>=1.0.1 in /home/jozoppi/anaconda3/lib/python3.12/site-packages (from matplotlib!=3.6.1,>=3.4->seaborn) (1.2.0)\n",
      "Requirement already satisfied: cycler>=0.10 in /home/jozoppi/anaconda3/lib/python3.12/site-packages (from matplotlib!=3.6.1,>=3.4->seaborn) (0.11.0)\n",
      "Requirement already satisfied: fonttools>=4.22.0 in /home/jozoppi/anaconda3/lib/python3.12/site-packages (from matplotlib!=3.6.1,>=3.4->seaborn) (4.51.0)\n",
      "Requirement already satisfied: kiwisolver>=1.0.1 in /home/jozoppi/anaconda3/lib/python3.12/site-packages (from matplotlib!=3.6.1,>=3.4->seaborn) (1.4.4)\n",
      "Requirement already satisfied: pillow>=6.2.0 in /home/jozoppi/anaconda3/lib/python3.12/site-packages (from matplotlib!=3.6.1,>=3.4->seaborn) (10.3.0)\n",
      "Requirement already satisfied: pyparsing>=2.3.1 in /home/jozoppi/anaconda3/lib/python3.12/site-packages (from matplotlib!=3.6.1,>=3.4->seaborn) (3.0.9)\n",
      "Requirement already satisfied: fastjsonschema in /home/jozoppi/anaconda3/lib/python3.12/site-packages (from nbformat>=4.2.0->pycaret) (2.16.2)\n",
      "Requirement already satisfied: jsonschema>=2.6 in /home/jozoppi/anaconda3/lib/python3.12/site-packages (from nbformat>=4.2.0->pycaret) (4.19.2)\n",
      "Requirement already satisfied: jupyter-core in /home/jozoppi/anaconda3/lib/python3.12/site-packages (from nbformat>=4.2.0->pycaret) (5.7.2)\n",
      "Requirement already satisfied: llvmlite<0.43,>=0.42.0dev0 in /home/jozoppi/anaconda3/lib/python3.12/site-packages (from numba>=0.55.0->pycaret) (0.42.0)\n",
      "Requirement already satisfied: six in /home/jozoppi/anaconda3/lib/python3.12/site-packages (from patsy>=0.5.6->statsmodels) (1.16.0)\n",
      "Requirement already satisfied: tenacity>=6.2.0 in /home/jozoppi/anaconda3/lib/python3.12/site-packages (from plotly>=5.14.0->pycaret) (8.2.2)\n",
      "Requirement already satisfied: dash>=2.9.0 in /home/jozoppi/anaconda3/lib/python3.12/site-packages (from plotly-resampler>=0.8.3.1->pycaret) (2.18.1)\n",
      "Requirement already satisfied: orjson<4.0.0,>=3.8.0 in /home/jozoppi/anaconda3/lib/python3.12/site-packages (from plotly-resampler>=0.8.3.1->pycaret) (3.10.7)\n",
      "Requirement already satisfied: tsdownsample>=0.1.3 in /home/jozoppi/anaconda3/lib/python3.12/site-packages (from plotly-resampler>=0.8.3.1->pycaret) (0.1.3)\n",
      "Requirement already satisfied: Cython!=0.29.18,!=0.29.31,>=0.29 in /home/jozoppi/anaconda3/lib/python3.12/site-packages (from pmdarima>=2.0.4->pycaret) (3.0.11)\n",
      "Requirement already satisfied: urllib3 in /home/jozoppi/anaconda3/lib/python3.12/site-packages (from pmdarima>=2.0.4->pycaret) (2.2.2)\n",
      "Requirement already satisfied: setuptools!=50.0.0,>=38.6.0 in /home/jozoppi/anaconda3/lib/python3.12/site-packages (from pmdarima>=2.0.4->pycaret) (69.5.1)\n",
      "Requirement already satisfied: ushlex in /home/jozoppi/anaconda3/lib/python3.12/site-packages (from pyloco>=0.0.134->matplot) (0.99.1)\n",
      "Requirement already satisfied: websocket-client in /home/jozoppi/anaconda3/lib/python3.12/site-packages (from pyloco>=0.0.134->matplot) (1.8.0)\n",
      "Requirement already satisfied: twine in /home/jozoppi/anaconda3/lib/python3.12/site-packages (from pyloco>=0.0.134->matplot) (5.1.1)\n",
      "Requirement already satisfied: typing in /home/jozoppi/anaconda3/lib/python3.12/site-packages (from pyloco>=0.0.134->matplot) (3.7.4.3)\n",
      "Requirement already satisfied: SimpleWebSocketServer in /home/jozoppi/anaconda3/lib/python3.12/site-packages (from pyloco>=0.0.134->matplot) (0.1.2)\n",
      "Requirement already satisfied: charset-normalizer<4,>=2 in /home/jozoppi/anaconda3/lib/python3.12/site-packages (from requests>=2.27.1->pycaret) (2.0.4)\n",
      "Requirement already satisfied: idna<4,>=2.5 in /home/jozoppi/anaconda3/lib/python3.12/site-packages (from requests>=2.27.1->pycaret) (3.7)\n",
      "Requirement already satisfied: certifi>=2017.4.17 in /home/jozoppi/anaconda3/lib/python3.12/site-packages (from requests>=2.27.1->pycaret) (2024.8.30)\n",
      "Requirement already satisfied: Flask<3.1,>=1.0.4 in /home/jozoppi/anaconda3/lib/python3.12/site-packages (from dash>=2.9.0->plotly-resampler>=0.8.3.1->pycaret) (3.0.3)\n",
      "Requirement already satisfied: Werkzeug<3.1 in /home/jozoppi/anaconda3/lib/python3.12/site-packages (from dash>=2.9.0->plotly-resampler>=0.8.3.1->pycaret) (3.0.3)\n",
      "Requirement already satisfied: dash-html-components==2.0.0 in /home/jozoppi/anaconda3/lib/python3.12/site-packages (from dash>=2.9.0->plotly-resampler>=0.8.3.1->pycaret) (2.0.0)\n",
      "Requirement already satisfied: dash-core-components==2.0.0 in /home/jozoppi/anaconda3/lib/python3.12/site-packages (from dash>=2.9.0->plotly-resampler>=0.8.3.1->pycaret) (2.0.0)\n",
      "Requirement already satisfied: dash-table==5.0.0 in /home/jozoppi/anaconda3/lib/python3.12/site-packages (from dash>=2.9.0->plotly-resampler>=0.8.3.1->pycaret) (5.0.0)\n",
      "Requirement already satisfied: retrying in /home/jozoppi/anaconda3/lib/python3.12/site-packages (from dash>=2.9.0->plotly-resampler>=0.8.3.1->pycaret) (1.3.4)\n",
      "Requirement already satisfied: nest-asyncio in /home/jozoppi/anaconda3/lib/python3.12/site-packages (from dash>=2.9.0->plotly-resampler>=0.8.3.1->pycaret) (1.6.0)\n",
      "Requirement already satisfied: parso<0.9.0,>=0.8.0 in /home/jozoppi/anaconda3/lib/python3.12/site-packages (from jedi>=0.16->ipython>=5.5.0->pycaret) (0.8.3)\n",
      "Requirement already satisfied: jsonschema-specifications>=2023.03.6 in /home/jozoppi/anaconda3/lib/python3.12/site-packages (from jsonschema>=2.6->nbformat>=4.2.0->pycaret) (2023.7.1)\n",
      "Requirement already satisfied: referencing>=0.28.4 in /home/jozoppi/anaconda3/lib/python3.12/site-packages (from jsonschema>=2.6->nbformat>=4.2.0->pycaret) (0.30.2)\n",
      "Requirement already satisfied: rpds-py>=0.7.1 in /home/jozoppi/anaconda3/lib/python3.12/site-packages (from jsonschema>=2.6->nbformat>=4.2.0->pycaret) (0.10.6)\n",
      "Requirement already satisfied: ptyprocess>=0.5 in /home/jozoppi/anaconda3/lib/python3.12/site-packages (from pexpect>4.3->ipython>=5.5.0->pycaret) (0.7.0)\n",
      "Requirement already satisfied: wcwidth in /home/jozoppi/anaconda3/lib/python3.12/site-packages (from prompt-toolkit<3.1.0,>=3.0.41->ipython>=5.5.0->pycaret) (0.2.5)\n",
      "Requirement already satisfied: notebook>=4.4.1 in /home/jozoppi/anaconda3/lib/python3.12/site-packages (from widgetsnbextension~=3.6.6->ipywidgets>=7.6.5->pycaret) (7.0.8)\n",
      "Requirement already satisfied: platformdirs>=2.5 in /home/jozoppi/anaconda3/lib/python3.12/site-packages (from jupyter-core->nbformat>=4.2.0->pycaret) (3.10.0)\n",
      "Requirement already satisfied: executing in /home/jozoppi/anaconda3/lib/python3.12/site-packages (from stack-data->ipython>=5.5.0->pycaret) (0.8.3)\n",
      "Requirement already satisfied: asttokens in /home/jozoppi/anaconda3/lib/python3.12/site-packages (from stack-data->ipython>=5.5.0->pycaret) (2.0.5)\n",
      "Requirement already satisfied: pure-eval in /home/jozoppi/anaconda3/lib/python3.12/site-packages (from stack-data->ipython>=5.5.0->pycaret) (0.2.2)\n",
      "Requirement already satisfied: pkginfo>=1.8.1 in /home/jozoppi/anaconda3/lib/python3.12/site-packages (from twine->pyloco>=0.0.134->matplot) (1.10.0)\n",
      "Requirement already satisfied: readme-renderer>=35.0 in /home/jozoppi/anaconda3/lib/python3.12/site-packages (from twine->pyloco>=0.0.134->matplot) (44.0)\n",
      "Requirement already satisfied: requests-toolbelt!=0.9.0,>=0.8.0 in /home/jozoppi/anaconda3/lib/python3.12/site-packages (from twine->pyloco>=0.0.134->matplot) (1.0.0)\n",
      "Requirement already satisfied: keyring>=15.1 in /home/jozoppi/anaconda3/lib/python3.12/site-packages (from twine->pyloco>=0.0.134->matplot) (24.3.1)\n",
      "Requirement already satisfied: rfc3986>=1.4.0 in /home/jozoppi/anaconda3/lib/python3.12/site-packages (from twine->pyloco>=0.0.134->matplot) (2.0.0)\n",
      "Requirement already satisfied: rich>=12.0.0 in /home/jozoppi/anaconda3/lib/python3.12/site-packages (from twine->pyloco>=0.0.134->matplot) (13.3.5)\n",
      "Requirement already satisfied: itsdangerous>=2.1.2 in /home/jozoppi/anaconda3/lib/python3.12/site-packages (from Flask<3.1,>=1.0.4->dash>=2.9.0->plotly-resampler>=0.8.3.1->pycaret) (2.2.0)\n",
      "Requirement already satisfied: click>=8.1.3 in /home/jozoppi/anaconda3/lib/python3.12/site-packages (from Flask<3.1,>=1.0.4->dash>=2.9.0->plotly-resampler>=0.8.3.1->pycaret) (8.1.7)\n",
      "Requirement already satisfied: blinker>=1.6.2 in /home/jozoppi/anaconda3/lib/python3.12/site-packages (from Flask<3.1,>=1.0.4->dash>=2.9.0->plotly-resampler>=0.8.3.1->pycaret) (1.6.2)\n",
      "Requirement already satisfied: jaraco.classes in /home/jozoppi/anaconda3/lib/python3.12/site-packages (from keyring>=15.1->twine->pyloco>=0.0.134->matplot) (3.2.1)\n",
      "Requirement already satisfied: SecretStorage>=3.2 in /home/jozoppi/anaconda3/lib/python3.12/site-packages (from keyring>=15.1->twine->pyloco>=0.0.134->matplot) (3.3.1)\n",
      "Requirement already satisfied: jeepney>=0.4.2 in /home/jozoppi/anaconda3/lib/python3.12/site-packages (from keyring>=15.1->twine->pyloco>=0.0.134->matplot) (0.7.1)\n",
      "Requirement already satisfied: jupyter-server<3,>=2.4.0 in /home/jozoppi/anaconda3/lib/python3.12/site-packages (from notebook>=4.4.1->widgetsnbextension~=3.6.6->ipywidgets>=7.6.5->pycaret) (2.14.1)\n",
      "Requirement already satisfied: jupyterlab-server<3,>=2.22.1 in /home/jozoppi/anaconda3/lib/python3.12/site-packages (from notebook>=4.4.1->widgetsnbextension~=3.6.6->ipywidgets>=7.6.5->pycaret) (2.25.1)\n",
      "Requirement already satisfied: jupyterlab<4.1,>=4.0.2 in /home/jozoppi/anaconda3/lib/python3.12/site-packages (from notebook>=4.4.1->widgetsnbextension~=3.6.6->ipywidgets>=7.6.5->pycaret) (4.0.11)\n",
      "Requirement already satisfied: notebook-shim<0.3,>=0.2 in /home/jozoppi/anaconda3/lib/python3.12/site-packages (from notebook>=4.4.1->widgetsnbextension~=3.6.6->ipywidgets>=7.6.5->pycaret) (0.2.3)\n",
      "Requirement already satisfied: tornado>=6.2.0 in /home/jozoppi/anaconda3/lib/python3.12/site-packages (from notebook>=4.4.1->widgetsnbextension~=3.6.6->ipywidgets>=7.6.5->pycaret) (6.4.1)\n",
      "Requirement already satisfied: nh3>=0.2.14 in /home/jozoppi/anaconda3/lib/python3.12/site-packages (from readme-renderer>=35.0->twine->pyloco>=0.0.134->matplot) (0.2.18)\n",
      "Requirement already satisfied: docutils>=0.21.2 in /home/jozoppi/anaconda3/lib/python3.12/site-packages (from readme-renderer>=35.0->twine->pyloco>=0.0.134->matplot) (0.21.2)\n",
      "Requirement already satisfied: markdown-it-py<3.0.0,>=2.2.0 in /home/jozoppi/anaconda3/lib/python3.12/site-packages (from rich>=12.0.0->twine->pyloco>=0.0.134->matplot) (2.2.0)\n",
      "Requirement already satisfied: anyio>=3.1.0 in /home/jozoppi/anaconda3/lib/python3.12/site-packages (from jupyter-server<3,>=2.4.0->notebook>=4.4.1->widgetsnbextension~=3.6.6->ipywidgets>=7.6.5->pycaret) (4.2.0)\n",
      "Requirement already satisfied: argon2-cffi>=21.1 in /home/jozoppi/anaconda3/lib/python3.12/site-packages (from jupyter-server<3,>=2.4.0->notebook>=4.4.1->widgetsnbextension~=3.6.6->ipywidgets>=7.6.5->pycaret) (21.3.0)\n",
      "Requirement already satisfied: jupyter-client>=7.4.4 in /home/jozoppi/anaconda3/lib/python3.12/site-packages (from jupyter-server<3,>=2.4.0->notebook>=4.4.1->widgetsnbextension~=3.6.6->ipywidgets>=7.6.5->pycaret) (8.6.0)\n",
      "Requirement already satisfied: jupyter-events>=0.9.0 in /home/jozoppi/anaconda3/lib/python3.12/site-packages (from jupyter-server<3,>=2.4.0->notebook>=4.4.1->widgetsnbextension~=3.6.6->ipywidgets>=7.6.5->pycaret) (0.10.0)\n",
      "Requirement already satisfied: jupyter-server-terminals>=0.4.4 in /home/jozoppi/anaconda3/lib/python3.12/site-packages (from jupyter-server<3,>=2.4.0->notebook>=4.4.1->widgetsnbextension~=3.6.6->ipywidgets>=7.6.5->pycaret) (0.4.4)\n",
      "Requirement already satisfied: nbconvert>=6.4.4 in /home/jozoppi/anaconda3/lib/python3.12/site-packages (from jupyter-server<3,>=2.4.0->notebook>=4.4.1->widgetsnbextension~=3.6.6->ipywidgets>=7.6.5->pycaret) (7.10.0)\n",
      "Requirement already satisfied: overrides>=5.0 in /home/jozoppi/anaconda3/lib/python3.12/site-packages (from jupyter-server<3,>=2.4.0->notebook>=4.4.1->widgetsnbextension~=3.6.6->ipywidgets>=7.6.5->pycaret) (7.4.0)\n",
      "Requirement already satisfied: prometheus-client>=0.9 in /home/jozoppi/anaconda3/lib/python3.12/site-packages (from jupyter-server<3,>=2.4.0->notebook>=4.4.1->widgetsnbextension~=3.6.6->ipywidgets>=7.6.5->pycaret) (0.14.1)\n",
      "Requirement already satisfied: pyzmq>=24 in /home/jozoppi/anaconda3/lib/python3.12/site-packages (from jupyter-server<3,>=2.4.0->notebook>=4.4.1->widgetsnbextension~=3.6.6->ipywidgets>=7.6.5->pycaret) (25.1.2)\n",
      "Requirement already satisfied: send2trash>=1.8.2 in /home/jozoppi/anaconda3/lib/python3.12/site-packages (from jupyter-server<3,>=2.4.0->notebook>=4.4.1->widgetsnbextension~=3.6.6->ipywidgets>=7.6.5->pycaret) (1.8.2)\n",
      "Requirement already satisfied: terminado>=0.8.3 in /home/jozoppi/anaconda3/lib/python3.12/site-packages (from jupyter-server<3,>=2.4.0->notebook>=4.4.1->widgetsnbextension~=3.6.6->ipywidgets>=7.6.5->pycaret) (0.17.1)\n",
      "Requirement already satisfied: async-lru>=1.0.0 in /home/jozoppi/anaconda3/lib/python3.12/site-packages (from jupyterlab<4.1,>=4.0.2->notebook>=4.4.1->widgetsnbextension~=3.6.6->ipywidgets>=7.6.5->pycaret) (2.0.4)\n",
      "Requirement already satisfied: ipykernel in /home/jozoppi/anaconda3/lib/python3.12/site-packages (from jupyterlab<4.1,>=4.0.2->notebook>=4.4.1->widgetsnbextension~=3.6.6->ipywidgets>=7.6.5->pycaret) (6.28.0)\n",
      "Requirement already satisfied: jupyter-lsp>=2.0.0 in /home/jozoppi/anaconda3/lib/python3.12/site-packages (from jupyterlab<4.1,>=4.0.2->notebook>=4.4.1->widgetsnbextension~=3.6.6->ipywidgets>=7.6.5->pycaret) (2.2.0)\n",
      "Requirement already satisfied: babel>=2.10 in /home/jozoppi/anaconda3/lib/python3.12/site-packages (from jupyterlab-server<3,>=2.22.1->notebook>=4.4.1->widgetsnbextension~=3.6.6->ipywidgets>=7.6.5->pycaret) (2.11.0)\n",
      "Requirement already satisfied: json5>=0.9.0 in /home/jozoppi/anaconda3/lib/python3.12/site-packages (from jupyterlab-server<3,>=2.22.1->notebook>=4.4.1->widgetsnbextension~=3.6.6->ipywidgets>=7.6.5->pycaret) (0.9.6)\n",
      "Requirement already satisfied: mdurl~=0.1 in /home/jozoppi/anaconda3/lib/python3.12/site-packages (from markdown-it-py<3.0.0,>=2.2.0->rich>=12.0.0->twine->pyloco>=0.0.134->matplot) (0.1.0)\n",
      "Requirement already satisfied: cryptography>=2.0 in /home/jozoppi/anaconda3/lib/python3.12/site-packages (from SecretStorage>=3.2->keyring>=15.1->twine->pyloco>=0.0.134->matplot) (42.0.5)\n",
      "Requirement already satisfied: more-itertools in /home/jozoppi/anaconda3/lib/python3.12/site-packages (from jaraco.classes->keyring>=15.1->twine->pyloco>=0.0.134->matplot) (10.1.0)\n",
      "Requirement already satisfied: sniffio>=1.1 in /home/jozoppi/anaconda3/lib/python3.12/site-packages (from anyio>=3.1.0->jupyter-server<3,>=2.4.0->notebook>=4.4.1->widgetsnbextension~=3.6.6->ipywidgets>=7.6.5->pycaret) (1.3.0)\n",
      "Requirement already satisfied: argon2-cffi-bindings in /home/jozoppi/anaconda3/lib/python3.12/site-packages (from argon2-cffi>=21.1->jupyter-server<3,>=2.4.0->notebook>=4.4.1->widgetsnbextension~=3.6.6->ipywidgets>=7.6.5->pycaret) (21.2.0)\n",
      "Requirement already satisfied: cffi>=1.12 in /home/jozoppi/anaconda3/lib/python3.12/site-packages (from cryptography>=2.0->SecretStorage>=3.2->keyring>=15.1->twine->pyloco>=0.0.134->matplot) (1.16.0)\n",
      "Requirement already satisfied: python-json-logger>=2.0.4 in /home/jozoppi/anaconda3/lib/python3.12/site-packages (from jupyter-events>=0.9.0->jupyter-server<3,>=2.4.0->notebook>=4.4.1->widgetsnbextension~=3.6.6->ipywidgets>=7.6.5->pycaret) (2.0.7)\n",
      "Requirement already satisfied: rfc3339-validator in /home/jozoppi/anaconda3/lib/python3.12/site-packages (from jupyter-events>=0.9.0->jupyter-server<3,>=2.4.0->notebook>=4.4.1->widgetsnbextension~=3.6.6->ipywidgets>=7.6.5->pycaret) (0.1.4)\n",
      "Requirement already satisfied: rfc3986-validator>=0.1.1 in /home/jozoppi/anaconda3/lib/python3.12/site-packages (from jupyter-events>=0.9.0->jupyter-server<3,>=2.4.0->notebook>=4.4.1->widgetsnbextension~=3.6.6->ipywidgets>=7.6.5->pycaret) (0.1.1)\n",
      "Requirement already satisfied: beautifulsoup4 in /home/jozoppi/anaconda3/lib/python3.12/site-packages (from nbconvert>=6.4.4->jupyter-server<3,>=2.4.0->notebook>=4.4.1->widgetsnbextension~=3.6.6->ipywidgets>=7.6.5->pycaret) (4.12.3)\n",
      "Requirement already satisfied: bleach!=5.0.0 in /home/jozoppi/anaconda3/lib/python3.12/site-packages (from nbconvert>=6.4.4->jupyter-server<3,>=2.4.0->notebook>=4.4.1->widgetsnbextension~=3.6.6->ipywidgets>=7.6.5->pycaret) (4.1.0)\n",
      "Requirement already satisfied: defusedxml in /home/jozoppi/anaconda3/lib/python3.12/site-packages (from nbconvert>=6.4.4->jupyter-server<3,>=2.4.0->notebook>=4.4.1->widgetsnbextension~=3.6.6->ipywidgets>=7.6.5->pycaret) (0.7.1)\n",
      "Requirement already satisfied: jupyterlab-pygments in /home/jozoppi/anaconda3/lib/python3.12/site-packages (from nbconvert>=6.4.4->jupyter-server<3,>=2.4.0->notebook>=4.4.1->widgetsnbextension~=3.6.6->ipywidgets>=7.6.5->pycaret) (0.1.2)\n",
      "Requirement already satisfied: mistune<4,>=2.0.3 in /home/jozoppi/anaconda3/lib/python3.12/site-packages (from nbconvert>=6.4.4->jupyter-server<3,>=2.4.0->notebook>=4.4.1->widgetsnbextension~=3.6.6->ipywidgets>=7.6.5->pycaret) (2.0.4)\n",
      "Requirement already satisfied: nbclient>=0.5.0 in /home/jozoppi/anaconda3/lib/python3.12/site-packages (from nbconvert>=6.4.4->jupyter-server<3,>=2.4.0->notebook>=4.4.1->widgetsnbextension~=3.6.6->ipywidgets>=7.6.5->pycaret) (0.8.0)\n",
      "Requirement already satisfied: pandocfilters>=1.4.1 in /home/jozoppi/anaconda3/lib/python3.12/site-packages (from nbconvert>=6.4.4->jupyter-server<3,>=2.4.0->notebook>=4.4.1->widgetsnbextension~=3.6.6->ipywidgets>=7.6.5->pycaret) (1.5.0)\n",
      "Requirement already satisfied: tinycss2 in /home/jozoppi/anaconda3/lib/python3.12/site-packages (from nbconvert>=6.4.4->jupyter-server<3,>=2.4.0->notebook>=4.4.1->widgetsnbextension~=3.6.6->ipywidgets>=7.6.5->pycaret) (1.2.1)\n",
      "Requirement already satisfied: debugpy>=1.6.5 in /home/jozoppi/anaconda3/lib/python3.12/site-packages (from ipykernel->jupyterlab<4.1,>=4.0.2->notebook>=4.4.1->widgetsnbextension~=3.6.6->ipywidgets>=7.6.5->pycaret) (1.6.7)\n",
      "Requirement already satisfied: webencodings in /home/jozoppi/anaconda3/lib/python3.12/site-packages (from bleach!=5.0.0->nbconvert>=6.4.4->jupyter-server<3,>=2.4.0->notebook>=4.4.1->widgetsnbextension~=3.6.6->ipywidgets>=7.6.5->pycaret) (0.5.1)\n",
      "Requirement already satisfied: pycparser in /home/jozoppi/anaconda3/lib/python3.12/site-packages (from cffi>=1.12->cryptography>=2.0->SecretStorage>=3.2->keyring>=15.1->twine->pyloco>=0.0.134->matplot) (2.21)\n",
      "Requirement already satisfied: fqdn in /home/jozoppi/anaconda3/lib/python3.12/site-packages (from jsonschema[format-nongpl]>=4.18.0->jupyter-events>=0.9.0->jupyter-server<3,>=2.4.0->notebook>=4.4.1->widgetsnbextension~=3.6.6->ipywidgets>=7.6.5->pycaret) (1.5.1)\n",
      "Requirement already satisfied: isoduration in /home/jozoppi/anaconda3/lib/python3.12/site-packages (from jsonschema[format-nongpl]>=4.18.0->jupyter-events>=0.9.0->jupyter-server<3,>=2.4.0->notebook>=4.4.1->widgetsnbextension~=3.6.6->ipywidgets>=7.6.5->pycaret) (20.11.0)\n",
      "Requirement already satisfied: jsonpointer>1.13 in /home/jozoppi/anaconda3/lib/python3.12/site-packages (from jsonschema[format-nongpl]>=4.18.0->jupyter-events>=0.9.0->jupyter-server<3,>=2.4.0->notebook>=4.4.1->widgetsnbextension~=3.6.6->ipywidgets>=7.6.5->pycaret) (2.1)\n",
      "Requirement already satisfied: uri-template in /home/jozoppi/anaconda3/lib/python3.12/site-packages (from jsonschema[format-nongpl]>=4.18.0->jupyter-events>=0.9.0->jupyter-server<3,>=2.4.0->notebook>=4.4.1->widgetsnbextension~=3.6.6->ipywidgets>=7.6.5->pycaret) (1.3.0)\n",
      "Requirement already satisfied: webcolors>=1.11 in /home/jozoppi/anaconda3/lib/python3.12/site-packages (from jsonschema[format-nongpl]>=4.18.0->jupyter-events>=0.9.0->jupyter-server<3,>=2.4.0->notebook>=4.4.1->widgetsnbextension~=3.6.6->ipywidgets>=7.6.5->pycaret) (24.8.0)\n",
      "Requirement already satisfied: soupsieve>1.2 in /home/jozoppi/anaconda3/lib/python3.12/site-packages (from beautifulsoup4->nbconvert>=6.4.4->jupyter-server<3,>=2.4.0->notebook>=4.4.1->widgetsnbextension~=3.6.6->ipywidgets>=7.6.5->pycaret) (2.5)\n",
      "Requirement already satisfied: arrow>=0.15.0 in /home/jozoppi/anaconda3/lib/python3.12/site-packages (from isoduration->jsonschema[format-nongpl]>=4.18.0->jupyter-events>=0.9.0->jupyter-server<3,>=2.4.0->notebook>=4.4.1->widgetsnbextension~=3.6.6->ipywidgets>=7.6.5->pycaret) (1.2.3)\n",
      "Trying to install bamboolib nbextension...\n",
      "Could not install bamboolib Jupyter Notebook extension because Jupyter Notebook is not available\n"
     ]
    }
   ],
   "source": [
    "!pip install bamboolib\n",
    "!pip install pandas numpy seaborn matplot scikit-learn pyarrow prophet statsmodels pycaret datasets \n",
    "!python -m bamboolib install_nbextensions"
   ]
  },
  {
   "cell_type": "code",
   "execution_count": null,
   "metadata": {},
   "outputs": [],
   "source": []
  },
  {
   "cell_type": "markdown",
   "metadata": {},
   "source": [
    "As first action we load the csv provided by Blastness and we create a dataset with columns names in English"
   ]
  },
  {
   "cell_type": "code",
   "execution_count": 2,
   "metadata": {},
   "outputs": [
    {
     "name": "stderr",
     "output_type": "stream",
     "text": [
      "/tmp/ipykernel_31877/2239760973.py:18: DtypeWarning: Columns (23,53,62,68,70,81) have mixed types. Specify dtype option on import or set low_memory=False.\n",
      "  df = pd.read_csv(f)\n",
      "/tmp/ipykernel_31877/2239760973.py:18: DtypeWarning: Columns (23,52,55,58,59,60,81,89,90,91) have mixed types. Specify dtype option on import or set low_memory=False.\n",
      "  df = pd.read_csv(f)\n",
      "/tmp/ipykernel_31877/2239760973.py:18: DtypeWarning: Columns (23,49,55,59,81,87,90) have mixed types. Specify dtype option on import or set low_memory=False.\n",
      "  df = pd.read_csv(f)\n",
      "/tmp/ipykernel_31877/2239760973.py:18: DtypeWarning: Columns (23,52,53,55,58,59,60,62,68,70,81,89,90,91) have mixed types. Specify dtype option on import or set low_memory=False.\n",
      "  df = pd.read_csv(f)\n"
     ]
    },
    {
     "data": {
      "text/html": [
       "<div>\n",
       "<style scoped>\n",
       "    .dataframe tbody tr th:only-of-type {\n",
       "        vertical-align: middle;\n",
       "    }\n",
       "\n",
       "    .dataframe tbody tr th {\n",
       "        vertical-align: top;\n",
       "    }\n",
       "\n",
       "    .dataframe thead th {\n",
       "        text-align: right;\n",
       "    }\n",
       "</style>\n",
       "<table border=\"1\" class=\"dataframe\">\n",
       "  <thead>\n",
       "    <tr style=\"text-align: right;\">\n",
       "      <th></th>\n",
       "      <th>Code</th>\n",
       "      <th>Status</th>\n",
       "      <th>BookingChannel</th>\n",
       "      <th>Arrival</th>\n",
       "      <th>Departure</th>\n",
       "      <th>Nights</th>\n",
       "      <th>Total</th>\n",
       "      <th>PurchaseDate</th>\n",
       "      <th>BookingDevice</th>\n",
       "      <th>LastModified</th>\n",
       "      <th>HotelId</th>\n",
       "    </tr>\n",
       "  </thead>\n",
       "  <tbody>\n",
       "    <tr>\n",
       "      <th>0</th>\n",
       "      <td>19887PMCMTT6</td>\n",
       "      <td>Cancellata</td>\n",
       "      <td>Sito</td>\n",
       "      <td>23/10/2021</td>\n",
       "      <td>30/10/2021</td>\n",
       "      <td>0</td>\n",
       "      <td>0,00</td>\n",
       "      <td>31/05/2021</td>\n",
       "      <td>Website</td>\n",
       "      <td>31/05/2021 17:37:31</td>\n",
       "      <td>010</td>\n",
       "    </tr>\n",
       "    <tr>\n",
       "      <th>1</th>\n",
       "      <td>19887FBFWGZ7</td>\n",
       "      <td>Confermata</td>\n",
       "      <td>Sito</td>\n",
       "      <td>31/07/2021</td>\n",
       "      <td>06/08/2021</td>\n",
       "      <td>6</td>\n",
       "      <td>2894,25</td>\n",
       "      <td>08/07/2021</td>\n",
       "      <td>Website</td>\n",
       "      <td>08/07/2021 22:23:51</td>\n",
       "      <td>010</td>\n",
       "    </tr>\n",
       "    <tr>\n",
       "      <th>2</th>\n",
       "      <td>19887JIZNTR8</td>\n",
       "      <td>Confermata</td>\n",
       "      <td>Sito</td>\n",
       "      <td>23/10/2021</td>\n",
       "      <td>26/10/2021</td>\n",
       "      <td>3</td>\n",
       "      <td>2142,00</td>\n",
       "      <td>04/10/2021</td>\n",
       "      <td>Website</td>\n",
       "      <td>04/10/2021 21:24:49</td>\n",
       "      <td>010</td>\n",
       "    </tr>\n",
       "    <tr>\n",
       "      <th>3</th>\n",
       "      <td>19887CNIHY10</td>\n",
       "      <td>Confermata</td>\n",
       "      <td>Sito</td>\n",
       "      <td>23/11/2022</td>\n",
       "      <td>28/11/2022</td>\n",
       "      <td>5</td>\n",
       "      <td>3696,00</td>\n",
       "      <td>01/06/2022</td>\n",
       "      <td>Website</td>\n",
       "      <td>01/06/2022 10:46:15</td>\n",
       "      <td>010</td>\n",
       "    </tr>\n",
       "    <tr>\n",
       "      <th>4</th>\n",
       "      <td>19887GOAMJ11</td>\n",
       "      <td>Confermata</td>\n",
       "      <td>Sito</td>\n",
       "      <td>11/10/2022</td>\n",
       "      <td>15/10/2022</td>\n",
       "      <td>4</td>\n",
       "      <td>4488,00</td>\n",
       "      <td>26/06/2022</td>\n",
       "      <td>Website</td>\n",
       "      <td>26/06/2022 04:14:05</td>\n",
       "      <td>010</td>\n",
       "    </tr>\n",
       "  </tbody>\n",
       "</table>\n",
       "</div>"
      ],
      "text/plain": [
       "           Code      Status BookingChannel     Arrival   Departure  Nights  \\\n",
       "0  19887PMCMTT6  Cancellata           Sito  23/10/2021  30/10/2021       0   \n",
       "1  19887FBFWGZ7  Confermata           Sito  31/07/2021  06/08/2021       6   \n",
       "2  19887JIZNTR8  Confermata           Sito  23/10/2021  26/10/2021       3   \n",
       "3  19887CNIHY10  Confermata           Sito  23/11/2022  28/11/2022       5   \n",
       "4  19887GOAMJ11  Confermata           Sito  11/10/2022  15/10/2022       4   \n",
       "\n",
       "     Total PurchaseDate BookingDevice         LastModified HotelId  \n",
       "0     0,00   31/05/2021       Website  31/05/2021 17:37:31     010  \n",
       "1  2894,25   08/07/2021       Website  08/07/2021 22:23:51     010  \n",
       "2  2142,00   04/10/2021       Website  04/10/2021 21:24:49     010  \n",
       "3  3696,00   01/06/2022       Website  01/06/2022 10:46:15     010  \n",
       "4  4488,00   26/06/2022       Website  26/06/2022 04:14:05     010  "
      ]
     },
     "execution_count": 2,
     "metadata": {},
     "output_type": "execute_result"
    }
   ],
   "source": [
    "\n",
    "import glob\n",
    "import pandas as pd\n",
    "filelist = glob.glob('./hoteldataset/*.csv')\n",
    "hotelsbookings = []\n",
    "column_mapping = {\n",
    "    'Codice': 'Code',\n",
    "    'Status': 'Status',\n",
    "    'Canale': 'BookingChannel',\n",
    "    'Arrivo': 'Arrival',\n",
    "    'Partenza': 'Departure',\n",
    "    'Notti': 'Nights',\n",
    "    'Totale': 'Total',\n",
    "    'Data acquisto': 'PurchaseDate',\n",
    "    'Dispositivo': 'BookingDevice',\n",
    "    'Data Ultima Modifica/Cancellazione': 'LastModified'\n",
    "}\n",
    "for idx,f in enumerate(filelist):\n",
    "    df = pd.read_csv(f)\n",
    "    select_columns = list(column_mapping.keys())\n",
    "    current_df = df[select_columns]\n",
    "    remap = current_df.rename(columns=column_mapping)\n",
    "    hotel_id = \"\"\n",
    "    if idx < 9:\n",
    "        hotel_id=f'00{idx+1}'\n",
    "    else:\n",
    "        hotel_id=f'0{idx+1}'\n",
    "\n",
    "    remap['HotelId'] = hotel_id\n",
    "    hotelsbookings.append(remap)\n",
    "hotelsbookings[9].head()\n"
   ]
  },
  {
   "cell_type": "markdown",
   "metadata": {},
   "source": [
    "Now we merge all hotels in a single dataframe and save to disk. We note that we need to divide cancelled and confirmed booking. Later since we want do forecast on the confirmed.\n",
    "- Also we need to categorize the origin\n",
    "- remove the booking device.\n",
    "\n",
    "First we merge."
   ]
  },
  {
   "cell_type": "code",
   "execution_count": 3,
   "metadata": {},
   "outputs": [
    {
     "name": "stdout",
     "output_type": "stream",
     "text": [
      "Merged DataFrame:\n",
      "                         Code      Status BookingChannel     Arrival  \\\n",
      "0       1400576136/1204413850  Cancellata    Booking.com  22/07/2017   \n",
      "1       1240874198/1204820657  Cancellata    Booking.com  15/07/2017   \n",
      "2       1656344835/1204828455  Cancellata    Booking.com  22/07/2017   \n",
      "3       1656344835/1204828455  Cancellata    Booking.com  22/07/2017   \n",
      "4       1656344835/1204828455  Cancellata    Booking.com  22/07/2017   \n",
      "...                       ...         ...            ...         ...   \n",
      "151852           19887FIHJR22  Confermata           Sito  19/10/2023   \n",
      "151853           19887DOSJP23  Confermata           Sito  10/06/2023   \n",
      "151854           19887KTDJJ24  Confermata           Sito  18/07/2023   \n",
      "151855           19887LNQHJ25  Confermata           Sito  24/04/2023   \n",
      "151856           19887IENNC26  Confermata           Sito  18/09/2023   \n",
      "\n",
      "         Departure  Nights    Total PurchaseDate BookingDevice  \\\n",
      "0       29/07/2017       0     0,00   01/01/2017           NaN   \n",
      "1       02/08/2017       0     0,00   01/01/2017           NaN   \n",
      "2       09/08/2017       0     0,00   01/01/2017           NaN   \n",
      "3       09/08/2017       0     0,00   01/01/2017           NaN   \n",
      "4       09/08/2017       0     0,00   01/01/2017           NaN   \n",
      "...            ...     ...      ...          ...           ...   \n",
      "151852  22/10/2023       3  3080,00   11/03/2023       Website   \n",
      "151853  12/06/2023       2  2112,00   17/03/2023       Website   \n",
      "151854  20/07/2023       2  2112,00   02/04/2023        Mobile   \n",
      "151855  27/04/2023       3  2640,00   08/04/2023       Website   \n",
      "151856  21/09/2023       3  3168,00   03/06/2023       Website   \n",
      "\n",
      "               LastModified HotelId  \n",
      "0       01/01/2017 15:27:39     001  \n",
      "1       01/01/2017 23:13:49     001  \n",
      "2       11/01/2017 21:59:16     001  \n",
      "3       10/01/2017 22:10:56     001  \n",
      "4       11/01/2017 21:59:16     001  \n",
      "...                     ...     ...  \n",
      "151852  11/03/2023 10:15:06     010  \n",
      "151853  17/03/2023 17:33:23     010  \n",
      "151854  02/04/2023 09:55:59     010  \n",
      "151855  08/04/2023 20:06:59     010  \n",
      "151856  03/06/2023 12:55:03     010  \n",
      "\n",
      "[151857 rows x 11 columns]\n"
     ]
    }
   ],
   "source": [
    "# Merge DataFrames\n",
    "merged_df = pd.concat(hotelsbookings, ignore_index=True)\n",
    "# Display the merged DataFrame\n",
    "print(\"Merged DataFrame:\")\n",
    "print(merged_df)"
   ]
  },
  {
   "cell_type": "markdown",
   "metadata": {},
   "source": [
    "Ok, we've seen a lot of not known or bad data. Just clean it. We want order by date, in descending mode and take only the last 2 years"
   ]
  },
  {
   "cell_type": "code",
   "execution_count": 4,
   "metadata": {},
   "outputs": [
    {
     "data": {
      "text/html": [
       "<div>\n",
       "<style scoped>\n",
       "    .dataframe tbody tr th:only-of-type {\n",
       "        vertical-align: middle;\n",
       "    }\n",
       "\n",
       "    .dataframe tbody tr th {\n",
       "        vertical-align: top;\n",
       "    }\n",
       "\n",
       "    .dataframe thead th {\n",
       "        text-align: right;\n",
       "    }\n",
       "</style>\n",
       "<table border=\"1\" class=\"dataframe\">\n",
       "  <thead>\n",
       "    <tr style=\"text-align: right;\">\n",
       "      <th></th>\n",
       "      <th>Code</th>\n",
       "      <th>Status</th>\n",
       "      <th>BookingChannel</th>\n",
       "      <th>Arrival</th>\n",
       "      <th>Departure</th>\n",
       "      <th>Nights</th>\n",
       "      <th>Total</th>\n",
       "      <th>PurchaseDate</th>\n",
       "      <th>BookingDevice</th>\n",
       "      <th>LastModified</th>\n",
       "      <th>HotelId</th>\n",
       "    </tr>\n",
       "  </thead>\n",
       "  <tbody>\n",
       "    <tr>\n",
       "      <th>0</th>\n",
       "      <td>1400576136/1204413850</td>\n",
       "      <td>Cancellata</td>\n",
       "      <td>Booking.com</td>\n",
       "      <td>22/07/2017</td>\n",
       "      <td>29/07/2017</td>\n",
       "      <td>0</td>\n",
       "      <td>0,00</td>\n",
       "      <td>01/01/2017</td>\n",
       "      <td>NaN</td>\n",
       "      <td>01/01/2017 15:27:39</td>\n",
       "      <td>001</td>\n",
       "    </tr>\n",
       "    <tr>\n",
       "      <th>1</th>\n",
       "      <td>1240874198/1204820657</td>\n",
       "      <td>Cancellata</td>\n",
       "      <td>Booking.com</td>\n",
       "      <td>15/07/2017</td>\n",
       "      <td>02/08/2017</td>\n",
       "      <td>0</td>\n",
       "      <td>0,00</td>\n",
       "      <td>01/01/2017</td>\n",
       "      <td>NaN</td>\n",
       "      <td>01/01/2017 23:13:49</td>\n",
       "      <td>001</td>\n",
       "    </tr>\n",
       "    <tr>\n",
       "      <th>2</th>\n",
       "      <td>1656344835/1204828455</td>\n",
       "      <td>Cancellata</td>\n",
       "      <td>Booking.com</td>\n",
       "      <td>22/07/2017</td>\n",
       "      <td>09/08/2017</td>\n",
       "      <td>0</td>\n",
       "      <td>0,00</td>\n",
       "      <td>01/01/2017</td>\n",
       "      <td>NaN</td>\n",
       "      <td>11/01/2017 21:59:16</td>\n",
       "      <td>001</td>\n",
       "    </tr>\n",
       "    <tr>\n",
       "      <th>3</th>\n",
       "      <td>1656344835/1204828455</td>\n",
       "      <td>Cancellata</td>\n",
       "      <td>Booking.com</td>\n",
       "      <td>22/07/2017</td>\n",
       "      <td>09/08/2017</td>\n",
       "      <td>0</td>\n",
       "      <td>0,00</td>\n",
       "      <td>01/01/2017</td>\n",
       "      <td>NaN</td>\n",
       "      <td>10/01/2017 22:10:56</td>\n",
       "      <td>001</td>\n",
       "    </tr>\n",
       "    <tr>\n",
       "      <th>4</th>\n",
       "      <td>1656344835/1204828455</td>\n",
       "      <td>Cancellata</td>\n",
       "      <td>Booking.com</td>\n",
       "      <td>22/07/2017</td>\n",
       "      <td>09/08/2017</td>\n",
       "      <td>0</td>\n",
       "      <td>0,00</td>\n",
       "      <td>01/01/2017</td>\n",
       "      <td>NaN</td>\n",
       "      <td>11/01/2017 21:59:16</td>\n",
       "      <td>001</td>\n",
       "    </tr>\n",
       "  </tbody>\n",
       "</table>\n",
       "</div>"
      ],
      "text/plain": [
       "                    Code      Status BookingChannel     Arrival   Departure  \\\n",
       "0  1400576136/1204413850  Cancellata    Booking.com  22/07/2017  29/07/2017   \n",
       "1  1240874198/1204820657  Cancellata    Booking.com  15/07/2017  02/08/2017   \n",
       "2  1656344835/1204828455  Cancellata    Booking.com  22/07/2017  09/08/2017   \n",
       "3  1656344835/1204828455  Cancellata    Booking.com  22/07/2017  09/08/2017   \n",
       "4  1656344835/1204828455  Cancellata    Booking.com  22/07/2017  09/08/2017   \n",
       "\n",
       "   Nights Total PurchaseDate BookingDevice         LastModified HotelId  \n",
       "0       0  0,00   01/01/2017           NaN  01/01/2017 15:27:39     001  \n",
       "1       0  0,00   01/01/2017           NaN  01/01/2017 23:13:49     001  \n",
       "2       0  0,00   01/01/2017           NaN  11/01/2017 21:59:16     001  \n",
       "3       0  0,00   01/01/2017           NaN  10/01/2017 22:10:56     001  \n",
       "4       0  0,00   01/01/2017           NaN  11/01/2017 21:59:16     001  "
      ]
     },
     "execution_count": 4,
     "metadata": {},
     "output_type": "execute_result"
    }
   ],
   "source": [
    "merged_df.head()"
   ]
  },
  {
   "cell_type": "code",
   "execution_count": 5,
   "metadata": {},
   "outputs": [
    {
     "name": "stderr",
     "output_type": "stream",
     "text": [
      "/tmp/ipykernel_31877/459522789.py:1: UserWarning: Parsing dates in DD/MM/YYYY format when dayfirst=False (the default) was specified. This may lead to inconsistently parsed dates! Specify a format to ensure consistent parsing.\n",
      "  merged_df['Arrival'] = pd.to_datetime(merged_df['Arrival'])\n"
     ]
    },
    {
     "data": {
      "text/html": [
       "<div>\n",
       "<style scoped>\n",
       "    .dataframe tbody tr th:only-of-type {\n",
       "        vertical-align: middle;\n",
       "    }\n",
       "\n",
       "    .dataframe tbody tr th {\n",
       "        vertical-align: top;\n",
       "    }\n",
       "\n",
       "    .dataframe thead th {\n",
       "        text-align: right;\n",
       "    }\n",
       "</style>\n",
       "<table border=\"1\" class=\"dataframe\">\n",
       "  <thead>\n",
       "    <tr style=\"text-align: right;\">\n",
       "      <th></th>\n",
       "      <th>Code</th>\n",
       "      <th>Status</th>\n",
       "      <th>BookingChannel</th>\n",
       "      <th>Arrival</th>\n",
       "      <th>Departure</th>\n",
       "      <th>Nights</th>\n",
       "      <th>Total</th>\n",
       "      <th>PurchaseDate</th>\n",
       "      <th>BookingDevice</th>\n",
       "      <th>LastModified</th>\n",
       "      <th>HotelId</th>\n",
       "    </tr>\n",
       "  </thead>\n",
       "  <tbody>\n",
       "    <tr>\n",
       "      <th>151852</th>\n",
       "      <td>19887FIHJR22</td>\n",
       "      <td>Confermata</td>\n",
       "      <td>Sito</td>\n",
       "      <td>2023-10-19</td>\n",
       "      <td>22/10/2023</td>\n",
       "      <td>3</td>\n",
       "      <td>3080,00</td>\n",
       "      <td>11/03/2023</td>\n",
       "      <td>Website</td>\n",
       "      <td>11/03/2023 10:15:06</td>\n",
       "      <td>010</td>\n",
       "    </tr>\n",
       "    <tr>\n",
       "      <th>151853</th>\n",
       "      <td>19887DOSJP23</td>\n",
       "      <td>Confermata</td>\n",
       "      <td>Sito</td>\n",
       "      <td>2023-10-06</td>\n",
       "      <td>12/06/2023</td>\n",
       "      <td>2</td>\n",
       "      <td>2112,00</td>\n",
       "      <td>17/03/2023</td>\n",
       "      <td>Website</td>\n",
       "      <td>17/03/2023 17:33:23</td>\n",
       "      <td>010</td>\n",
       "    </tr>\n",
       "    <tr>\n",
       "      <th>151849</th>\n",
       "      <td>19887VFAUN19</td>\n",
       "      <td>Confermata</td>\n",
       "      <td>Sito</td>\n",
       "      <td>2023-09-26</td>\n",
       "      <td>28/09/2023</td>\n",
       "      <td>2</td>\n",
       "      <td>1760,00</td>\n",
       "      <td>02/02/2023</td>\n",
       "      <td>Website</td>\n",
       "      <td>02/02/2023 16:43:04</td>\n",
       "      <td>010</td>\n",
       "    </tr>\n",
       "    <tr>\n",
       "      <th>151856</th>\n",
       "      <td>19887IENNC26</td>\n",
       "      <td>Confermata</td>\n",
       "      <td>Sito</td>\n",
       "      <td>2023-09-18</td>\n",
       "      <td>21/09/2023</td>\n",
       "      <td>3</td>\n",
       "      <td>3168,00</td>\n",
       "      <td>03/06/2023</td>\n",
       "      <td>Website</td>\n",
       "      <td>03/06/2023 12:55:03</td>\n",
       "      <td>010</td>\n",
       "    </tr>\n",
       "    <tr>\n",
       "      <th>151850</th>\n",
       "      <td>19887VNOHO20</td>\n",
       "      <td>Confermata</td>\n",
       "      <td>Sito</td>\n",
       "      <td>2023-08-25</td>\n",
       "      <td>27/08/2023</td>\n",
       "      <td>2</td>\n",
       "      <td>1496,00</td>\n",
       "      <td>09/03/2023</td>\n",
       "      <td>Website</td>\n",
       "      <td>09/03/2023 20:00:03</td>\n",
       "      <td>010</td>\n",
       "    </tr>\n",
       "  </tbody>\n",
       "</table>\n",
       "</div>"
      ],
      "text/plain": [
       "                Code      Status BookingChannel    Arrival   Departure  \\\n",
       "151852  19887FIHJR22  Confermata           Sito 2023-10-19  22/10/2023   \n",
       "151853  19887DOSJP23  Confermata           Sito 2023-10-06  12/06/2023   \n",
       "151849  19887VFAUN19  Confermata           Sito 2023-09-26  28/09/2023   \n",
       "151856  19887IENNC26  Confermata           Sito 2023-09-18  21/09/2023   \n",
       "151850  19887VNOHO20  Confermata           Sito 2023-08-25  27/08/2023   \n",
       "\n",
       "        Nights    Total PurchaseDate BookingDevice         LastModified  \\\n",
       "151852       3  3080,00   11/03/2023       Website  11/03/2023 10:15:06   \n",
       "151853       2  2112,00   17/03/2023       Website  17/03/2023 17:33:23   \n",
       "151849       2  1760,00   02/02/2023       Website  02/02/2023 16:43:04   \n",
       "151856       3  3168,00   03/06/2023       Website  03/06/2023 12:55:03   \n",
       "151850       2  1496,00   09/03/2023       Website  09/03/2023 20:00:03   \n",
       "\n",
       "       HotelId  \n",
       "151852     010  \n",
       "151853     010  \n",
       "151849     010  \n",
       "151856     010  \n",
       "151850     010  "
      ]
     },
     "execution_count": 5,
     "metadata": {},
     "output_type": "execute_result"
    }
   ],
   "source": [
    "merged_df['Arrival'] = pd.to_datetime(merged_df['Arrival'])\n",
    "# Sorting by 'Arrival' column in descending order\n",
    "sorted_bookings_df = merged_df.sort_values(by='Arrival', ascending=False)\n",
    "# Filtering for HotelId '001'\n",
    "filtered_df = sorted_bookings_df.loc[sorted_bookings_df['HotelId'] == '010']\n",
    "filtered_df.head()"
   ]
  },
  {
   "cell_type": "markdown",
   "metadata": {},
   "source": [
    "Now I convert datates to timestamps"
   ]
  },
  {
   "cell_type": "code",
   "execution_count": 6,
   "metadata": {},
   "outputs": [
    {
     "name": "stdout",
     "output_type": "stream",
     "text": [
      "Rows with NaN in 'Arrival': 0\n",
      "Rows with NaN in 'Departure': 0\n"
     ]
    },
    {
     "data": {
      "text/html": [
       "<div>\n",
       "<style scoped>\n",
       "    .dataframe tbody tr th:only-of-type {\n",
       "        vertical-align: middle;\n",
       "    }\n",
       "\n",
       "    .dataframe tbody tr th {\n",
       "        vertical-align: top;\n",
       "    }\n",
       "\n",
       "    .dataframe thead th {\n",
       "        text-align: right;\n",
       "    }\n",
       "</style>\n",
       "<table border=\"1\" class=\"dataframe\">\n",
       "  <thead>\n",
       "    <tr style=\"text-align: right;\">\n",
       "      <th></th>\n",
       "      <th>Code</th>\n",
       "      <th>Status</th>\n",
       "      <th>BookingChannel</th>\n",
       "      <th>Arrival</th>\n",
       "      <th>Departure</th>\n",
       "      <th>Nights</th>\n",
       "      <th>Total</th>\n",
       "      <th>PurchaseDate</th>\n",
       "      <th>BookingDevice</th>\n",
       "      <th>LastModified</th>\n",
       "      <th>HotelId</th>\n",
       "      <th>Arrival_Timestamp</th>\n",
       "      <th>Departure_Timestamp</th>\n",
       "      <th>LastModified_Timestamp</th>\n",
       "      <th>Purchase_Timestamp</th>\n",
       "    </tr>\n",
       "  </thead>\n",
       "  <tbody>\n",
       "    <tr>\n",
       "      <th>60363</th>\n",
       "      <td>16134HN15330</td>\n",
       "      <td>Confermata</td>\n",
       "      <td>Sito</td>\n",
       "      <td>2024-11-02</td>\n",
       "      <td>2024-02-18</td>\n",
       "      <td>7</td>\n",
       "      <td>3208.0</td>\n",
       "      <td>2023-03-22</td>\n",
       "      <td>Website</td>\n",
       "      <td>2023-03-22 23:03:58</td>\n",
       "      <td>006</td>\n",
       "      <td>1730505600000000000</td>\n",
       "      <td>1708214400000000000</td>\n",
       "      <td>2023-03-22 23:03:58</td>\n",
       "      <td>1679443200000000000</td>\n",
       "    </tr>\n",
       "    <tr>\n",
       "      <th>60681</th>\n",
       "      <td>3379360609/4257615568</td>\n",
       "      <td>Confermata</td>\n",
       "      <td>Booking.com</td>\n",
       "      <td>2024-10-02</td>\n",
       "      <td>2024-02-17</td>\n",
       "      <td>7</td>\n",
       "      <td>5130.0</td>\n",
       "      <td>2023-05-20</td>\n",
       "      <td>NaN</td>\n",
       "      <td>2023-05-20 10:06:11</td>\n",
       "      <td>006</td>\n",
       "      <td>1727827200000000000</td>\n",
       "      <td>1708128000000000000</td>\n",
       "      <td>2023-05-20 10:06:11</td>\n",
       "      <td>1684540800000000000</td>\n",
       "    </tr>\n",
       "    <tr>\n",
       "      <th>60413</th>\n",
       "      <td>2640244691/4170868985</td>\n",
       "      <td>Confermata</td>\n",
       "      <td>Booking.com</td>\n",
       "      <td>2024-10-02</td>\n",
       "      <td>2024-02-17</td>\n",
       "      <td>7</td>\n",
       "      <td>4887.0</td>\n",
       "      <td>2023-04-01</td>\n",
       "      <td>NaN</td>\n",
       "      <td>2023-04-01 14:27:37</td>\n",
       "      <td>006</td>\n",
       "      <td>1727827200000000000</td>\n",
       "      <td>1708128000000000000</td>\n",
       "      <td>2023-04-01 14:27:37</td>\n",
       "      <td>1680307200000000000</td>\n",
       "    </tr>\n",
       "    <tr>\n",
       "      <th>60411</th>\n",
       "      <td>2641625582/4170854126</td>\n",
       "      <td>Confermata</td>\n",
       "      <td>Booking.com</td>\n",
       "      <td>2024-10-02</td>\n",
       "      <td>2024-02-17</td>\n",
       "      <td>7</td>\n",
       "      <td>1968.3</td>\n",
       "      <td>2023-04-01</td>\n",
       "      <td>NaN</td>\n",
       "      <td>2023-04-01 14:17:14</td>\n",
       "      <td>006</td>\n",
       "      <td>1727827200000000000</td>\n",
       "      <td>1708128000000000000</td>\n",
       "      <td>2023-04-01 14:17:14</td>\n",
       "      <td>1680307200000000000</td>\n",
       "    </tr>\n",
       "    <tr>\n",
       "      <th>60410</th>\n",
       "      <td>2641625582/4170854114</td>\n",
       "      <td>Confermata</td>\n",
       "      <td>Booking.com</td>\n",
       "      <td>2024-10-02</td>\n",
       "      <td>2024-02-17</td>\n",
       "      <td>7</td>\n",
       "      <td>1871.1</td>\n",
       "      <td>2023-04-01</td>\n",
       "      <td>NaN</td>\n",
       "      <td>2023-04-01 14:17:14</td>\n",
       "      <td>006</td>\n",
       "      <td>1727827200000000000</td>\n",
       "      <td>1708128000000000000</td>\n",
       "      <td>2023-04-01 14:17:14</td>\n",
       "      <td>1680307200000000000</td>\n",
       "    </tr>\n",
       "  </tbody>\n",
       "</table>\n",
       "</div>"
      ],
      "text/plain": [
       "                        Code      Status BookingChannel    Arrival  Departure  \\\n",
       "60363           16134HN15330  Confermata           Sito 2024-11-02 2024-02-18   \n",
       "60681  3379360609/4257615568  Confermata    Booking.com 2024-10-02 2024-02-17   \n",
       "60413  2640244691/4170868985  Confermata    Booking.com 2024-10-02 2024-02-17   \n",
       "60411  2641625582/4170854126  Confermata    Booking.com 2024-10-02 2024-02-17   \n",
       "60410  2641625582/4170854114  Confermata    Booking.com 2024-10-02 2024-02-17   \n",
       "\n",
       "       Nights   Total PurchaseDate BookingDevice        LastModified HotelId  \\\n",
       "60363       7  3208.0   2023-03-22       Website 2023-03-22 23:03:58     006   \n",
       "60681       7  5130.0   2023-05-20           NaN 2023-05-20 10:06:11     006   \n",
       "60413       7  4887.0   2023-04-01           NaN 2023-04-01 14:27:37     006   \n",
       "60411       7  1968.3   2023-04-01           NaN 2023-04-01 14:17:14     006   \n",
       "60410       7  1871.1   2023-04-01           NaN 2023-04-01 14:17:14     006   \n",
       "\n",
       "         Arrival_Timestamp  Departure_Timestamp LastModified_Timestamp  \\\n",
       "60363  1730505600000000000  1708214400000000000    2023-03-22 23:03:58   \n",
       "60681  1727827200000000000  1708128000000000000    2023-05-20 10:06:11   \n",
       "60413  1727827200000000000  1708128000000000000    2023-04-01 14:27:37   \n",
       "60411  1727827200000000000  1708128000000000000    2023-04-01 14:17:14   \n",
       "60410  1727827200000000000  1708128000000000000    2023-04-01 14:17:14   \n",
       "\n",
       "        Purchase_Timestamp  \n",
       "60363  1679443200000000000  \n",
       "60681  1684540800000000000  \n",
       "60413  1680307200000000000  \n",
       "60411  1680307200000000000  \n",
       "60410  1680307200000000000  "
      ]
     },
     "execution_count": 6,
     "metadata": {},
     "output_type": "execute_result"
    }
   ],
   "source": [
    "# Filtering for HotelId '001'\n",
    "nan_rows = sorted_bookings_df[sorted_bookings_df['Arrival'].isna()]\n",
    "print(\"Rows with NaN in 'Arrival':\", len(nan_rows))\n",
    "nan_rows = sorted_bookings_df[sorted_bookings_df['Departure'].isna()]\n",
    "print(\"Rows with NaN in 'Departure':\", len(nan_rows))\n",
    "# conversion in datetime\n",
    "sorted_bookings_df['Arrival'] = pd.to_datetime(sorted_bookings_df['Arrival'], errors='coerce', dayfirst=True)\n",
    "sorted_bookings_df['Departure'] = pd.to_datetime(sorted_bookings_df['Departure'], errors='coerce', dayfirst=True)\n",
    "sorted_bookings_df['LastModified'] = pd.to_datetime(sorted_bookings_df['LastModified'], errors='coerce', dayfirst=True)\n",
    "sorted_bookings_df['PurchaseDate'] = pd.to_datetime(sorted_bookings_df['PurchaseDate'], errors='coerce', dayfirst=True)\n",
    "# we want to make sure that are numerical data\n",
    "sorted_bookings_df['Total'] = sorted_bookings_df['Total'].str.replace(',', '.').astype(float)\n",
    "sorted_bookings_df['Total'] = pd.to_numeric(sorted_bookings_df['Total'])\n",
    "sorted_bookings_df['Nights'] = pd.to_numeric(sorted_bookings_df['Nights'])\n",
    "# add timestamp\n",
    "sorted_bookings_df['Arrival_Timestamp'] = sorted_bookings_df['Arrival'].astype('int64')\n",
    "sorted_bookings_df['Departure_Timestamp'] = sorted_bookings_df['Departure'].astype('int64')\n",
    "sorted_bookings_df['LastModified_Timestamp'] = pd.to_datetime(sorted_bookings_df['LastModified'], errors='coerce')\n",
    "sorted_bookings_df['Purchase_Timestamp'] = sorted_bookings_df['PurchaseDate'].astype('int64')\n",
    "sorted_bookings_df.head()\n",
    "\n"
   ]
  },
  {
   "cell_type": "markdown",
   "metadata": {},
   "source": [
    "We want to add the city to he dataset the client has provided the following mapping:\n",
    "```\n",
    "hotel_to_city = {\n",
    "    '001': \"Rome, Italu\",\n",
    "    '002': \"Naples, Italy\",\n",
    "    '003': \"Florence, Italy\",\n",
    "    '004': \"Florence, Italy\",\n",
    "    '005': \"Naples, Italy\",\n",
    "    '006': \"Brindisi, Italy\",\n",
    "    '007': \"Latina, Italy\",\n",
    "    '008': \"Olbia, Sardinia, Italy\",\n",
    "    '009': \"Chamonix-Mont-Blanc, France\",\n",
    "    '010': \"Rome, Italy\",\n",
    "}\n",
    "```\n",
    "So we can have a complete a dataset to correlate in future with events, weather and so on."
   ]
  },
  {
   "cell_type": "code",
   "execution_count": 7,
   "metadata": {},
   "outputs": [],
   "source": [
    "coordinate_to_city = {\n",
    "    '001': \"Rome\",\n",
    "    '002': \"Naples\",\n",
    "    '003': \"Florence\",\n",
    "    '004': \"Florence\",\n",
    "    '005': \"Naples\",\n",
    "    '006': \"Brindisi\",\n",
    "    '007': \"Latina\",\n",
    "    '008': \"Olbia\",\n",
    "    '009': \"Chamonix-Mont-Blanc\",\n",
    "    '010': \"Rome\",\n",
    "}\n",
    "\n",
    "# Function to get the city name based on HotelId\n",
    "def get_city(hotel_id):\n",
    "    return coordinate_to_city.get(hotel_id, \"Unknown\")\n",
    "\n",
    "# Add the City column based on the HotelId\n",
    "sorted_bookings_df['City'] = sorted_bookings_df['HotelId'].apply(get_city)"
   ]
  },
  {
   "cell_type": "markdown",
   "metadata": {},
   "source": [
    "We want also add the season because we know from the domain the booking changes of season and when the booking device is not known."
   ]
  },
  {
   "cell_type": "code",
   "execution_count": 8,
   "metadata": {},
   "outputs": [
    {
     "data": {
      "text/html": [
       "<div>\n",
       "<style scoped>\n",
       "    .dataframe tbody tr th:only-of-type {\n",
       "        vertical-align: middle;\n",
       "    }\n",
       "\n",
       "    .dataframe tbody tr th {\n",
       "        vertical-align: top;\n",
       "    }\n",
       "\n",
       "    .dataframe thead th {\n",
       "        text-align: right;\n",
       "    }\n",
       "</style>\n",
       "<table border=\"1\" class=\"dataframe\">\n",
       "  <thead>\n",
       "    <tr style=\"text-align: right;\">\n",
       "      <th></th>\n",
       "      <th>Code</th>\n",
       "      <th>Status</th>\n",
       "      <th>BookingChannel</th>\n",
       "      <th>Arrival</th>\n",
       "      <th>Departure</th>\n",
       "      <th>Nights</th>\n",
       "      <th>Total</th>\n",
       "      <th>PurchaseDate</th>\n",
       "      <th>BookingDevice</th>\n",
       "      <th>LastModified</th>\n",
       "      <th>HotelId</th>\n",
       "      <th>Arrival_Timestamp</th>\n",
       "      <th>Departure_Timestamp</th>\n",
       "      <th>LastModified_Timestamp</th>\n",
       "      <th>Purchase_Timestamp</th>\n",
       "      <th>City</th>\n",
       "      <th>Season</th>\n",
       "    </tr>\n",
       "  </thead>\n",
       "  <tbody>\n",
       "    <tr>\n",
       "      <th>60363</th>\n",
       "      <td>16134HN15330</td>\n",
       "      <td>Confermata</td>\n",
       "      <td>Sito</td>\n",
       "      <td>2024-11-02</td>\n",
       "      <td>2024-02-18</td>\n",
       "      <td>7</td>\n",
       "      <td>3208.0</td>\n",
       "      <td>2023-03-22</td>\n",
       "      <td>Website</td>\n",
       "      <td>2023-03-22 23:03:58</td>\n",
       "      <td>006</td>\n",
       "      <td>1730505600000000000</td>\n",
       "      <td>1708214400000000000</td>\n",
       "      <td>2023-03-22 23:03:58</td>\n",
       "      <td>1679443200000000000</td>\n",
       "      <td>Brindisi</td>\n",
       "      <td>Fall</td>\n",
       "    </tr>\n",
       "    <tr>\n",
       "      <th>60681</th>\n",
       "      <td>3379360609/4257615568</td>\n",
       "      <td>Confermata</td>\n",
       "      <td>Booking.com</td>\n",
       "      <td>2024-10-02</td>\n",
       "      <td>2024-02-17</td>\n",
       "      <td>7</td>\n",
       "      <td>5130.0</td>\n",
       "      <td>2023-05-20</td>\n",
       "      <td>Unknown</td>\n",
       "      <td>2023-05-20 10:06:11</td>\n",
       "      <td>006</td>\n",
       "      <td>1727827200000000000</td>\n",
       "      <td>1708128000000000000</td>\n",
       "      <td>2023-05-20 10:06:11</td>\n",
       "      <td>1684540800000000000</td>\n",
       "      <td>Brindisi</td>\n",
       "      <td>Fall</td>\n",
       "    </tr>\n",
       "    <tr>\n",
       "      <th>60413</th>\n",
       "      <td>2640244691/4170868985</td>\n",
       "      <td>Confermata</td>\n",
       "      <td>Booking.com</td>\n",
       "      <td>2024-10-02</td>\n",
       "      <td>2024-02-17</td>\n",
       "      <td>7</td>\n",
       "      <td>4887.0</td>\n",
       "      <td>2023-04-01</td>\n",
       "      <td>Unknown</td>\n",
       "      <td>2023-04-01 14:27:37</td>\n",
       "      <td>006</td>\n",
       "      <td>1727827200000000000</td>\n",
       "      <td>1708128000000000000</td>\n",
       "      <td>2023-04-01 14:27:37</td>\n",
       "      <td>1680307200000000000</td>\n",
       "      <td>Brindisi</td>\n",
       "      <td>Fall</td>\n",
       "    </tr>\n",
       "    <tr>\n",
       "      <th>60411</th>\n",
       "      <td>2641625582/4170854126</td>\n",
       "      <td>Confermata</td>\n",
       "      <td>Booking.com</td>\n",
       "      <td>2024-10-02</td>\n",
       "      <td>2024-02-17</td>\n",
       "      <td>7</td>\n",
       "      <td>1968.3</td>\n",
       "      <td>2023-04-01</td>\n",
       "      <td>Unknown</td>\n",
       "      <td>2023-04-01 14:17:14</td>\n",
       "      <td>006</td>\n",
       "      <td>1727827200000000000</td>\n",
       "      <td>1708128000000000000</td>\n",
       "      <td>2023-04-01 14:17:14</td>\n",
       "      <td>1680307200000000000</td>\n",
       "      <td>Brindisi</td>\n",
       "      <td>Fall</td>\n",
       "    </tr>\n",
       "    <tr>\n",
       "      <th>60410</th>\n",
       "      <td>2641625582/4170854114</td>\n",
       "      <td>Confermata</td>\n",
       "      <td>Booking.com</td>\n",
       "      <td>2024-10-02</td>\n",
       "      <td>2024-02-17</td>\n",
       "      <td>7</td>\n",
       "      <td>1871.1</td>\n",
       "      <td>2023-04-01</td>\n",
       "      <td>Unknown</td>\n",
       "      <td>2023-04-01 14:17:14</td>\n",
       "      <td>006</td>\n",
       "      <td>1727827200000000000</td>\n",
       "      <td>1708128000000000000</td>\n",
       "      <td>2023-04-01 14:17:14</td>\n",
       "      <td>1680307200000000000</td>\n",
       "      <td>Brindisi</td>\n",
       "      <td>Fall</td>\n",
       "    </tr>\n",
       "  </tbody>\n",
       "</table>\n",
       "</div>"
      ],
      "text/plain": [
       "                        Code      Status BookingChannel    Arrival  Departure  \\\n",
       "60363           16134HN15330  Confermata           Sito 2024-11-02 2024-02-18   \n",
       "60681  3379360609/4257615568  Confermata    Booking.com 2024-10-02 2024-02-17   \n",
       "60413  2640244691/4170868985  Confermata    Booking.com 2024-10-02 2024-02-17   \n",
       "60411  2641625582/4170854126  Confermata    Booking.com 2024-10-02 2024-02-17   \n",
       "60410  2641625582/4170854114  Confermata    Booking.com 2024-10-02 2024-02-17   \n",
       "\n",
       "       Nights   Total PurchaseDate BookingDevice        LastModified HotelId  \\\n",
       "60363       7  3208.0   2023-03-22       Website 2023-03-22 23:03:58     006   \n",
       "60681       7  5130.0   2023-05-20       Unknown 2023-05-20 10:06:11     006   \n",
       "60413       7  4887.0   2023-04-01       Unknown 2023-04-01 14:27:37     006   \n",
       "60411       7  1968.3   2023-04-01       Unknown 2023-04-01 14:17:14     006   \n",
       "60410       7  1871.1   2023-04-01       Unknown 2023-04-01 14:17:14     006   \n",
       "\n",
       "         Arrival_Timestamp  Departure_Timestamp LastModified_Timestamp  \\\n",
       "60363  1730505600000000000  1708214400000000000    2023-03-22 23:03:58   \n",
       "60681  1727827200000000000  1708128000000000000    2023-05-20 10:06:11   \n",
       "60413  1727827200000000000  1708128000000000000    2023-04-01 14:27:37   \n",
       "60411  1727827200000000000  1708128000000000000    2023-04-01 14:17:14   \n",
       "60410  1727827200000000000  1708128000000000000    2023-04-01 14:17:14   \n",
       "\n",
       "        Purchase_Timestamp      City Season  \n",
       "60363  1679443200000000000  Brindisi   Fall  \n",
       "60681  1684540800000000000  Brindisi   Fall  \n",
       "60413  1680307200000000000  Brindisi   Fall  \n",
       "60411  1680307200000000000  Brindisi   Fall  \n",
       "60410  1680307200000000000  Brindisi   Fall  "
      ]
     },
     "execution_count": 8,
     "metadata": {},
     "output_type": "execute_result"
    }
   ],
   "source": [
    "# we clean unknown\n",
    "sorted_bookings_df['BookingDevice'].fillna('Unknown', inplace=True)\n",
    "def get_season(date):\n",
    "    month = date.month\n",
    "    if month in [12, 1, 2]:\n",
    "        return 'Winter'\n",
    "    elif month in [3, 4, 5]:\n",
    "        return 'Spring'\n",
    "    elif month in [6, 7, 8]:\n",
    "        return 'Summer'\n",
    "    elif month in [9, 10, 11]:\n",
    "        return 'Fall'\n",
    "sorted_bookings_df['Season'] = sorted_bookings_df['Arrival'].apply(get_season)\n",
    "sorted_bookings_df.head()\n",
    "\n"
   ]
  },
  {
   "cell_type": "markdown",
   "metadata": {},
   "source": [
    "Now before going further and doing descriptive statistics we neeed to know is there are still NaN. It is ok we store for future purposes the dataset in parquet file. "
   ]
  },
  {
   "cell_type": "code",
   "execution_count": 9,
   "metadata": {},
   "outputs": [
    {
     "name": "stdout",
     "output_type": "stream",
     "text": [
      "Does the DataFrame contain any NaN values? True\n",
      "Rows with NaN values:\n"
     ]
    },
    {
     "data": {
      "text/html": [
       "<div>\n",
       "<style scoped>\n",
       "    .dataframe tbody tr th:only-of-type {\n",
       "        vertical-align: middle;\n",
       "    }\n",
       "\n",
       "    .dataframe tbody tr th {\n",
       "        vertical-align: top;\n",
       "    }\n",
       "\n",
       "    .dataframe thead th {\n",
       "        text-align: right;\n",
       "    }\n",
       "</style>\n",
       "<table border=\"1\" class=\"dataframe\">\n",
       "  <thead>\n",
       "    <tr style=\"text-align: right;\">\n",
       "      <th></th>\n",
       "      <th>Code</th>\n",
       "      <th>Status</th>\n",
       "      <th>BookingChannel</th>\n",
       "      <th>Arrival</th>\n",
       "      <th>Departure</th>\n",
       "      <th>Nights</th>\n",
       "      <th>Total</th>\n",
       "      <th>PurchaseDate</th>\n",
       "      <th>BookingDevice</th>\n",
       "      <th>LastModified</th>\n",
       "      <th>HotelId</th>\n",
       "      <th>Arrival_Timestamp</th>\n",
       "      <th>Departure_Timestamp</th>\n",
       "      <th>LastModified_Timestamp</th>\n",
       "      <th>Purchase_Timestamp</th>\n",
       "      <th>City</th>\n",
       "      <th>Season</th>\n",
       "    </tr>\n",
       "  </thead>\n",
       "  <tbody>\n",
       "    <tr>\n",
       "      <th>44934</th>\n",
       "      <td>RDK00025294-SE</td>\n",
       "      <td>Cancellata</td>\n",
       "      <td>NaN</td>\n",
       "      <td>2023-12-07</td>\n",
       "      <td>2023-07-15</td>\n",
       "      <td>0</td>\n",
       "      <td>0.00</td>\n",
       "      <td>2023-06-25</td>\n",
       "      <td>Unknown</td>\n",
       "      <td>2023-06-25 18:42:22</td>\n",
       "      <td>005</td>\n",
       "      <td>1701907200000000000</td>\n",
       "      <td>1689379200000000000</td>\n",
       "      <td>2023-06-25 18:42:22</td>\n",
       "      <td>1687651200000000000</td>\n",
       "      <td>Naples</td>\n",
       "      <td>Winter</td>\n",
       "    </tr>\n",
       "    <tr>\n",
       "      <th>44933</th>\n",
       "      <td>RDK00025294-SE</td>\n",
       "      <td>Confermata</td>\n",
       "      <td>NaN</td>\n",
       "      <td>2023-12-07</td>\n",
       "      <td>2023-07-15</td>\n",
       "      <td>3</td>\n",
       "      <td>656.64</td>\n",
       "      <td>2023-06-25</td>\n",
       "      <td>Unknown</td>\n",
       "      <td>2023-06-25 18:42:22</td>\n",
       "      <td>005</td>\n",
       "      <td>1701907200000000000</td>\n",
       "      <td>1689379200000000000</td>\n",
       "      <td>2023-06-25 18:42:22</td>\n",
       "      <td>1687651200000000000</td>\n",
       "      <td>Naples</td>\n",
       "      <td>Winter</td>\n",
       "    </tr>\n",
       "    <tr>\n",
       "      <th>44385</th>\n",
       "      <td>RDK00014771-A35343-25660-13565848-Secret Escapes</td>\n",
       "      <td>Confermata</td>\n",
       "      <td>NaN</td>\n",
       "      <td>2023-12-05</td>\n",
       "      <td>2023-05-17</td>\n",
       "      <td>5</td>\n",
       "      <td>1257.22</td>\n",
       "      <td>2023-04-12</td>\n",
       "      <td>Unknown</td>\n",
       "      <td>2023-04-12 15:58:19</td>\n",
       "      <td>005</td>\n",
       "      <td>1701734400000000000</td>\n",
       "      <td>1684281600000000000</td>\n",
       "      <td>2023-04-12 15:58:19</td>\n",
       "      <td>1681257600000000000</td>\n",
       "      <td>Naples</td>\n",
       "      <td>Winter</td>\n",
       "    </tr>\n",
       "    <tr>\n",
       "      <th>44366</th>\n",
       "      <td>RDK00014459-A35343-21410-13541714-Secret Escapes</td>\n",
       "      <td>Cancellata</td>\n",
       "      <td>NaN</td>\n",
       "      <td>2023-12-05</td>\n",
       "      <td>2023-05-13</td>\n",
       "      <td>0</td>\n",
       "      <td>0.00</td>\n",
       "      <td>2023-04-10</td>\n",
       "      <td>Unknown</td>\n",
       "      <td>2023-04-10 19:52:26</td>\n",
       "      <td>005</td>\n",
       "      <td>1701734400000000000</td>\n",
       "      <td>1683936000000000000</td>\n",
       "      <td>2023-04-10 19:52:26</td>\n",
       "      <td>1681084800000000000</td>\n",
       "      <td>Naples</td>\n",
       "      <td>Winter</td>\n",
       "    </tr>\n",
       "    <tr>\n",
       "      <th>44365</th>\n",
       "      <td>RDK00014459-A35343-21410-13541714-Secret Escapes</td>\n",
       "      <td>Confermata</td>\n",
       "      <td>NaN</td>\n",
       "      <td>2023-12-05</td>\n",
       "      <td>2023-05-13</td>\n",
       "      <td>1</td>\n",
       "      <td>199.68</td>\n",
       "      <td>2023-04-10</td>\n",
       "      <td>Unknown</td>\n",
       "      <td>2023-04-10 19:52:26</td>\n",
       "      <td>005</td>\n",
       "      <td>1701734400000000000</td>\n",
       "      <td>1683936000000000000</td>\n",
       "      <td>2023-04-10 19:52:26</td>\n",
       "      <td>1681084800000000000</td>\n",
       "      <td>Naples</td>\n",
       "      <td>Winter</td>\n",
       "    </tr>\n",
       "  </tbody>\n",
       "</table>\n",
       "</div>"
      ],
      "text/plain": [
       "                                                   Code      Status  \\\n",
       "44934                                    RDK00025294-SE  Cancellata   \n",
       "44933                                    RDK00025294-SE  Confermata   \n",
       "44385  RDK00014771-A35343-25660-13565848-Secret Escapes  Confermata   \n",
       "44366  RDK00014459-A35343-21410-13541714-Secret Escapes  Cancellata   \n",
       "44365  RDK00014459-A35343-21410-13541714-Secret Escapes  Confermata   \n",
       "\n",
       "      BookingChannel    Arrival  Departure  Nights    Total PurchaseDate  \\\n",
       "44934            NaN 2023-12-07 2023-07-15       0     0.00   2023-06-25   \n",
       "44933            NaN 2023-12-07 2023-07-15       3   656.64   2023-06-25   \n",
       "44385            NaN 2023-12-05 2023-05-17       5  1257.22   2023-04-12   \n",
       "44366            NaN 2023-12-05 2023-05-13       0     0.00   2023-04-10   \n",
       "44365            NaN 2023-12-05 2023-05-13       1   199.68   2023-04-10   \n",
       "\n",
       "      BookingDevice        LastModified HotelId    Arrival_Timestamp  \\\n",
       "44934       Unknown 2023-06-25 18:42:22     005  1701907200000000000   \n",
       "44933       Unknown 2023-06-25 18:42:22     005  1701907200000000000   \n",
       "44385       Unknown 2023-04-12 15:58:19     005  1701734400000000000   \n",
       "44366       Unknown 2023-04-10 19:52:26     005  1701734400000000000   \n",
       "44365       Unknown 2023-04-10 19:52:26     005  1701734400000000000   \n",
       "\n",
       "       Departure_Timestamp LastModified_Timestamp   Purchase_Timestamp  \\\n",
       "44934  1689379200000000000    2023-06-25 18:42:22  1687651200000000000   \n",
       "44933  1689379200000000000    2023-06-25 18:42:22  1687651200000000000   \n",
       "44385  1684281600000000000    2023-04-12 15:58:19  1681257600000000000   \n",
       "44366  1683936000000000000    2023-04-10 19:52:26  1681084800000000000   \n",
       "44365  1683936000000000000    2023-04-10 19:52:26  1681084800000000000   \n",
       "\n",
       "         City  Season  \n",
       "44934  Naples  Winter  \n",
       "44933  Naples  Winter  \n",
       "44385  Naples  Winter  \n",
       "44366  Naples  Winter  \n",
       "44365  Naples  Winter  "
      ]
     },
     "execution_count": 9,
     "metadata": {},
     "output_type": "execute_result"
    }
   ],
   "source": [
    "# Check if any row in any column is NaN\n",
    "has_nan = sorted_bookings_df.isna().any().any()\n",
    "print(f\"Does the DataFrame contain any NaN values? {has_nan}\")\n",
    "# Display rows with any NaN values\n",
    "rows_with_nan = sorted_bookings_df[sorted_bookings_df.isna().any(axis=1)]\n",
    "print(\"Rows with NaN values:\")\n",
    "rows_with_nan.head()\n"
   ]
  },
  {
   "cell_type": "markdown",
   "metadata": {},
   "source": [
    "Ok. We've seen that the booking channel can be a valid string or Unknown. The other thing that we want is to the hotel booking for a fixed period from 2024 to 2022. After this we can "
   ]
  },
  {
   "cell_type": "code",
   "execution_count": 10,
   "metadata": {},
   "outputs": [
    {
     "data": {
      "text/html": [
       "<div>\n",
       "<style scoped>\n",
       "    .dataframe tbody tr th:only-of-type {\n",
       "        vertical-align: middle;\n",
       "    }\n",
       "\n",
       "    .dataframe tbody tr th {\n",
       "        vertical-align: top;\n",
       "    }\n",
       "\n",
       "    .dataframe thead th {\n",
       "        text-align: right;\n",
       "    }\n",
       "</style>\n",
       "<table border=\"1\" class=\"dataframe\">\n",
       "  <thead>\n",
       "    <tr style=\"text-align: right;\">\n",
       "      <th></th>\n",
       "      <th>Code</th>\n",
       "      <th>Status</th>\n",
       "      <th>BookingChannel</th>\n",
       "      <th>Arrival</th>\n",
       "      <th>Departure</th>\n",
       "      <th>Nights</th>\n",
       "      <th>Total</th>\n",
       "      <th>PurchaseDate</th>\n",
       "      <th>BookingDevice</th>\n",
       "      <th>LastModified</th>\n",
       "      <th>HotelId</th>\n",
       "      <th>Arrival_Timestamp</th>\n",
       "      <th>Departure_Timestamp</th>\n",
       "      <th>LastModified_Timestamp</th>\n",
       "      <th>Purchase_Timestamp</th>\n",
       "      <th>City</th>\n",
       "      <th>Season</th>\n",
       "    </tr>\n",
       "  </thead>\n",
       "  <tbody>\n",
       "    <tr>\n",
       "      <th>60363</th>\n",
       "      <td>16134HN15330</td>\n",
       "      <td>Confermata</td>\n",
       "      <td>Sito</td>\n",
       "      <td>2024-11-02</td>\n",
       "      <td>2024-02-18</td>\n",
       "      <td>7</td>\n",
       "      <td>3208.0</td>\n",
       "      <td>2023-03-22</td>\n",
       "      <td>Website</td>\n",
       "      <td>2023-03-22 23:03:58</td>\n",
       "      <td>006</td>\n",
       "      <td>1730505600000000000</td>\n",
       "      <td>1708214400000000000</td>\n",
       "      <td>2023-03-22 23:03:58</td>\n",
       "      <td>1679443200000000000</td>\n",
       "      <td>Brindisi</td>\n",
       "      <td>Fall</td>\n",
       "    </tr>\n",
       "    <tr>\n",
       "      <th>60681</th>\n",
       "      <td>3379360609/4257615568</td>\n",
       "      <td>Confermata</td>\n",
       "      <td>Booking.com</td>\n",
       "      <td>2024-10-02</td>\n",
       "      <td>2024-02-17</td>\n",
       "      <td>7</td>\n",
       "      <td>5130.0</td>\n",
       "      <td>2023-05-20</td>\n",
       "      <td>Unknown</td>\n",
       "      <td>2023-05-20 10:06:11</td>\n",
       "      <td>006</td>\n",
       "      <td>1727827200000000000</td>\n",
       "      <td>1708128000000000000</td>\n",
       "      <td>2023-05-20 10:06:11</td>\n",
       "      <td>1684540800000000000</td>\n",
       "      <td>Brindisi</td>\n",
       "      <td>Fall</td>\n",
       "    </tr>\n",
       "    <tr>\n",
       "      <th>60413</th>\n",
       "      <td>2640244691/4170868985</td>\n",
       "      <td>Confermata</td>\n",
       "      <td>Booking.com</td>\n",
       "      <td>2024-10-02</td>\n",
       "      <td>2024-02-17</td>\n",
       "      <td>7</td>\n",
       "      <td>4887.0</td>\n",
       "      <td>2023-04-01</td>\n",
       "      <td>Unknown</td>\n",
       "      <td>2023-04-01 14:27:37</td>\n",
       "      <td>006</td>\n",
       "      <td>1727827200000000000</td>\n",
       "      <td>1708128000000000000</td>\n",
       "      <td>2023-04-01 14:27:37</td>\n",
       "      <td>1680307200000000000</td>\n",
       "      <td>Brindisi</td>\n",
       "      <td>Fall</td>\n",
       "    </tr>\n",
       "    <tr>\n",
       "      <th>60411</th>\n",
       "      <td>2641625582/4170854126</td>\n",
       "      <td>Confermata</td>\n",
       "      <td>Booking.com</td>\n",
       "      <td>2024-10-02</td>\n",
       "      <td>2024-02-17</td>\n",
       "      <td>7</td>\n",
       "      <td>1968.3</td>\n",
       "      <td>2023-04-01</td>\n",
       "      <td>Unknown</td>\n",
       "      <td>2023-04-01 14:17:14</td>\n",
       "      <td>006</td>\n",
       "      <td>1727827200000000000</td>\n",
       "      <td>1708128000000000000</td>\n",
       "      <td>2023-04-01 14:17:14</td>\n",
       "      <td>1680307200000000000</td>\n",
       "      <td>Brindisi</td>\n",
       "      <td>Fall</td>\n",
       "    </tr>\n",
       "    <tr>\n",
       "      <th>60410</th>\n",
       "      <td>2641625582/4170854114</td>\n",
       "      <td>Confermata</td>\n",
       "      <td>Booking.com</td>\n",
       "      <td>2024-10-02</td>\n",
       "      <td>2024-02-17</td>\n",
       "      <td>7</td>\n",
       "      <td>1871.1</td>\n",
       "      <td>2023-04-01</td>\n",
       "      <td>Unknown</td>\n",
       "      <td>2023-04-01 14:17:14</td>\n",
       "      <td>006</td>\n",
       "      <td>1727827200000000000</td>\n",
       "      <td>1708128000000000000</td>\n",
       "      <td>2023-04-01 14:17:14</td>\n",
       "      <td>1680307200000000000</td>\n",
       "      <td>Brindisi</td>\n",
       "      <td>Fall</td>\n",
       "    </tr>\n",
       "  </tbody>\n",
       "</table>\n",
       "</div>"
      ],
      "text/plain": [
       "                        Code      Status BookingChannel    Arrival  Departure  \\\n",
       "60363           16134HN15330  Confermata           Sito 2024-11-02 2024-02-18   \n",
       "60681  3379360609/4257615568  Confermata    Booking.com 2024-10-02 2024-02-17   \n",
       "60413  2640244691/4170868985  Confermata    Booking.com 2024-10-02 2024-02-17   \n",
       "60411  2641625582/4170854126  Confermata    Booking.com 2024-10-02 2024-02-17   \n",
       "60410  2641625582/4170854114  Confermata    Booking.com 2024-10-02 2024-02-17   \n",
       "\n",
       "       Nights   Total PurchaseDate BookingDevice        LastModified HotelId  \\\n",
       "60363       7  3208.0   2023-03-22       Website 2023-03-22 23:03:58     006   \n",
       "60681       7  5130.0   2023-05-20       Unknown 2023-05-20 10:06:11     006   \n",
       "60413       7  4887.0   2023-04-01       Unknown 2023-04-01 14:27:37     006   \n",
       "60411       7  1968.3   2023-04-01       Unknown 2023-04-01 14:17:14     006   \n",
       "60410       7  1871.1   2023-04-01       Unknown 2023-04-01 14:17:14     006   \n",
       "\n",
       "         Arrival_Timestamp  Departure_Timestamp LastModified_Timestamp  \\\n",
       "60363  1730505600000000000  1708214400000000000    2023-03-22 23:03:58   \n",
       "60681  1727827200000000000  1708128000000000000    2023-05-20 10:06:11   \n",
       "60413  1727827200000000000  1708128000000000000    2023-04-01 14:27:37   \n",
       "60411  1727827200000000000  1708128000000000000    2023-04-01 14:17:14   \n",
       "60410  1727827200000000000  1708128000000000000    2023-04-01 14:17:14   \n",
       "\n",
       "        Purchase_Timestamp      City Season  \n",
       "60363  1679443200000000000  Brindisi   Fall  \n",
       "60681  1684540800000000000  Brindisi   Fall  \n",
       "60413  1680307200000000000  Brindisi   Fall  \n",
       "60411  1680307200000000000  Brindisi   Fall  \n",
       "60410  1680307200000000000  Brindisi   Fall  "
      ]
     },
     "execution_count": 10,
     "metadata": {},
     "output_type": "execute_result"
    }
   ],
   "source": [
    "sorted_bookings_df['BookingChannel'] = sorted_bookings_df['BookingChannel'].fillna('Unknown')\n",
    "sorted_bookings_df.head()\n"
   ]
  },
  {
   "cell_type": "markdown",
   "metadata": {},
   "source": [
    "Now I want to restrict the timing interval between 2020 and 2024."
   ]
  },
  {
   "cell_type": "code",
   "execution_count": 11,
   "metadata": {},
   "outputs": [
    {
     "name": "stdout",
     "output_type": "stream",
     "text": [
      "Does the DataFrame contain any NaN values? False\n",
      "The dataset is ready some descriptivre statistics\n"
     ]
    }
   ],
   "source": [
    "start_date = '2020-01-01'\n",
    "end_date = '2024-02-28'\n",
    "sorted_bookings_df.head()\n",
    "datetime_columns = ['Arrival', 'Departure', 'PurchaseDate', 'LastModified']\n",
    "for col in datetime_columns:\n",
    "    sorted_bookings_df[col] = pd.to_datetime(sorted_bookings_df[col])\n",
    "hb_dataset = sorted_bookings_df[(sorted_bookings_df['Arrival'] >= start_date) & (sorted_bookings_df['Arrival'] <= end_date)] \n",
    "# Check if any row in any column is NaN\n",
    "has_nan = hb_dataset.isna().any().any()\n",
    "print(f\"Does the DataFrame contain any NaN values? {has_nan}\")\n",
    "if has_nan:\n",
    "# Display rows with any NaN values\n",
    "    rows_with_nan = hb_dataset[hb_dataset.isna().any(axis=1)]\n",
    "    print(\"Rows with NaN values:\")\n",
    "    rows_with_nan.head()\n",
    "else:\n",
    "    print('The dataset is ready some descriptivre statistics')"
   ]
  },
  {
   "cell_type": "code",
   "execution_count": 12,
   "metadata": {},
   "outputs": [
    {
     "name": "stdout",
     "output_type": "stream",
     "text": [
      "Filtered DataFrame saved to filtered_data.parquet\n"
     ]
    }
   ],
   "source": [
    "# Save the filtered DataFrame to a Parquet file\n",
    "parquet_file = 'filtered_data.parquet'\n",
    "hb_dataset.to_parquet(parquet_file)\n",
    "print(f\"Filtered DataFrame saved to {parquet_file}\")"
   ]
  },
  {
   "cell_type": "code",
   "execution_count": 13,
   "metadata": {},
   "outputs": [
    {
     "data": {
      "text/html": [
       "<div>\n",
       "<style scoped>\n",
       "    .dataframe tbody tr th:only-of-type {\n",
       "        vertical-align: middle;\n",
       "    }\n",
       "\n",
       "    .dataframe tbody tr th {\n",
       "        vertical-align: top;\n",
       "    }\n",
       "\n",
       "    .dataframe thead th {\n",
       "        text-align: right;\n",
       "    }\n",
       "</style>\n",
       "<table border=\"1\" class=\"dataframe\">\n",
       "  <thead>\n",
       "    <tr style=\"text-align: right;\">\n",
       "      <th></th>\n",
       "      <th>Code</th>\n",
       "      <th>Status</th>\n",
       "      <th>BookingChannel</th>\n",
       "      <th>Arrival</th>\n",
       "      <th>Departure</th>\n",
       "      <th>Nights</th>\n",
       "      <th>Total</th>\n",
       "      <th>PurchaseDate</th>\n",
       "      <th>BookingDevice</th>\n",
       "      <th>LastModified</th>\n",
       "      <th>HotelId</th>\n",
       "      <th>Arrival_Timestamp</th>\n",
       "      <th>Departure_Timestamp</th>\n",
       "      <th>LastModified_Timestamp</th>\n",
       "      <th>Purchase_Timestamp</th>\n",
       "      <th>City</th>\n",
       "      <th>Season</th>\n",
       "    </tr>\n",
       "  </thead>\n",
       "  <tbody>\n",
       "    <tr>\n",
       "      <th>60596</th>\n",
       "      <td>2708236755/4234197239</td>\n",
       "      <td>Confermata</td>\n",
       "      <td>Booking.com</td>\n",
       "      <td>2024-02-24</td>\n",
       "      <td>2024-03-02</td>\n",
       "      <td>7</td>\n",
       "      <td>3134.70</td>\n",
       "      <td>2023-05-07</td>\n",
       "      <td>Unknown</td>\n",
       "      <td>2023-05-07 09:39:59</td>\n",
       "      <td>006</td>\n",
       "      <td>1708732800000000000</td>\n",
       "      <td>1709337600000000000</td>\n",
       "      <td>2023-05-07 09:39:59</td>\n",
       "      <td>1683417600000000000</td>\n",
       "      <td>Brindisi</td>\n",
       "      <td>Winter</td>\n",
       "    </tr>\n",
       "    <tr>\n",
       "      <th>60595</th>\n",
       "      <td>2366509110/4234190518</td>\n",
       "      <td>Cancellata</td>\n",
       "      <td>Booking.com</td>\n",
       "      <td>2024-02-24</td>\n",
       "      <td>2024-03-02</td>\n",
       "      <td>0</td>\n",
       "      <td>0.00</td>\n",
       "      <td>2023-05-07</td>\n",
       "      <td>Unknown</td>\n",
       "      <td>2023-05-07 09:33:58</td>\n",
       "      <td>006</td>\n",
       "      <td>1708732800000000000</td>\n",
       "      <td>1709337600000000000</td>\n",
       "      <td>2023-05-07 09:33:58</td>\n",
       "      <td>1683417600000000000</td>\n",
       "      <td>Brindisi</td>\n",
       "      <td>Winter</td>\n",
       "    </tr>\n",
       "    <tr>\n",
       "      <th>60341</th>\n",
       "      <td>2340590757/4148039829</td>\n",
       "      <td>Cancellata</td>\n",
       "      <td>Booking.com</td>\n",
       "      <td>2024-02-17</td>\n",
       "      <td>2024-02-24</td>\n",
       "      <td>0</td>\n",
       "      <td>0.00</td>\n",
       "      <td>2023-03-19</td>\n",
       "      <td>Unknown</td>\n",
       "      <td>2023-03-19 10:37:54</td>\n",
       "      <td>006</td>\n",
       "      <td>1708128000000000000</td>\n",
       "      <td>1708732800000000000</td>\n",
       "      <td>2023-03-19 10:37:54</td>\n",
       "      <td>1679184000000000000</td>\n",
       "      <td>Brindisi</td>\n",
       "      <td>Winter</td>\n",
       "    </tr>\n",
       "    <tr>\n",
       "      <th>60340</th>\n",
       "      <td>2340590757/4148039863</td>\n",
       "      <td>Cancellata</td>\n",
       "      <td>Booking.com</td>\n",
       "      <td>2024-02-17</td>\n",
       "      <td>2024-02-24</td>\n",
       "      <td>0</td>\n",
       "      <td>0.00</td>\n",
       "      <td>2023-03-19</td>\n",
       "      <td>Unknown</td>\n",
       "      <td>2023-03-19 10:37:54</td>\n",
       "      <td>006</td>\n",
       "      <td>1708128000000000000</td>\n",
       "      <td>1708732800000000000</td>\n",
       "      <td>2023-03-19 10:37:54</td>\n",
       "      <td>1679184000000000000</td>\n",
       "      <td>Brindisi</td>\n",
       "      <td>Winter</td>\n",
       "    </tr>\n",
       "    <tr>\n",
       "      <th>60339</th>\n",
       "      <td>2340590757/4148039844</td>\n",
       "      <td>Cancellata</td>\n",
       "      <td>Booking.com</td>\n",
       "      <td>2024-02-17</td>\n",
       "      <td>2024-02-24</td>\n",
       "      <td>0</td>\n",
       "      <td>0.00</td>\n",
       "      <td>2023-03-19</td>\n",
       "      <td>Unknown</td>\n",
       "      <td>2023-03-19 10:37:54</td>\n",
       "      <td>006</td>\n",
       "      <td>1708128000000000000</td>\n",
       "      <td>1708732800000000000</td>\n",
       "      <td>2023-03-19 10:37:54</td>\n",
       "      <td>1679184000000000000</td>\n",
       "      <td>Brindisi</td>\n",
       "      <td>Winter</td>\n",
       "    </tr>\n",
       "    <tr>\n",
       "      <th>60269</th>\n",
       "      <td>16134FG15230</td>\n",
       "      <td>Confermata</td>\n",
       "      <td>Sito</td>\n",
       "      <td>2024-02-17</td>\n",
       "      <td>2024-02-24</td>\n",
       "      <td>7</td>\n",
       "      <td>3507.00</td>\n",
       "      <td>2023-03-07</td>\n",
       "      <td>Website</td>\n",
       "      <td>2023-03-07 21:29:22</td>\n",
       "      <td>006</td>\n",
       "      <td>1708128000000000000</td>\n",
       "      <td>1708732800000000000</td>\n",
       "      <td>2023-03-07 21:29:22</td>\n",
       "      <td>1678147200000000000</td>\n",
       "      <td>Brindisi</td>\n",
       "      <td>Winter</td>\n",
       "    </tr>\n",
       "    <tr>\n",
       "      <th>60417</th>\n",
       "      <td>3051523557/4172280874</td>\n",
       "      <td>Confermata</td>\n",
       "      <td>Booking.com</td>\n",
       "      <td>2024-02-03</td>\n",
       "      <td>2024-03-08</td>\n",
       "      <td>6</td>\n",
       "      <td>2515.05</td>\n",
       "      <td>2023-04-02</td>\n",
       "      <td>Unknown</td>\n",
       "      <td>2023-04-02 11:34:34</td>\n",
       "      <td>006</td>\n",
       "      <td>1706918400000000000</td>\n",
       "      <td>1709856000000000000</td>\n",
       "      <td>2023-04-02 11:34:34</td>\n",
       "      <td>1680393600000000000</td>\n",
       "      <td>Brindisi</td>\n",
       "      <td>Winter</td>\n",
       "    </tr>\n",
       "    <tr>\n",
       "      <th>60313</th>\n",
       "      <td>2771190332/4142120223</td>\n",
       "      <td>Cancellata</td>\n",
       "      <td>Booking.com</td>\n",
       "      <td>2024-02-01</td>\n",
       "      <td>2024-01-07</td>\n",
       "      <td>0</td>\n",
       "      <td>0.00</td>\n",
       "      <td>2023-03-15</td>\n",
       "      <td>Unknown</td>\n",
       "      <td>2023-03-15 18:50:09</td>\n",
       "      <td>006</td>\n",
       "      <td>1706745600000000000</td>\n",
       "      <td>1704585600000000000</td>\n",
       "      <td>2023-03-15 18:50:09</td>\n",
       "      <td>1678838400000000000</td>\n",
       "      <td>Brindisi</td>\n",
       "      <td>Winter</td>\n",
       "    </tr>\n",
       "    <tr>\n",
       "      <th>60312</th>\n",
       "      <td>2722531194/4142090827</td>\n",
       "      <td>Cancellata</td>\n",
       "      <td>Booking.com</td>\n",
       "      <td>2024-02-01</td>\n",
       "      <td>2024-01-07</td>\n",
       "      <td>0</td>\n",
       "      <td>0.00</td>\n",
       "      <td>2023-03-15</td>\n",
       "      <td>Unknown</td>\n",
       "      <td>2023-03-15 18:31:58</td>\n",
       "      <td>006</td>\n",
       "      <td>1706745600000000000</td>\n",
       "      <td>1704585600000000000</td>\n",
       "      <td>2023-03-15 18:31:58</td>\n",
       "      <td>1678838400000000000</td>\n",
       "      <td>Brindisi</td>\n",
       "      <td>Winter</td>\n",
       "    </tr>\n",
       "    <tr>\n",
       "      <th>60314</th>\n",
       "      <td>2771190332/4142120207</td>\n",
       "      <td>Cancellata</td>\n",
       "      <td>Booking.com</td>\n",
       "      <td>2024-02-01</td>\n",
       "      <td>2024-01-07</td>\n",
       "      <td>0</td>\n",
       "      <td>0.00</td>\n",
       "      <td>2023-03-15</td>\n",
       "      <td>Unknown</td>\n",
       "      <td>2023-03-15 18:50:09</td>\n",
       "      <td>006</td>\n",
       "      <td>1706745600000000000</td>\n",
       "      <td>1704585600000000000</td>\n",
       "      <td>2023-03-15 18:50:09</td>\n",
       "      <td>1678838400000000000</td>\n",
       "      <td>Brindisi</td>\n",
       "      <td>Winter</td>\n",
       "    </tr>\n",
       "  </tbody>\n",
       "</table>\n",
       "</div>"
      ],
      "text/plain": [
       "                        Code      Status BookingChannel    Arrival  Departure  \\\n",
       "60596  2708236755/4234197239  Confermata    Booking.com 2024-02-24 2024-03-02   \n",
       "60595  2366509110/4234190518  Cancellata    Booking.com 2024-02-24 2024-03-02   \n",
       "60341  2340590757/4148039829  Cancellata    Booking.com 2024-02-17 2024-02-24   \n",
       "60340  2340590757/4148039863  Cancellata    Booking.com 2024-02-17 2024-02-24   \n",
       "60339  2340590757/4148039844  Cancellata    Booking.com 2024-02-17 2024-02-24   \n",
       "60269           16134FG15230  Confermata           Sito 2024-02-17 2024-02-24   \n",
       "60417  3051523557/4172280874  Confermata    Booking.com 2024-02-03 2024-03-08   \n",
       "60313  2771190332/4142120223  Cancellata    Booking.com 2024-02-01 2024-01-07   \n",
       "60312  2722531194/4142090827  Cancellata    Booking.com 2024-02-01 2024-01-07   \n",
       "60314  2771190332/4142120207  Cancellata    Booking.com 2024-02-01 2024-01-07   \n",
       "\n",
       "       Nights    Total PurchaseDate BookingDevice        LastModified HotelId  \\\n",
       "60596       7  3134.70   2023-05-07       Unknown 2023-05-07 09:39:59     006   \n",
       "60595       0     0.00   2023-05-07       Unknown 2023-05-07 09:33:58     006   \n",
       "60341       0     0.00   2023-03-19       Unknown 2023-03-19 10:37:54     006   \n",
       "60340       0     0.00   2023-03-19       Unknown 2023-03-19 10:37:54     006   \n",
       "60339       0     0.00   2023-03-19       Unknown 2023-03-19 10:37:54     006   \n",
       "60269       7  3507.00   2023-03-07       Website 2023-03-07 21:29:22     006   \n",
       "60417       6  2515.05   2023-04-02       Unknown 2023-04-02 11:34:34     006   \n",
       "60313       0     0.00   2023-03-15       Unknown 2023-03-15 18:50:09     006   \n",
       "60312       0     0.00   2023-03-15       Unknown 2023-03-15 18:31:58     006   \n",
       "60314       0     0.00   2023-03-15       Unknown 2023-03-15 18:50:09     006   \n",
       "\n",
       "         Arrival_Timestamp  Departure_Timestamp LastModified_Timestamp  \\\n",
       "60596  1708732800000000000  1709337600000000000    2023-05-07 09:39:59   \n",
       "60595  1708732800000000000  1709337600000000000    2023-05-07 09:33:58   \n",
       "60341  1708128000000000000  1708732800000000000    2023-03-19 10:37:54   \n",
       "60340  1708128000000000000  1708732800000000000    2023-03-19 10:37:54   \n",
       "60339  1708128000000000000  1708732800000000000    2023-03-19 10:37:54   \n",
       "60269  1708128000000000000  1708732800000000000    2023-03-07 21:29:22   \n",
       "60417  1706918400000000000  1709856000000000000    2023-04-02 11:34:34   \n",
       "60313  1706745600000000000  1704585600000000000    2023-03-15 18:50:09   \n",
       "60312  1706745600000000000  1704585600000000000    2023-03-15 18:31:58   \n",
       "60314  1706745600000000000  1704585600000000000    2023-03-15 18:50:09   \n",
       "\n",
       "        Purchase_Timestamp      City  Season  \n",
       "60596  1683417600000000000  Brindisi  Winter  \n",
       "60595  1683417600000000000  Brindisi  Winter  \n",
       "60341  1679184000000000000  Brindisi  Winter  \n",
       "60340  1679184000000000000  Brindisi  Winter  \n",
       "60339  1679184000000000000  Brindisi  Winter  \n",
       "60269  1678147200000000000  Brindisi  Winter  \n",
       "60417  1680393600000000000  Brindisi  Winter  \n",
       "60313  1678838400000000000  Brindisi  Winter  \n",
       "60312  1678838400000000000  Brindisi  Winter  \n",
       "60314  1678838400000000000  Brindisi  Winter  "
      ]
     },
     "execution_count": 13,
     "metadata": {},
     "output_type": "execute_result"
    }
   ],
   "source": [
    "hb_dataset.head(10)"
   ]
  },
  {
   "cell_type": "markdown",
   "metadata": {},
   "source": [
    " Here we start to to understand the categories Status and Booking devices and use an Ordinal encoder. Our expectation is for the status are the categories: Confermata(Confirmed), Cancellata(Cancelled), Modificata(Modified). This later will be useful for cancellation score."
   ]
  },
  {
   "cell_type": "code",
   "execution_count": 14,
   "metadata": {},
   "outputs": [
    {
     "data": {
      "text/plain": [
       "array(['Confermata', 'Cancellata', 'Modificata'], dtype=object)"
      ]
     },
     "execution_count": 14,
     "metadata": {},
     "output_type": "execute_result"
    }
   ],
   "source": [
    "hb_dataset['Status'].unique()"
   ]
  },
  {
   "cell_type": "code",
   "execution_count": 15,
   "metadata": {},
   "outputs": [
    {
     "data": {
      "text/plain": [
       "array(['Unknown', 'Website', 'Mobile', 'Tablet'], dtype=object)"
      ]
     },
     "execution_count": 15,
     "metadata": {},
     "output_type": "execute_result"
    }
   ],
   "source": [
    "hb_dataset['BookingDevice'].unique()"
   ]
  },
  {
   "cell_type": "code",
   "execution_count": 16,
   "metadata": {},
   "outputs": [
    {
     "name": "stderr",
     "output_type": "stream",
     "text": [
      "/tmp/ipykernel_31877/699959253.py:7: SettingWithCopyWarning: \n",
      "A value is trying to be set on a copy of a slice from a DataFrame.\n",
      "Try using .loc[row_indexer,col_indexer] = value instead\n",
      "\n",
      "See the caveats in the documentation: https://pandas.pydata.org/pandas-docs/stable/user_guide/indexing.html#returning-a-view-versus-a-copy\n",
      "  hb_dataset['Status'] = hb_dataset_booking_cat\n",
      "/tmp/ipykernel_31877/699959253.py:8: SettingWithCopyWarning: \n",
      "A value is trying to be set on a copy of a slice from a DataFrame.\n",
      "Try using .loc[row_indexer,col_indexer] = value instead\n",
      "\n",
      "See the caveats in the documentation: https://pandas.pydata.org/pandas-docs/stable/user_guide/indexing.html#returning-a-view-versus-a-copy\n",
      "  hb_dataset['BookingDevice'] = hb_dataset_booking_device\n"
     ]
    },
    {
     "data": {
      "text/html": [
       "<div>\n",
       "<style scoped>\n",
       "    .dataframe tbody tr th:only-of-type {\n",
       "        vertical-align: middle;\n",
       "    }\n",
       "\n",
       "    .dataframe tbody tr th {\n",
       "        vertical-align: top;\n",
       "    }\n",
       "\n",
       "    .dataframe thead th {\n",
       "        text-align: right;\n",
       "    }\n",
       "</style>\n",
       "<table border=\"1\" class=\"dataframe\">\n",
       "  <thead>\n",
       "    <tr style=\"text-align: right;\">\n",
       "      <th></th>\n",
       "      <th>Code</th>\n",
       "      <th>Status</th>\n",
       "      <th>BookingChannel</th>\n",
       "      <th>Arrival</th>\n",
       "      <th>Departure</th>\n",
       "      <th>Nights</th>\n",
       "      <th>Total</th>\n",
       "      <th>PurchaseDate</th>\n",
       "      <th>BookingDevice</th>\n",
       "      <th>LastModified</th>\n",
       "      <th>HotelId</th>\n",
       "      <th>Arrival_Timestamp</th>\n",
       "      <th>Departure_Timestamp</th>\n",
       "      <th>LastModified_Timestamp</th>\n",
       "      <th>Purchase_Timestamp</th>\n",
       "      <th>City</th>\n",
       "      <th>Season</th>\n",
       "    </tr>\n",
       "  </thead>\n",
       "  <tbody>\n",
       "    <tr>\n",
       "      <th>60596</th>\n",
       "      <td>2708236755/4234197239</td>\n",
       "      <td>1.0</td>\n",
       "      <td>Booking.com</td>\n",
       "      <td>2024-02-24</td>\n",
       "      <td>2024-03-02</td>\n",
       "      <td>7</td>\n",
       "      <td>3134.70</td>\n",
       "      <td>2023-05-07</td>\n",
       "      <td>2.0</td>\n",
       "      <td>2023-05-07 09:39:59</td>\n",
       "      <td>006</td>\n",
       "      <td>1708732800000000000</td>\n",
       "      <td>1709337600000000000</td>\n",
       "      <td>2023-05-07 09:39:59</td>\n",
       "      <td>1683417600000000000</td>\n",
       "      <td>Brindisi</td>\n",
       "      <td>Winter</td>\n",
       "    </tr>\n",
       "    <tr>\n",
       "      <th>60595</th>\n",
       "      <td>2366509110/4234190518</td>\n",
       "      <td>0.0</td>\n",
       "      <td>Booking.com</td>\n",
       "      <td>2024-02-24</td>\n",
       "      <td>2024-03-02</td>\n",
       "      <td>0</td>\n",
       "      <td>0.00</td>\n",
       "      <td>2023-05-07</td>\n",
       "      <td>2.0</td>\n",
       "      <td>2023-05-07 09:33:58</td>\n",
       "      <td>006</td>\n",
       "      <td>1708732800000000000</td>\n",
       "      <td>1709337600000000000</td>\n",
       "      <td>2023-05-07 09:33:58</td>\n",
       "      <td>1683417600000000000</td>\n",
       "      <td>Brindisi</td>\n",
       "      <td>Winter</td>\n",
       "    </tr>\n",
       "    <tr>\n",
       "      <th>60341</th>\n",
       "      <td>2340590757/4148039829</td>\n",
       "      <td>0.0</td>\n",
       "      <td>Booking.com</td>\n",
       "      <td>2024-02-17</td>\n",
       "      <td>2024-02-24</td>\n",
       "      <td>0</td>\n",
       "      <td>0.00</td>\n",
       "      <td>2023-03-19</td>\n",
       "      <td>2.0</td>\n",
       "      <td>2023-03-19 10:37:54</td>\n",
       "      <td>006</td>\n",
       "      <td>1708128000000000000</td>\n",
       "      <td>1708732800000000000</td>\n",
       "      <td>2023-03-19 10:37:54</td>\n",
       "      <td>1679184000000000000</td>\n",
       "      <td>Brindisi</td>\n",
       "      <td>Winter</td>\n",
       "    </tr>\n",
       "    <tr>\n",
       "      <th>60340</th>\n",
       "      <td>2340590757/4148039863</td>\n",
       "      <td>0.0</td>\n",
       "      <td>Booking.com</td>\n",
       "      <td>2024-02-17</td>\n",
       "      <td>2024-02-24</td>\n",
       "      <td>0</td>\n",
       "      <td>0.00</td>\n",
       "      <td>2023-03-19</td>\n",
       "      <td>2.0</td>\n",
       "      <td>2023-03-19 10:37:54</td>\n",
       "      <td>006</td>\n",
       "      <td>1708128000000000000</td>\n",
       "      <td>1708732800000000000</td>\n",
       "      <td>2023-03-19 10:37:54</td>\n",
       "      <td>1679184000000000000</td>\n",
       "      <td>Brindisi</td>\n",
       "      <td>Winter</td>\n",
       "    </tr>\n",
       "    <tr>\n",
       "      <th>60339</th>\n",
       "      <td>2340590757/4148039844</td>\n",
       "      <td>0.0</td>\n",
       "      <td>Booking.com</td>\n",
       "      <td>2024-02-17</td>\n",
       "      <td>2024-02-24</td>\n",
       "      <td>0</td>\n",
       "      <td>0.00</td>\n",
       "      <td>2023-03-19</td>\n",
       "      <td>2.0</td>\n",
       "      <td>2023-03-19 10:37:54</td>\n",
       "      <td>006</td>\n",
       "      <td>1708128000000000000</td>\n",
       "      <td>1708732800000000000</td>\n",
       "      <td>2023-03-19 10:37:54</td>\n",
       "      <td>1679184000000000000</td>\n",
       "      <td>Brindisi</td>\n",
       "      <td>Winter</td>\n",
       "    </tr>\n",
       "    <tr>\n",
       "      <th>60269</th>\n",
       "      <td>16134FG15230</td>\n",
       "      <td>1.0</td>\n",
       "      <td>Sito</td>\n",
       "      <td>2024-02-17</td>\n",
       "      <td>2024-02-24</td>\n",
       "      <td>7</td>\n",
       "      <td>3507.00</td>\n",
       "      <td>2023-03-07</td>\n",
       "      <td>3.0</td>\n",
       "      <td>2023-03-07 21:29:22</td>\n",
       "      <td>006</td>\n",
       "      <td>1708128000000000000</td>\n",
       "      <td>1708732800000000000</td>\n",
       "      <td>2023-03-07 21:29:22</td>\n",
       "      <td>1678147200000000000</td>\n",
       "      <td>Brindisi</td>\n",
       "      <td>Winter</td>\n",
       "    </tr>\n",
       "    <tr>\n",
       "      <th>60417</th>\n",
       "      <td>3051523557/4172280874</td>\n",
       "      <td>1.0</td>\n",
       "      <td>Booking.com</td>\n",
       "      <td>2024-02-03</td>\n",
       "      <td>2024-03-08</td>\n",
       "      <td>6</td>\n",
       "      <td>2515.05</td>\n",
       "      <td>2023-04-02</td>\n",
       "      <td>2.0</td>\n",
       "      <td>2023-04-02 11:34:34</td>\n",
       "      <td>006</td>\n",
       "      <td>1706918400000000000</td>\n",
       "      <td>1709856000000000000</td>\n",
       "      <td>2023-04-02 11:34:34</td>\n",
       "      <td>1680393600000000000</td>\n",
       "      <td>Brindisi</td>\n",
       "      <td>Winter</td>\n",
       "    </tr>\n",
       "    <tr>\n",
       "      <th>60313</th>\n",
       "      <td>2771190332/4142120223</td>\n",
       "      <td>0.0</td>\n",
       "      <td>Booking.com</td>\n",
       "      <td>2024-02-01</td>\n",
       "      <td>2024-01-07</td>\n",
       "      <td>0</td>\n",
       "      <td>0.00</td>\n",
       "      <td>2023-03-15</td>\n",
       "      <td>2.0</td>\n",
       "      <td>2023-03-15 18:50:09</td>\n",
       "      <td>006</td>\n",
       "      <td>1706745600000000000</td>\n",
       "      <td>1704585600000000000</td>\n",
       "      <td>2023-03-15 18:50:09</td>\n",
       "      <td>1678838400000000000</td>\n",
       "      <td>Brindisi</td>\n",
       "      <td>Winter</td>\n",
       "    </tr>\n",
       "    <tr>\n",
       "      <th>60312</th>\n",
       "      <td>2722531194/4142090827</td>\n",
       "      <td>0.0</td>\n",
       "      <td>Booking.com</td>\n",
       "      <td>2024-02-01</td>\n",
       "      <td>2024-01-07</td>\n",
       "      <td>0</td>\n",
       "      <td>0.00</td>\n",
       "      <td>2023-03-15</td>\n",
       "      <td>2.0</td>\n",
       "      <td>2023-03-15 18:31:58</td>\n",
       "      <td>006</td>\n",
       "      <td>1706745600000000000</td>\n",
       "      <td>1704585600000000000</td>\n",
       "      <td>2023-03-15 18:31:58</td>\n",
       "      <td>1678838400000000000</td>\n",
       "      <td>Brindisi</td>\n",
       "      <td>Winter</td>\n",
       "    </tr>\n",
       "    <tr>\n",
       "      <th>60314</th>\n",
       "      <td>2771190332/4142120207</td>\n",
       "      <td>0.0</td>\n",
       "      <td>Booking.com</td>\n",
       "      <td>2024-02-01</td>\n",
       "      <td>2024-01-07</td>\n",
       "      <td>0</td>\n",
       "      <td>0.00</td>\n",
       "      <td>2023-03-15</td>\n",
       "      <td>2.0</td>\n",
       "      <td>2023-03-15 18:50:09</td>\n",
       "      <td>006</td>\n",
       "      <td>1706745600000000000</td>\n",
       "      <td>1704585600000000000</td>\n",
       "      <td>2023-03-15 18:50:09</td>\n",
       "      <td>1678838400000000000</td>\n",
       "      <td>Brindisi</td>\n",
       "      <td>Winter</td>\n",
       "    </tr>\n",
       "  </tbody>\n",
       "</table>\n",
       "</div>"
      ],
      "text/plain": [
       "                        Code  Status BookingChannel    Arrival  Departure  \\\n",
       "60596  2708236755/4234197239     1.0    Booking.com 2024-02-24 2024-03-02   \n",
       "60595  2366509110/4234190518     0.0    Booking.com 2024-02-24 2024-03-02   \n",
       "60341  2340590757/4148039829     0.0    Booking.com 2024-02-17 2024-02-24   \n",
       "60340  2340590757/4148039863     0.0    Booking.com 2024-02-17 2024-02-24   \n",
       "60339  2340590757/4148039844     0.0    Booking.com 2024-02-17 2024-02-24   \n",
       "60269           16134FG15230     1.0           Sito 2024-02-17 2024-02-24   \n",
       "60417  3051523557/4172280874     1.0    Booking.com 2024-02-03 2024-03-08   \n",
       "60313  2771190332/4142120223     0.0    Booking.com 2024-02-01 2024-01-07   \n",
       "60312  2722531194/4142090827     0.0    Booking.com 2024-02-01 2024-01-07   \n",
       "60314  2771190332/4142120207     0.0    Booking.com 2024-02-01 2024-01-07   \n",
       "\n",
       "       Nights    Total PurchaseDate  BookingDevice        LastModified  \\\n",
       "60596       7  3134.70   2023-05-07            2.0 2023-05-07 09:39:59   \n",
       "60595       0     0.00   2023-05-07            2.0 2023-05-07 09:33:58   \n",
       "60341       0     0.00   2023-03-19            2.0 2023-03-19 10:37:54   \n",
       "60340       0     0.00   2023-03-19            2.0 2023-03-19 10:37:54   \n",
       "60339       0     0.00   2023-03-19            2.0 2023-03-19 10:37:54   \n",
       "60269       7  3507.00   2023-03-07            3.0 2023-03-07 21:29:22   \n",
       "60417       6  2515.05   2023-04-02            2.0 2023-04-02 11:34:34   \n",
       "60313       0     0.00   2023-03-15            2.0 2023-03-15 18:50:09   \n",
       "60312       0     0.00   2023-03-15            2.0 2023-03-15 18:31:58   \n",
       "60314       0     0.00   2023-03-15            2.0 2023-03-15 18:50:09   \n",
       "\n",
       "      HotelId    Arrival_Timestamp  Departure_Timestamp  \\\n",
       "60596     006  1708732800000000000  1709337600000000000   \n",
       "60595     006  1708732800000000000  1709337600000000000   \n",
       "60341     006  1708128000000000000  1708732800000000000   \n",
       "60340     006  1708128000000000000  1708732800000000000   \n",
       "60339     006  1708128000000000000  1708732800000000000   \n",
       "60269     006  1708128000000000000  1708732800000000000   \n",
       "60417     006  1706918400000000000  1709856000000000000   \n",
       "60313     006  1706745600000000000  1704585600000000000   \n",
       "60312     006  1706745600000000000  1704585600000000000   \n",
       "60314     006  1706745600000000000  1704585600000000000   \n",
       "\n",
       "      LastModified_Timestamp   Purchase_Timestamp      City  Season  \n",
       "60596    2023-05-07 09:39:59  1683417600000000000  Brindisi  Winter  \n",
       "60595    2023-05-07 09:33:58  1683417600000000000  Brindisi  Winter  \n",
       "60341    2023-03-19 10:37:54  1679184000000000000  Brindisi  Winter  \n",
       "60340    2023-03-19 10:37:54  1679184000000000000  Brindisi  Winter  \n",
       "60339    2023-03-19 10:37:54  1679184000000000000  Brindisi  Winter  \n",
       "60269    2023-03-07 21:29:22  1678147200000000000  Brindisi  Winter  \n",
       "60417    2023-04-02 11:34:34  1680393600000000000  Brindisi  Winter  \n",
       "60313    2023-03-15 18:50:09  1678838400000000000  Brindisi  Winter  \n",
       "60312    2023-03-15 18:31:58  1678838400000000000  Brindisi  Winter  \n",
       "60314    2023-03-15 18:50:09  1678838400000000000  Brindisi  Winter  "
      ]
     },
     "execution_count": 16,
     "metadata": {},
     "output_type": "execute_result"
    }
   ],
   "source": [
    "from sklearn.preprocessing import OrdinalEncoder\n",
    "status_categories = hb_dataset[['Status']]\n",
    "device_categories = hb_dataset[['BookingDevice']]\n",
    "ordinal_encoder = OrdinalEncoder()\n",
    "hb_dataset_booking_cat = ordinal_encoder.fit_transform(status_categories)\n",
    "hb_dataset_booking_device = ordinal_encoder.fit_transform(device_categories)\n",
    "hb_dataset['Status'] = hb_dataset_booking_cat\n",
    "hb_dataset['BookingDevice'] = hb_dataset_booking_device\n",
    "hb_dataset.head(10)"
   ]
  },
  {
   "cell_type": "markdown",
   "metadata": {},
   "source": [
    "## Descriptive statistics"
   ]
  },
  {
   "cell_type": "code",
   "execution_count": 22,
   "metadata": {},
   "outputs": [
    {
     "name": "stdout",
     "output_type": "stream",
     "text": [
      "\n",
      "Descriptive Statistics for numeric columns in the filtered DataFrame:\n",
      "             Status        Nights         Total  BookingDevice  \\\n",
      "count  39375.000000  39375.000000  39375.000000   39375.000000   \n",
      "mean       0.589486      1.517663    396.484267       2.041549   \n",
      "std        0.525435      1.969103    668.298718       0.519445   \n",
      "min        0.000000      0.000000      0.000000       0.000000   \n",
      "25%        0.000000      0.000000      0.000000       2.000000   \n",
      "50%        1.000000      1.000000    144.900000       2.000000   \n",
      "75%        1.000000      2.000000    531.515000       2.000000   \n",
      "max        2.000000     30.000000  20124.000000       3.000000   \n",
      "\n",
      "       Arrival_Timestamp  Departure_Timestamp  Purchase_Timestamp  \n",
      "count       3.937500e+04         3.937500e+04        3.937500e+04  \n",
      "mean        1.641716e+18         1.642539e+18        1.636303e+18  \n",
      "std         3.285898e+16         3.243173e+16        3.340110e+16  \n",
      "min         1.577837e+18         1.577923e+18        1.553213e+18  \n",
      "25%         1.615853e+18         1.622938e+18        1.612829e+18  \n",
      "50%         1.649549e+18         1.651363e+18        1.645229e+18  \n",
      "75%         1.665014e+18         1.664323e+18        1.661299e+18  \n",
      "max         1.708733e+18         1.709856e+18        1.688256e+18  \n",
      "\n",
      "Descriptive Statistics for all columns in the filtered DataFrame:\n",
      "                   Code        Status BookingChannel              Arrival  \\\n",
      "count             39375  39375.000000          39375                39375   \n",
      "unique            36774           NaN             57                 1399   \n",
      "top     M41DPG/554481/1           NaN    Booking.com  2020-09-24 00:00:00   \n",
      "freq                 13           NaN          23416                  146   \n",
      "first               NaN           NaN            NaN  2020-01-01 00:00:00   \n",
      "last                NaN           NaN            NaN  2024-02-24 00:00:00   \n",
      "mean                NaN      0.589486            NaN                  NaN   \n",
      "std                 NaN      0.525435            NaN                  NaN   \n",
      "min                 NaN      0.000000            NaN                  NaN   \n",
      "25%                 NaN      0.000000            NaN                  NaN   \n",
      "50%                 NaN      1.000000            NaN                  NaN   \n",
      "75%                 NaN      1.000000            NaN                  NaN   \n",
      "max                 NaN      2.000000            NaN                  NaN   \n",
      "\n",
      "                  Departure        Nights         Total         PurchaseDate  \\\n",
      "count                 39375  39375.000000  39375.000000                39375   \n",
      "unique                 1398           NaN           NaN                 1480   \n",
      "top     2020-09-27 00:00:00           NaN           NaN  2020-01-28 00:00:00   \n",
      "freq                    183           NaN           NaN                  143   \n",
      "first   2020-01-02 00:00:00           NaN           NaN  2019-03-22 00:00:00   \n",
      "last    2024-03-08 00:00:00           NaN           NaN  2023-07-02 00:00:00   \n",
      "mean                    NaN      1.517663    396.484267                  NaN   \n",
      "std                     NaN      1.969103    668.298718                  NaN   \n",
      "min                     NaN      0.000000      0.000000                  NaN   \n",
      "25%                     NaN      0.000000      0.000000                  NaN   \n",
      "50%                     NaN      1.000000    144.900000                  NaN   \n",
      "75%                     NaN      2.000000    531.515000                  NaN   \n",
      "max                     NaN     30.000000  20124.000000                  NaN   \n",
      "\n",
      "        BookingDevice         LastModified HotelId  Arrival_Timestamp  \\\n",
      "count    39375.000000                39375   39375       3.937500e+04   \n",
      "unique            NaN                32391      10                NaN   \n",
      "top               NaN  2020-01-28 22:26:38     008                NaN   \n",
      "freq              NaN                   24   10720                NaN   \n",
      "first             NaN  2019-03-22 12:49:30     NaN                NaN   \n",
      "last              NaN  2023-07-02 22:29:40     NaN                NaN   \n",
      "mean         2.041549                  NaN     NaN       1.641716e+18   \n",
      "std          0.519445                  NaN     NaN       3.285898e+16   \n",
      "min          0.000000                  NaN     NaN       1.577837e+18   \n",
      "25%          2.000000                  NaN     NaN       1.615853e+18   \n",
      "50%          2.000000                  NaN     NaN       1.649549e+18   \n",
      "75%          2.000000                  NaN     NaN       1.665014e+18   \n",
      "max          3.000000                  NaN     NaN       1.708733e+18   \n",
      "\n",
      "        Departure_Timestamp LastModified_Timestamp  Purchase_Timestamp   City  \\\n",
      "count          3.937500e+04                  39375        3.937500e+04  39375   \n",
      "unique                  NaN                  32391                 NaN      7   \n",
      "top                     NaN    2020-01-28 22:26:38                 NaN  Olbia   \n",
      "freq                    NaN                     24                 NaN  10720   \n",
      "first                   NaN    2019-03-22 12:49:30                 NaN    NaN   \n",
      "last                    NaN    2023-07-02 22:29:40                 NaN    NaN   \n",
      "mean           1.642539e+18                    NaN        1.636303e+18    NaN   \n",
      "std            3.243173e+16                    NaN        3.340110e+16    NaN   \n",
      "min            1.577923e+18                    NaN        1.553213e+18    NaN   \n",
      "25%            1.622938e+18                    NaN        1.612829e+18    NaN   \n",
      "50%            1.651363e+18                    NaN        1.645229e+18    NaN   \n",
      "75%            1.664323e+18                    NaN        1.661299e+18    NaN   \n",
      "max            1.709856e+18                    NaN        1.688256e+18    NaN   \n",
      "\n",
      "        Season  \n",
      "count    39375  \n",
      "unique       4  \n",
      "top     Summer  \n",
      "freq     13869  \n",
      "first      NaN  \n",
      "last       NaN  \n",
      "mean       NaN  \n",
      "std        NaN  \n",
      "min        NaN  \n",
      "25%        NaN  \n",
      "50%        NaN  \n",
      "75%        NaN  \n",
      "max        NaN  \n"
     ]
    },
    {
     "name": "stderr",
     "output_type": "stream",
     "text": [
      "/tmp/ipykernel_31877/2572938487.py:5: FutureWarning: Treating datetime data as categorical rather than numeric in `.describe` is deprecated and will be removed in a future version of pandas. Specify `datetime_is_numeric=True` to silence this warning and adopt the future behavior now.\n",
      "  descriptive_stats_all = hb_dataset.describe(include='all')\n",
      "/tmp/ipykernel_31877/2572938487.py:5: FutureWarning: Treating datetime data as categorical rather than numeric in `.describe` is deprecated and will be removed in a future version of pandas. Specify `datetime_is_numeric=True` to silence this warning and adopt the future behavior now.\n",
      "  descriptive_stats_all = hb_dataset.describe(include='all')\n",
      "/tmp/ipykernel_31877/2572938487.py:5: FutureWarning: Treating datetime data as categorical rather than numeric in `.describe` is deprecated and will be removed in a future version of pandas. Specify `datetime_is_numeric=True` to silence this warning and adopt the future behavior now.\n",
      "  descriptive_stats_all = hb_dataset.describe(include='all')\n",
      "/tmp/ipykernel_31877/2572938487.py:5: FutureWarning: Treating datetime data as categorical rather than numeric in `.describe` is deprecated and will be removed in a future version of pandas. Specify `datetime_is_numeric=True` to silence this warning and adopt the future behavior now.\n",
      "  descriptive_stats_all = hb_dataset.describe(include='all')\n",
      "/tmp/ipykernel_31877/2572938487.py:5: FutureWarning: Treating datetime data as categorical rather than numeric in `.describe` is deprecated and will be removed in a future version of pandas. Specify `datetime_is_numeric=True` to silence this warning and adopt the future behavior now.\n",
      "  descriptive_stats_all = hb_dataset.describe(include='all')\n"
     ]
    }
   ],
   "source": [
    "# For numeric columns only\n",
    "descriptive_stats = hb_dataset.describe()\n",
    "print(\"\\nDescriptive Statistics for numeric columns in the filtered DataFrame:\")\n",
    "print(descriptive_stats)\n",
    "descriptive_stats_all = hb_dataset.describe(include='all')\n",
    "print(\"\\nDescriptive Statistics for all columns in the filtered DataFrame:\")\n",
    "print(descriptive_stats_all)"
   ]
  },
  {
   "cell_type": "markdown",
   "metadata": {},
   "source": [
    "We know that:\n",
    "- We've 39375 booking in the period.\n",
    "- The average staying is 1.6 days for each booking.\n",
    "- The medium booking revenue is 370 euros."
   ]
  },
  {
   "cell_type": "markdown",
   "metadata": {},
   "source": [
    "That's not enough, we want to know:\n",
    "- How frequent is a booking?\n",
    "- Which between our customers how had most revenue?\n",
    "- Which has most room booked and and in which city?\n",
    "- Which is the season in which we've most rooom booked? "
   ]
  },
  {
   "cell_type": "code",
   "execution_count": 24,
   "metadata": {},
   "outputs": [],
   "source": [
    "import seaborn as sns\n",
    "import matplotlib.pyplot as plt\n",
    "from scipy import stats\n",
    "import numpy as np"
   ]
  },
  {
   "cell_type": "code",
   "execution_count": 25,
   "metadata": {},
   "outputs": [
    {
     "data": {
      "image/png": "[encoded data removed]",
      "text/plain": [
       "<Figure size 1000x600 with 1 Axes>"
      ]
     },
     "metadata": {},
     "output_type": "display_data"
    }
   ],
   "source": [
    "start_date = '2020-01-01'\n",
    "end_date = '2024-12-31'\n",
    "filtered_df = hb_dataset[(hb_dataset['PurchaseDate'] >= start_date) & (hb_dataset['PurchaseDate'] <= end_date)]\n",
    "\n",
    "# Plot the distribution of purchase dates using Seaborn\n",
    "plt.figure(figsize=(10, 6))\n",
    "sns.histplot(filtered_df['PurchaseDate'], kde=True, bins=30)\n",
    "plt.xlabel('Purchase Date')\n",
    "plt.ylabel('Frequency')\n",
    "plt.title('Distribution of Purchase Dates (2020-2024)')\n",
    "plt.xticks(rotation=45)\n",
    "plt.show()"
   ]
  },
  {
   "cell_type": "code",
   "execution_count": null,
   "metadata": {},
   "outputs": [],
   "source": [
    "plt.figure(figsize=(10, 6))\n",
    "sns.histplot(filtered_df['Arrival'], kde=True, bins=30)\n",
    "plt.xlabel('Arrival Date')\n",
    "plt.ylabel('Frequency')\n",
    "plt.title('Distribution of Arrival Dates (2020-2024)')\n",
    "plt.xticks(rotation=45)\n",
    "plt.show()"
   ]
  },
  {
   "cell_type": "markdown",
   "metadata": {},
   "source": [
    "Make sense. Most booking are at the beginning of the year and just before summer. Italians tends to go in vacation on August so in July the book."
   ]
  },
  {
   "cell_type": "code",
   "execution_count": null,
   "metadata": {},
   "outputs": [],
   "source": [
    "# Convert 'PurchaseDate' to ordinal for fitting distributions\n",
    "purchase_dates = hb_dataset['PurchaseDate'].apply(lambda x: x.toordinal())\n",
    "\n",
    "# List of distributions to check\n",
    "distributions = ['norm', 'expon', 'gamma', 'lognorm', 'beta']\n",
    "\n",
    "# Fit distributions and calculate KS statistic\n",
    "results = []\n",
    "for dist_name in distributions:\n",
    "    dist = getattr(stats, dist_name)\n",
    "    params = dist.fit(purchase_dates)\n",
    "    ks_stat, p_value = stats.kstest(purchase_dates, dist_name, args=params)\n",
    "    results.append((dist_name, ks_stat, p_value))\n",
    "\n",
    "# Print results\n",
    "results_df = pd.DataFrame(results, columns=['Distribution', 'KS Statistic', 'P-Value'])\n",
    "print(results_df)\n",
    "\n",
    "# Plot the best fitting distribution\n",
    "best_dist_name = results_df.sort_values('KS Statistic').iloc[0]['Distribution']\n",
    "best_dist = getattr(stats, best_dist_name)\n",
    "best_params = best_dist.fit(purchase_dates)\n",
    "\n",
    "# Plot histogram and fitted distribution\n",
    "plt.figure(figsize=(10, 6))\n",
    "sns.histplot(purchase_dates, kde=False, bins=30, color='skyblue', stat='density')\n",
    "\n",
    "# Plot the PDF of the best fitting distribution\n",
    "x = np.linspace(min(purchase_dates), max(purchase_dates), 1000)\n",
    "pdf_fitted = best_dist.pdf(x, *best_params)\n",
    "plt.plot(x, pdf_fitted, 'r-', label=f'Best fit: {best_dist_name}')\n",
    "\n",
    "plt.xlabel('Purchase Date (ordinal)')\n",
    "plt.ylabel('Density')\n",
    "plt.title('Best Fitting Distribution for Purchase Dates')\n",
    "plt.legend()\n",
    "plt.show()\n"
   ]
  },
  {
   "cell_type": "code",
   "execution_count": null,
   "metadata": {},
   "outputs": [],
   "source": [
    "arrival_dates = hb_dataset['Arrival'].apply(lambda x: x.toordinal())\n",
    "\n",
    "# List of distributions to check\n",
    "distributions = ['norm', 'expon', 'gamma', 'lognorm', 'beta']\n",
    "\n",
    "# Fit distributions and calculate KS statistic\n",
    "results = []\n",
    "for dist_name in distributions:\n",
    "    dist = getattr(stats, dist_name)\n",
    "    params = dist.fit(arrival_dates)\n",
    "    ks_stat, p_value = stats.kstest(arrival_dates, dist_name, args=params)\n",
    "    results.append((dist_name, ks_stat, p_value))\n",
    "\n",
    "# Print results\n",
    "results_df = pd.DataFrame(results, columns=['Distribution', 'KS Statistic', 'P-Value'])\n",
    "print(results_df)\n",
    "\n",
    "# Plot the best fitting distribution\n",
    "best_dist_name = results_df.sort_values('KS Statistic').iloc[0]['Distribution']\n",
    "best_dist = getattr(stats, best_dist_name)\n",
    "best_params = best_dist.fit(arrival_dates)\n",
    "\n",
    "# Plot histogram and fitted distribution\n",
    "plt.figure(figsize=(10, 6))\n",
    "sns.histplot(arrival_dates, kde=False, bins=30, color='skyblue', stat='density')\n",
    "\n",
    "# Plot the PDF of the best fitting distribution\n",
    "x = np.linspace(min(arrival_dates), max(arrival_dates), 1000)\n",
    "pdf_fitted = best_dist.pdf(x, *best_params)\n",
    "plt.plot(x, pdf_fitted, 'r-', label=f'Best fit: {best_dist_name}')\n",
    "\n",
    "plt.xlabel('Arrival Date (ordinal)')\n",
    "plt.ylabel('Density')\n",
    "plt.title('Best Fitting Distribution for Arrival Dates')\n",
    "plt.legend()\n",
    "plt.show()"
   ]
  },
  {
   "cell_type": "markdown",
   "metadata": {},
   "source": [
    "## Which between our customers had most revenue?"
   ]
  },
  {
   "cell_type": "code",
   "execution_count": null,
   "metadata": {},
   "outputs": [],
   "source": [
    "\n",
    "revenue_per_hotel = hb_dataset.groupby(['HotelId', 'City'])['Total'].sum().reset_index()\n",
    "revenue_per_hotel.sort_values(['Total'], inplace=True, ascending=False)\n",
    "revenue_per_hotel.head()\n"
   ]
  },
  {
   "cell_type": "code",
   "execution_count": null,
   "metadata": {},
   "outputs": [],
   "source": [
    "plt.figure(figsize=(10, 6))\n",
    "sns.barplot(x='HotelId', y='Total', data=revenue_per_hotel)\n",
    "plt.xlabel('Hotel ID')\n",
    "plt.ylabel('Total Revenue')\n",
    "plt.title('Total Revenue per Hotel (2020-2024)')\n",
    "plt.show()"
   ]
  },
  {
   "cell_type": "markdown",
   "metadata": {},
   "source": [
    "Now we want to see in the dataset the correlation between data, but for doing this and reaching the correlation matrix we need to reduce the \n",
    "features, distiguish between categorical and numerical and doing one shot encoding, removing redundant features."
   ]
  },
  {
   "cell_type": "code",
   "execution_count": null,
   "metadata": {},
   "outputs": [],
   "source": [
    "\n",
    "# Identify numerical and categorical columns\n",
    "numerical_cols = hb_dataset.select_dtypes(include=['int64', 'float64']).columns\n",
    "categorical_cols = hb_dataset.select_dtypes(include=['object']).columns\n",
    "# Drop unnecessary columns\n",
    "corr_df = hb_dataset.drop(columns=['Code', 'Arrival', 'Departure', 'PurchaseDate', 'LastModified'])\n",
    "# One-hot encoding of categorical columns using pd.get_dummies\n",
    "df_encoded = pd.get_dummies(corr_df, drop_first=True)\n",
    "# Compute the correlation matrix\n",
    "correlation_matrix = df_encoded.corr()\n",
    "# Display the correlation matrix\n",
    "print(\"Correlation Matrix:\")\n",
    "print(correlation_matrix)"
   ]
  },
  {
   "cell_type": "markdown",
   "metadata": {},
   "source": [
    "As expected some things are evident:\n",
    "- Rome is the city with higher possible revenue having an high correlation with Price.\n",
    "- Purchase Date and Arrival Date are correlated.\n",
    "Less evident is the behaviour for Season and the cities:\n",
    "- Expected behaviour that Olbia is overcrowded in Summer, since it is in Sardinia. \n",
    "For our purpose, compute demandscore is enough since we select just Arrival and treat the dataset like a time series.\n",
    "Now we will focus in model selection based on Arrival since our goal is to compute the demand score per hotel.\n",
    "There are two algorithms:\n",
    "    - Prophet\n",
    "    -  SARIMAX\n",
    "\n",
    "We'll see which is the best one for this dataset and we compute the score but first we need to detect anomalies for time series. Before we need to see if data contains anomalies and treat them. We aggregate the data weekly.\n"
   ]
  },
  {
   "cell_type": "code",
   "execution_count": 47,
   "metadata": {},
   "outputs": [
    {
     "data": {
      "text/html": [
       "<div>\n",
       "<style scoped>\n",
       "    .dataframe tbody tr th:only-of-type {\n",
       "        vertical-align: middle;\n",
       "    }\n",
       "\n",
       "    .dataframe tbody tr th {\n",
       "        vertical-align: top;\n",
       "    }\n",
       "\n",
       "    .dataframe thead th {\n",
       "        text-align: right;\n",
       "    }\n",
       "</style>\n",
       "<table border=\"1\" class=\"dataframe\">\n",
       "  <thead>\n",
       "    <tr style=\"text-align: right;\">\n",
       "      <th></th>\n",
       "      <th>Code</th>\n",
       "      <th>Status</th>\n",
       "      <th>BookingChannel</th>\n",
       "      <th>Arrival</th>\n",
       "      <th>Departure</th>\n",
       "      <th>Nights</th>\n",
       "      <th>Total</th>\n",
       "      <th>PurchaseDate</th>\n",
       "      <th>BookingDevice</th>\n",
       "      <th>LastModified</th>\n",
       "      <th>HotelId</th>\n",
       "      <th>Arrival_Timestamp</th>\n",
       "      <th>Departure_Timestamp</th>\n",
       "      <th>LastModified_Timestamp</th>\n",
       "      <th>Purchase_Timestamp</th>\n",
       "      <th>City</th>\n",
       "      <th>Season</th>\n",
       "      <th>Week</th>\n",
       "    </tr>\n",
       "  </thead>\n",
       "  <tbody>\n",
       "    <tr>\n",
       "      <th>60596</th>\n",
       "      <td>2708236755/4234197239</td>\n",
       "      <td>1.0</td>\n",
       "      <td>Booking.com</td>\n",
       "      <td>2024-02-24</td>\n",
       "      <td>2024-03-02</td>\n",
       "      <td>7</td>\n",
       "      <td>3134.7</td>\n",
       "      <td>2023-05-07</td>\n",
       "      <td>2.0</td>\n",
       "      <td>2023-05-07 09:39:59</td>\n",
       "      <td>006</td>\n",
       "      <td>1708732800000000000</td>\n",
       "      <td>1709337600000000000</td>\n",
       "      <td>2023-05-07 09:39:59</td>\n",
       "      <td>1683417600000000000</td>\n",
       "      <td>Brindisi</td>\n",
       "      <td>Winter</td>\n",
       "      <td>2024-02-19</td>\n",
       "    </tr>\n",
       "    <tr>\n",
       "      <th>60595</th>\n",
       "      <td>2366509110/4234190518</td>\n",
       "      <td>0.0</td>\n",
       "      <td>Booking.com</td>\n",
       "      <td>2024-02-24</td>\n",
       "      <td>2024-03-02</td>\n",
       "      <td>0</td>\n",
       "      <td>0.0</td>\n",
       "      <td>2023-05-07</td>\n",
       "      <td>2.0</td>\n",
       "      <td>2023-05-07 09:33:58</td>\n",
       "      <td>006</td>\n",
       "      <td>1708732800000000000</td>\n",
       "      <td>1709337600000000000</td>\n",
       "      <td>2023-05-07 09:33:58</td>\n",
       "      <td>1683417600000000000</td>\n",
       "      <td>Brindisi</td>\n",
       "      <td>Winter</td>\n",
       "      <td>2024-02-19</td>\n",
       "    </tr>\n",
       "    <tr>\n",
       "      <th>60341</th>\n",
       "      <td>2340590757/4148039829</td>\n",
       "      <td>0.0</td>\n",
       "      <td>Booking.com</td>\n",
       "      <td>2024-02-17</td>\n",
       "      <td>2024-02-24</td>\n",
       "      <td>0</td>\n",
       "      <td>0.0</td>\n",
       "      <td>2023-03-19</td>\n",
       "      <td>2.0</td>\n",
       "      <td>2023-03-19 10:37:54</td>\n",
       "      <td>006</td>\n",
       "      <td>1708128000000000000</td>\n",
       "      <td>1708732800000000000</td>\n",
       "      <td>2023-03-19 10:37:54</td>\n",
       "      <td>1679184000000000000</td>\n",
       "      <td>Brindisi</td>\n",
       "      <td>Winter</td>\n",
       "      <td>2024-02-12</td>\n",
       "    </tr>\n",
       "    <tr>\n",
       "      <th>60340</th>\n",
       "      <td>2340590757/4148039863</td>\n",
       "      <td>0.0</td>\n",
       "      <td>Booking.com</td>\n",
       "      <td>2024-02-17</td>\n",
       "      <td>2024-02-24</td>\n",
       "      <td>0</td>\n",
       "      <td>0.0</td>\n",
       "      <td>2023-03-19</td>\n",
       "      <td>2.0</td>\n",
       "      <td>2023-03-19 10:37:54</td>\n",
       "      <td>006</td>\n",
       "      <td>1708128000000000000</td>\n",
       "      <td>1708732800000000000</td>\n",
       "      <td>2023-03-19 10:37:54</td>\n",
       "      <td>1679184000000000000</td>\n",
       "      <td>Brindisi</td>\n",
       "      <td>Winter</td>\n",
       "      <td>2024-02-12</td>\n",
       "    </tr>\n",
       "    <tr>\n",
       "      <th>60339</th>\n",
       "      <td>2340590757/4148039844</td>\n",
       "      <td>0.0</td>\n",
       "      <td>Booking.com</td>\n",
       "      <td>2024-02-17</td>\n",
       "      <td>2024-02-24</td>\n",
       "      <td>0</td>\n",
       "      <td>0.0</td>\n",
       "      <td>2023-03-19</td>\n",
       "      <td>2.0</td>\n",
       "      <td>2023-03-19 10:37:54</td>\n",
       "      <td>006</td>\n",
       "      <td>1708128000000000000</td>\n",
       "      <td>1708732800000000000</td>\n",
       "      <td>2023-03-19 10:37:54</td>\n",
       "      <td>1679184000000000000</td>\n",
       "      <td>Brindisi</td>\n",
       "      <td>Winter</td>\n",
       "      <td>2024-02-12</td>\n",
       "    </tr>\n",
       "  </tbody>\n",
       "</table>\n",
       "</div>"
      ],
      "text/plain": [
       "                        Code  Status BookingChannel    Arrival  Departure  \\\n",
       "60596  2708236755/4234197239     1.0    Booking.com 2024-02-24 2024-03-02   \n",
       "60595  2366509110/4234190518     0.0    Booking.com 2024-02-24 2024-03-02   \n",
       "60341  2340590757/4148039829     0.0    Booking.com 2024-02-17 2024-02-24   \n",
       "60340  2340590757/4148039863     0.0    Booking.com 2024-02-17 2024-02-24   \n",
       "60339  2340590757/4148039844     0.0    Booking.com 2024-02-17 2024-02-24   \n",
       "\n",
       "       Nights   Total PurchaseDate  BookingDevice        LastModified HotelId  \\\n",
       "60596       7  3134.7   2023-05-07            2.0 2023-05-07 09:39:59     006   \n",
       "60595       0     0.0   2023-05-07            2.0 2023-05-07 09:33:58     006   \n",
       "60341       0     0.0   2023-03-19            2.0 2023-03-19 10:37:54     006   \n",
       "60340       0     0.0   2023-03-19            2.0 2023-03-19 10:37:54     006   \n",
       "60339       0     0.0   2023-03-19            2.0 2023-03-19 10:37:54     006   \n",
       "\n",
       "         Arrival_Timestamp  Departure_Timestamp LastModified_Timestamp  \\\n",
       "60596  1708732800000000000  1709337600000000000    2023-05-07 09:39:59   \n",
       "60595  1708732800000000000  1709337600000000000    2023-05-07 09:33:58   \n",
       "60341  1708128000000000000  1708732800000000000    2023-03-19 10:37:54   \n",
       "60340  1708128000000000000  1708732800000000000    2023-03-19 10:37:54   \n",
       "60339  1708128000000000000  1708732800000000000    2023-03-19 10:37:54   \n",
       "\n",
       "        Purchase_Timestamp      City  Season       Week  \n",
       "60596  1683417600000000000  Brindisi  Winter 2024-02-19  \n",
       "60595  1683417600000000000  Brindisi  Winter 2024-02-19  \n",
       "60341  1679184000000000000  Brindisi  Winter 2024-02-12  \n",
       "60340  1679184000000000000  Brindisi  Winter 2024-02-12  \n",
       "60339  1679184000000000000  Brindisi  Winter 2024-02-12  "
      ]
     },
     "execution_count": 47,
     "metadata": {},
     "output_type": "execute_result"
    }
   ],
   "source": [
    "hb_dataset.head()"
   ]
  },
  {
   "cell_type": "code",
   "execution_count": 65,
   "metadata": {},
   "outputs": [
    {
     "name": "stderr",
     "output_type": "stream",
     "text": [
      "/tmp/ipykernel_31877/2936684913.py:2: SettingWithCopyWarning:\n",
      "\n",
      "\n",
      "A value is trying to be set on a copy of a slice from a DataFrame.\n",
      "Try using .loc[row_indexer,col_indexer] = value instead\n",
      "\n",
      "See the caveats in the documentation: https://pandas.pydata.org/pandas-docs/stable/user_guide/indexing.html#returning-a-view-versus-a-copy\n",
      "\n"
     ]
    },
    {
     "data": {
      "text/html": [
       "<div>\n",
       "<style scoped>\n",
       "    .dataframe tbody tr th:only-of-type {\n",
       "        vertical-align: middle;\n",
       "    }\n",
       "\n",
       "    .dataframe tbody tr th {\n",
       "        vertical-align: top;\n",
       "    }\n",
       "\n",
       "    .dataframe thead th {\n",
       "        text-align: right;\n",
       "    }\n",
       "</style>\n",
       "<table border=\"1\" class=\"dataframe\">\n",
       "  <thead>\n",
       "    <tr style=\"text-align: right;\">\n",
       "      <th></th>\n",
       "      <th>HotelId</th>\n",
       "      <th>Week</th>\n",
       "      <th>BookingCount</th>\n",
       "    </tr>\n",
       "  </thead>\n",
       "  <tbody>\n",
       "    <tr>\n",
       "      <th>0</th>\n",
       "      <td>001</td>\n",
       "      <td>2020-01-06</td>\n",
       "      <td>5</td>\n",
       "    </tr>\n",
       "    <tr>\n",
       "      <th>1</th>\n",
       "      <td>001</td>\n",
       "      <td>2020-03-02</td>\n",
       "      <td>2</td>\n",
       "    </tr>\n",
       "    <tr>\n",
       "      <th>2</th>\n",
       "      <td>001</td>\n",
       "      <td>2020-04-06</td>\n",
       "      <td>1</td>\n",
       "    </tr>\n",
       "    <tr>\n",
       "      <th>3</th>\n",
       "      <td>001</td>\n",
       "      <td>2020-05-18</td>\n",
       "      <td>2</td>\n",
       "    </tr>\n",
       "    <tr>\n",
       "      <th>4</th>\n",
       "      <td>001</td>\n",
       "      <td>2020-05-25</td>\n",
       "      <td>1</td>\n",
       "    </tr>\n",
       "  </tbody>\n",
       "</table>\n",
       "</div>"
      ],
      "text/plain": [
       "  HotelId       Week  BookingCount\n",
       "0     001 2020-01-06             5\n",
       "1     001 2020-03-02             2\n",
       "2     001 2020-04-06             1\n",
       "3     001 2020-05-18             2\n",
       "4     001 2020-05-25             1"
      ]
     },
     "execution_count": 65,
     "metadata": {},
     "output_type": "execute_result"
    }
   ],
   "source": [
    "# Aggregate the data to get weekly demand\n",
    "hb_dataset['Week'] = hb_dataset['Arrival'].dt.to_period('W').apply(lambda r: r.start_time)\n",
    "weekly_demand = hb_dataset.groupby(['HotelId','Week']).size().reset_index(name='BookingCount')\n",
    "weekly_demand.sort_values(by='Week')\n",
    "weekly_demand.head()"
   ]
  },
  {
   "cell_type": "code",
   "execution_count": 68,
   "metadata": {
    "scrolled": true
   },
   "outputs": [
    {
     "data": {
      "application/vnd.plotly.v1+json": {
       "config": {
        "plotlyServerURL": "https://plot.ly"
       },
       "data": [
        {
         "alignmentgroup": "True",
         "boxpoints": "all",
         "hovertemplate": "HotelId=001<br>BookingCount=%{y}<extra></extra>",
         "legendgroup": "001",
         "marker": {
          "color": "#636efa"
         },
         "name": "001",
         "notched": false,
         "offsetgroup": "001",
         "orientation": "v",
         "quartilemethod": "linear",
         "showlegend": true,
         "type": "box",
         "x0": " ",
         "xaxis": "x",
         "y": [
          5,
          2,
          1,
          2,
          1,
          3,
          1,
          8,
          3,
          2,
          3,
          1
         ],
         "y0": " ",
         "yaxis": "y"
        },
        {
         "alignmentgroup": "True",
         "boxpoints": "all",
         "hovertemplate": "HotelId=002<br>BookingCount=%{y}<extra></extra>",
         "legendgroup": "002",
         "marker": {
          "color": "#EF553B"
         },
         "name": "002",
         "notched": false,
         "offsetgroup": "002",
         "orientation": "v",
         "quartilemethod": "linear",
         "showlegend": true,
         "type": "box",
         "x0": " ",
         "xaxis": "x",
         "y": [
          3,
          3,
          8,
          10,
          40,
          3,
          13,
          9,
          3,
          11,
          5,
          2,
          6,
          8,
          6,
          3,
          2,
          2,
          8,
          2,
          3,
          1,
          6,
          6,
          11,
          17,
          17,
          33,
          27,
          5,
          1,
          8,
          1,
          3,
          8,
          12,
          5,
          4,
          13,
          15,
          1,
          7,
          6,
          1,
          6,
          7,
          10,
          10,
          11,
          5,
          4,
          10,
          4,
          2,
          17,
          2,
          21,
          29,
          11,
          21,
          2,
          21,
          80,
          16,
          1,
          21,
          3,
          9,
          4,
          8,
          8,
          5,
          7,
          2,
          7,
          4,
          1,
          11,
          10,
          2,
          7,
          13,
          8,
          6,
          9,
          7,
          2,
          13,
          6,
          11,
          14,
          17,
          1,
          1,
          22,
          14,
          11,
          15,
          27,
          10,
          13,
          14,
          26,
          30,
          6,
          15,
          20,
          13,
          5,
          12,
          36,
          21,
          1,
          17,
          6,
          8,
          15
         ],
         "y0": " ",
         "yaxis": "y"
        },
        {
         "alignmentgroup": "True",
         "boxpoints": "all",
         "hovertemplate": "HotelId=003<br>BookingCount=%{y}<extra></extra>",
         "legendgroup": "003",
         "marker": {
          "color": "#00cc96"
         },
         "name": "003",
         "notched": false,
         "offsetgroup": "003",
         "orientation": "v",
         "quartilemethod": "linear",
         "showlegend": true,
         "type": "box",
         "x0": " ",
         "xaxis": "x",
         "y": [
          13,
          14,
          17,
          6,
          1,
          4,
          10,
          4,
          18,
          3,
          10,
          8,
          7,
          9,
          3,
          3,
          18,
          1,
          6,
          7,
          4,
          6,
          7,
          13,
          19,
          8,
          19,
          38,
          59,
          28,
          8,
          10,
          17,
          7,
          4,
          19,
          3,
          10,
          5,
          6,
          18,
          3,
          8,
          3,
          1,
          4,
          1,
          2,
          1,
          1,
          2,
          2,
          1,
          2,
          10,
          4,
          10,
          2,
          1,
          7,
          5,
          1,
          3,
          5,
          1,
          2,
          3,
          3,
          1,
          5,
          5,
          1,
          2,
          1,
          1,
          1,
          1,
          3,
          2,
          1,
          1,
          1
         ],
         "y0": " ",
         "yaxis": "y"
        },
        {
         "alignmentgroup": "True",
         "boxpoints": "all",
         "hovertemplate": "HotelId=004<br>BookingCount=%{y}<extra></extra>",
         "legendgroup": "004",
         "marker": {
          "color": "#ab63fa"
         },
         "name": "004",
         "notched": false,
         "offsetgroup": "004",
         "orientation": "v",
         "quartilemethod": "linear",
         "showlegend": true,
         "type": "box",
         "x0": " ",
         "xaxis": "x",
         "y": [
          1,
          16,
          11,
          7,
          2,
          1,
          6,
          1,
          5,
          5,
          7,
          3,
          5,
          2,
          3,
          6,
          2,
          5,
          11,
          21,
          11,
          3,
          4,
          7,
          15,
          3,
          16,
          11,
          2,
          6,
          5,
          2,
          4,
          19,
          11,
          12,
          6,
          6,
          16,
          1,
          1,
          11,
          4,
          14,
          5,
          10,
          22,
          23,
          7,
          9,
          12,
          21,
          10,
          6,
          6,
          12,
          34,
          4,
          9,
          13,
          7,
          2,
          4,
          1,
          9,
          18,
          2,
          7,
          19,
          9,
          16,
          17,
          15,
          9,
          18,
          17,
          8,
          24,
          6,
          31,
          15,
          19,
          18,
          29,
          18,
          51,
          40,
          5,
          22,
          16,
          39,
          8,
          20,
          22,
          15,
          10,
          13,
          7,
          25,
          47,
          8,
          6,
          30,
          4,
          26,
          19,
          8,
          17,
          19,
          18,
          10,
          20,
          26,
          10,
          28,
          28,
          49,
          55,
          28,
          20,
          33,
          46,
          13,
          19,
          15,
          20,
          9,
          23,
          7,
          24,
          9,
          14,
          2,
          6,
          16,
          19
         ],
         "y0": " ",
         "yaxis": "y"
        },
        {
         "alignmentgroup": "True",
         "boxpoints": "all",
         "hovertemplate": "HotelId=005<br>BookingCount=%{y}<extra></extra>",
         "legendgroup": "005",
         "marker": {
          "color": "#FFA15A"
         },
         "name": "005",
         "notched": false,
         "offsetgroup": "005",
         "orientation": "v",
         "quartilemethod": "linear",
         "showlegend": true,
         "type": "box",
         "x0": " ",
         "xaxis": "x",
         "y": [
          10,
          22,
          17,
          3,
          12,
          18,
          16,
          20,
          9,
          19,
          12,
          14,
          9,
          20,
          2,
          29,
          21,
          23,
          8,
          10,
          27,
          6,
          28,
          28,
          38,
          15,
          16,
          37,
          48,
          32,
          14,
          19,
          30,
          8,
          5,
          30,
          2,
          2,
          17,
          5,
          1,
          4,
          14,
          3,
          9,
          26,
          1,
          8,
          10,
          4,
          16,
          18,
          9,
          1,
          6,
          15,
          5,
          17,
          18,
          6,
          29,
          42,
          42,
          25,
          20,
          42,
          76,
          37,
          12,
          27,
          44,
          23,
          11,
          20,
          31,
          36,
          5,
          28,
          11,
          3,
          29,
          5,
          16,
          1,
          31,
          27,
          19,
          36,
          16,
          17,
          1,
          14,
          13,
          34,
          29,
          33,
          4,
          21,
          48,
          46,
          28,
          30,
          28,
          66,
          52,
          18,
          24,
          47,
          42,
          60,
          41,
          46,
          37,
          27,
          19,
          38,
          40,
          43,
          25,
          33,
          31,
          34,
          36,
          20,
          39,
          7,
          50,
          43,
          18,
          13,
          26,
          8,
          33,
          36,
          36,
          31,
          79,
          62,
          23,
          24,
          46,
          44,
          17,
          34,
          34,
          67,
          72,
          40,
          21,
          44,
          39,
          34,
          14,
          13,
          23,
          3,
          46,
          13,
          22,
          7,
          31,
          3,
          5,
          1,
          10,
          10,
          45
         ],
         "y0": " ",
         "yaxis": "y"
        },
        {
         "alignmentgroup": "True",
         "boxpoints": "all",
         "hovertemplate": "HotelId=006<br>BookingCount=%{y}<extra></extra>",
         "legendgroup": "006",
         "marker": {
          "color": "#19d3f3"
         },
         "name": "006",
         "notched": false,
         "offsetgroup": "006",
         "orientation": "v",
         "quartilemethod": "linear",
         "showlegend": true,
         "type": "box",
         "x0": " ",
         "xaxis": "x",
         "y": [
          35,
          46,
          42,
          44,
          62,
          35,
          56,
          44,
          42,
          52,
          65,
          42,
          42,
          45,
          89,
          4,
          1,
          46,
          36,
          18,
          2,
          18,
          37,
          45,
          95,
          98,
          43,
          22,
          43,
          29,
          31,
          51,
          33,
          80,
          88,
          40,
          53,
          104,
          79,
          36,
          53,
          4,
          35,
          44,
          39,
          45,
          39,
          46,
          58,
          51,
          51,
          12,
          68,
          44,
          49,
          55,
          60,
          71,
          56,
          36,
          30,
          42,
          36,
          25,
          24,
          50,
          26,
          2,
          8,
          37,
          15,
          19,
          18,
          14,
          59,
          94,
          73,
          56,
          48,
          51,
          46,
          36,
          30,
          70,
          61,
          82,
          30,
          52,
          95,
          75,
          29,
          47,
          32,
          43,
          58,
          14,
          64,
          103,
          76,
          55,
          36,
          63,
          102,
          62,
          68,
          74,
          54,
          33,
          66,
          70,
          57,
          57,
          50,
          45,
          71,
          3,
          12,
          53,
          22,
          31,
          57,
          84,
          92,
          58,
          71,
          49,
          32,
          36,
          53,
          60,
          25,
          44,
          70,
          42,
          71,
          77,
          68,
          43,
          24,
          18,
          2,
          44,
          23,
          50,
          28,
          68,
          43,
          53,
          69,
          53,
          71,
          65,
          39,
          42,
          43,
          64,
          30,
          26,
          48,
          61,
          51,
          53,
          1,
          42,
          11,
          62,
          52,
          51,
          83,
          56,
          69,
          49,
          46,
          24,
          23,
          55,
          28,
          24,
          33,
          52,
          28,
          36,
          26,
          24,
          46,
          6,
          39,
          33,
          22,
          27,
          11,
          10,
          4,
          7,
          4,
          11,
          3,
          4,
          4,
          2
         ],
         "y0": " ",
         "yaxis": "y"
        },
        {
         "alignmentgroup": "True",
         "boxpoints": "all",
         "hovertemplate": "HotelId=007<br>BookingCount=%{y}<extra></extra>",
         "legendgroup": "007",
         "marker": {
          "color": "#FF6692"
         },
         "name": "007",
         "notched": false,
         "offsetgroup": "007",
         "orientation": "v",
         "quartilemethod": "linear",
         "showlegend": true,
         "type": "box",
         "x0": " ",
         "xaxis": "x",
         "y": [
          12,
          130,
          21,
          26,
          74,
          17,
          38,
          32,
          32,
          75,
          12,
          24,
          48,
          15,
          16,
          23,
          58,
          14,
          36,
          36,
          49,
          46,
          77,
          48,
          18,
          31,
          84,
          78,
          54,
          42,
          72,
          80,
          95,
          24,
          38,
          52,
          158,
          27,
          55,
          20,
          24,
          24,
          34,
          18,
          4,
          1,
          26,
          36,
          2,
          64,
          3,
          20,
          56,
          1,
          1,
          12,
          49,
          49,
          6,
          46,
          1,
          1,
          1,
          28,
          48,
          27,
          38,
          22,
          39,
          45,
          42,
          7,
          21,
          50,
          94,
          63,
          15,
          62,
          91,
          60,
          36,
          54,
          79,
          23,
          14,
          37,
          24,
          13,
          27,
          14,
          16,
          34,
          1,
          85,
          49,
          58,
          60,
          47,
          85,
          75,
          84,
          78,
          89,
          150,
          143,
          93,
          126,
          79,
          137,
          122,
          71,
          109,
          132,
          120,
          104,
          120,
          55,
          145,
          97,
          73,
          78,
          82,
          142,
          80,
          75,
          91,
          89,
          104,
          151,
          73,
          111,
          117,
          81,
          56,
          1,
          62,
          92,
          59,
          5,
          4,
          81,
          2,
          28,
          64,
          4,
          74,
          16,
          65,
          123,
          99,
          26,
          39,
          67,
          112,
          85,
          46,
          44,
          85,
          95,
          24,
          38,
          50,
          36,
          8,
          26,
          22,
          62,
          45,
          65,
          9,
          3,
          5,
          1,
          32,
          38
         ],
         "y0": " ",
         "yaxis": "y"
        },
        {
         "alignmentgroup": "True",
         "boxpoints": "all",
         "hovertemplate": "HotelId=008<br>BookingCount=%{y}<extra></extra>",
         "legendgroup": "008",
         "marker": {
          "color": "#B6E880"
         },
         "name": "008",
         "notched": false,
         "offsetgroup": "008",
         "orientation": "v",
         "quartilemethod": "linear",
         "showlegend": true,
         "type": "box",
         "x0": " ",
         "xaxis": "x",
         "y": [
          44,
          23,
          49,
          76,
          89,
          34,
          79,
          94,
          72,
          42,
          52,
          42,
          44,
          63,
          45,
          39,
          49,
          68,
          31,
          53,
          56,
          47,
          42,
          40,
          32,
          29,
          38,
          23,
          31,
          20,
          14,
          35,
          9,
          13,
          33,
          29,
          14,
          48,
          64,
          52,
          44,
          43,
          32,
          15,
          39,
          11,
          4,
          39,
          24,
          8,
          10,
          1,
          53,
          24,
          2,
          14,
          42,
          2,
          20,
          67,
          3,
          3,
          93,
          23,
          10,
          4,
          65,
          45,
          16,
          23,
          14,
          60,
          20,
          15,
          33,
          52,
          49,
          55,
          47,
          24,
          69,
          45,
          45,
          28,
          74,
          86,
          135,
          81,
          31,
          114,
          76,
          42,
          15,
          58,
          93,
          76,
          33,
          75,
          60,
          47,
          89,
          98,
          67,
          1,
          1,
          63,
          141,
          3,
          52,
          130,
          10,
          31,
          7,
          146,
          168,
          119,
          159,
          73,
          158,
          113,
          176,
          78,
          162,
          122,
          144,
          71,
          151,
          193,
          114,
          111,
          96,
          165,
          105,
          151,
          67,
          153,
          187,
          173,
          214,
          112,
          215,
          185,
          204,
          153,
          172,
          96,
          110,
          61,
          198,
          38,
          88,
          101,
          17,
          16,
          11,
          9,
          22,
          6,
          8,
          25,
          12,
          3,
          5,
          4,
          19,
          8,
          19,
          28,
          21,
          25,
          7,
          40,
          16,
          19,
          1,
          15,
          11,
          19,
          10,
          9,
          8,
          12,
          5,
          11,
          4,
          3,
          14,
          10,
          6,
          3,
          2,
          21,
          5,
          6,
          2,
          1,
          3,
          16
         ],
         "y0": " ",
         "yaxis": "y"
        },
        {
         "alignmentgroup": "True",
         "boxpoints": "all",
         "hovertemplate": "HotelId=009<br>BookingCount=%{y}<extra></extra>",
         "legendgroup": "009",
         "marker": {
          "color": "#FF97FF"
         },
         "name": "009",
         "notched": false,
         "offsetgroup": "009",
         "orientation": "v",
         "quartilemethod": "linear",
         "showlegend": true,
         "type": "box",
         "x0": " ",
         "xaxis": "x",
         "y": [
          5,
          18,
          14,
          8,
          6,
          1,
          18,
          7,
          7,
          30,
          10,
          4,
          14,
          6,
          11,
          6,
          9,
          4,
          11,
          40,
          29,
          12,
          18,
          11,
          11,
          31,
          16,
          11,
          27,
          6,
          19,
          11,
          1,
          9,
          8,
          14,
          13,
          19,
          13,
          16,
          1,
          20,
          1,
          4,
          9,
          1,
          29,
          25,
          44,
          13,
          12,
          27,
          66,
          37,
          17,
          18,
          53,
          36,
          13,
          32,
          51,
          20,
          35,
          8,
          12,
          14,
          48,
          12,
          26,
          6,
          33,
          32,
          9,
          23,
          23,
          32,
          36,
          38,
          13,
          17,
          25,
          38,
          16,
          33,
          45,
          48,
          30,
          24,
          31,
          36,
          54,
          25,
          27,
          61,
          49,
          35,
          7,
          20,
          28,
          16,
          7,
          1,
          25,
          1,
          13,
          19,
          30,
          22,
          14,
          4,
          27,
          38,
          10,
          22,
          41,
          53,
          37,
          23,
          21,
          23,
          33,
          9,
          21,
          19,
          18,
          5,
          25,
          20,
          17,
          8,
          13,
          4,
          2,
          20,
          13
         ],
         "y0": " ",
         "yaxis": "y"
        },
        {
         "alignmentgroup": "True",
         "boxpoints": "all",
         "hovertemplate": "HotelId=010<br>BookingCount=%{y}<extra></extra>",
         "legendgroup": "010",
         "marker": {
          "color": "#FECB52"
         },
         "name": "010",
         "notched": false,
         "offsetgroup": "010",
         "orientation": "v",
         "quartilemethod": "linear",
         "showlegend": true,
         "type": "box",
         "x0": " ",
         "xaxis": "x",
         "y": [
          1,
          2,
          1,
          1,
          1,
          1,
          1,
          1,
          1,
          1,
          1,
          2,
          1,
          1,
          1,
          1,
          1,
          1
         ],
         "y0": " ",
         "yaxis": "y"
        }
       ],
       "layout": {
        "boxmode": "group",
        "height": 700,
        "legend": {
         "title": {
          "text": "HotelId"
         },
         "tracegroupgap": 0
        },
        "margin": {
         "t": 60
        },
        "template": {
         "data": {
          "bar": [
           {
            "error_x": {
             "color": "#2a3f5f"
            },
            "error_y": {
             "color": "#2a3f5f"
            },
            "marker": {
             "line": {
              "color": "#E5ECF6",
              "width": 0.5
             },
             "pattern": {
              "fillmode": "overlay",
              "size": 10,
              "solidity": 0.2
             }
            },
            "type": "bar"
           }
          ],
          "barpolar": [
           {
            "marker": {
             "line": {
              "color": "#E5ECF6",
              "width": 0.5
             },
             "pattern": {
              "fillmode": "overlay",
              "size": 10,
              "solidity": 0.2
             }
            },
            "type": "barpolar"
           }
          ],
          "carpet": [
           {
            "aaxis": {
             "endlinecolor": "#2a3f5f",
             "gridcolor": "white",
             "linecolor": "white",
             "minorgridcolor": "white",
             "startlinecolor": "#2a3f5f"
            },
            "baxis": {
             "endlinecolor": "#2a3f5f",
             "gridcolor": "white",
             "linecolor": "white",
             "minorgridcolor": "white",
             "startlinecolor": "#2a3f5f"
            },
            "type": "carpet"
           }
          ],
          "choropleth": [
           {
            "colorbar": {
             "outlinewidth": 0,
             "ticks": ""
            },
            "type": "choropleth"
           }
          ],
          "contour": [
           {
            "colorbar": {
             "outlinewidth": 0,
             "ticks": ""
            },
            "colorscale": [
             [
              0,
              "#0d0887"
             ],
             [
              0.1111111111111111,
              "#46039f"
             ],
             [
              0.2222222222222222,
              "#7201a8"
             ],
             [
              0.3333333333333333,
              "#9c179e"
             ],
             [
              0.4444444444444444,
              "#bd3786"
             ],
             [
              0.5555555555555556,
              "#d8576b"
             ],
             [
              0.6666666666666666,
              "#ed7953"
             ],
             [
              0.7777777777777778,
              "#fb9f3a"
             ],
             [
              0.8888888888888888,
              "#fdca26"
             ],
             [
              1,
              "#f0f921"
             ]
            ],
            "type": "contour"
           }
          ],
          "contourcarpet": [
           {
            "colorbar": {
             "outlinewidth": 0,
             "ticks": ""
            },
            "type": "contourcarpet"
           }
          ],
          "heatmap": [
           {
            "colorbar": {
             "outlinewidth": 0,
             "ticks": ""
            },
            "colorscale": [
             [
              0,
              "#0d0887"
             ],
             [
              0.1111111111111111,
              "#46039f"
             ],
             [
              0.2222222222222222,
              "#7201a8"
             ],
             [
              0.3333333333333333,
              "#9c179e"
             ],
             [
              0.4444444444444444,
              "#bd3786"
             ],
             [
              0.5555555555555556,
              "#d8576b"
             ],
             [
              0.6666666666666666,
              "#ed7953"
             ],
             [
              0.7777777777777778,
              "#fb9f3a"
             ],
             [
              0.8888888888888888,
              "#fdca26"
             ],
             [
              1,
              "#f0f921"
             ]
            ],
            "type": "heatmap"
           }
          ],
          "heatmapgl": [
           {
            "colorbar": {
             "outlinewidth": 0,
             "ticks": ""
            },
            "colorscale": [
             [
              0,
              "#0d0887"
             ],
             [
              0.1111111111111111,
              "#46039f"
             ],
             [
              0.2222222222222222,
              "#7201a8"
             ],
             [
              0.3333333333333333,
              "#9c179e"
             ],
             [
              0.4444444444444444,
              "#bd3786"
             ],
             [
              0.5555555555555556,
              "#d8576b"
             ],
             [
              0.6666666666666666,
              "#ed7953"
             ],
             [
              0.7777777777777778,
              "#fb9f3a"
             ],
             [
              0.8888888888888888,
              "#fdca26"
             ],
             [
              1,
              "#f0f921"
             ]
            ],
            "type": "heatmapgl"
           }
          ],
          "histogram": [
           {
            "marker": {
             "pattern": {
              "fillmode": "overlay",
              "size": 10,
              "solidity": 0.2
             }
            },
            "type": "histogram"
           }
          ],
          "histogram2d": [
           {
            "colorbar": {
             "outlinewidth": 0,
             "ticks": ""
            },
            "colorscale": [
             [
              0,
              "#0d0887"
             ],
             [
              0.1111111111111111,
              "#46039f"
             ],
             [
              0.2222222222222222,
              "#7201a8"
             ],
             [
              0.3333333333333333,
              "#9c179e"
             ],
             [
              0.4444444444444444,
              "#bd3786"
             ],
             [
              0.5555555555555556,
              "#d8576b"
             ],
             [
              0.6666666666666666,
              "#ed7953"
             ],
             [
              0.7777777777777778,
              "#fb9f3a"
             ],
             [
              0.8888888888888888,
              "#fdca26"
             ],
             [
              1,
              "#f0f921"
             ]
            ],
            "type": "histogram2d"
           }
          ],
          "histogram2dcontour": [
           {
            "colorbar": {
             "outlinewidth": 0,
             "ticks": ""
            },
            "colorscale": [
             [
              0,
              "#0d0887"
             ],
             [
              0.1111111111111111,
              "#46039f"
             ],
             [
              0.2222222222222222,
              "#7201a8"
             ],
             [
              0.3333333333333333,
              "#9c179e"
             ],
             [
              0.4444444444444444,
              "#bd3786"
             ],
             [
              0.5555555555555556,
              "#d8576b"
             ],
             [
              0.6666666666666666,
              "#ed7953"
             ],
             [
              0.7777777777777778,
              "#fb9f3a"
             ],
             [
              0.8888888888888888,
              "#fdca26"
             ],
             [
              1,
              "#f0f921"
             ]
            ],
            "type": "histogram2dcontour"
           }
          ],
          "mesh3d": [
           {
            "colorbar": {
             "outlinewidth": 0,
             "ticks": ""
            },
            "type": "mesh3d"
           }
          ],
          "parcoords": [
           {
            "line": {
             "colorbar": {
              "outlinewidth": 0,
              "ticks": ""
             }
            },
            "type": "parcoords"
           }
          ],
          "pie": [
           {
            "automargin": true,
            "type": "pie"
           }
          ],
          "scatter": [
           {
            "fillpattern": {
             "fillmode": "overlay",
             "size": 10,
             "solidity": 0.2
            },
            "type": "scatter"
           }
          ],
          "scatter3d": [
           {
            "line": {
             "colorbar": {
              "outlinewidth": 0,
              "ticks": ""
             }
            },
            "marker": {
             "colorbar": {
              "outlinewidth": 0,
              "ticks": ""
             }
            },
            "type": "scatter3d"
           }
          ],
          "scattercarpet": [
           {
            "marker": {
             "colorbar": {
              "outlinewidth": 0,
              "ticks": ""
             }
            },
            "type": "scattercarpet"
           }
          ],
          "scattergeo": [
           {
            "marker": {
             "colorbar": {
              "outlinewidth": 0,
              "ticks": ""
             }
            },
            "type": "scattergeo"
           }
          ],
          "scattergl": [
           {
            "marker": {
             "colorbar": {
              "outlinewidth": 0,
              "ticks": ""
             }
            },
            "type": "scattergl"
           }
          ],
          "scattermapbox": [
           {
            "marker": {
             "colorbar": {
              "outlinewidth": 0,
              "ticks": ""
             }
            },
            "type": "scattermapbox"
           }
          ],
          "scatterpolar": [
           {
            "marker": {
             "colorbar": {
              "outlinewidth": 0,
              "ticks": ""
             }
            },
            "type": "scatterpolar"
           }
          ],
          "scatterpolargl": [
           {
            "marker": {
             "colorbar": {
              "outlinewidth": 0,
              "ticks": ""
             }
            },
            "type": "scatterpolargl"
           }
          ],
          "scatterternary": [
           {
            "marker": {
             "colorbar": {
              "outlinewidth": 0,
              "ticks": ""
             }
            },
            "type": "scatterternary"
           }
          ],
          "surface": [
           {
            "colorbar": {
             "outlinewidth": 0,
             "ticks": ""
            },
            "colorscale": [
             [
              0,
              "#0d0887"
             ],
             [
              0.1111111111111111,
              "#46039f"
             ],
             [
              0.2222222222222222,
              "#7201a8"
             ],
             [
              0.3333333333333333,
              "#9c179e"
             ],
             [
              0.4444444444444444,
              "#bd3786"
             ],
             [
              0.5555555555555556,
              "#d8576b"
             ],
             [
              0.6666666666666666,
              "#ed7953"
             ],
             [
              0.7777777777777778,
              "#fb9f3a"
             ],
             [
              0.8888888888888888,
              "#fdca26"
             ],
             [
              1,
              "#f0f921"
             ]
            ],
            "type": "surface"
           }
          ],
          "table": [
           {
            "cells": {
             "fill": {
              "color": "#EBF0F8"
             },
             "line": {
              "color": "white"
             }
            },
            "header": {
             "fill": {
              "color": "#C8D4E3"
             },
             "line": {
              "color": "white"
             }
            },
            "type": "table"
           }
          ]
         },
         "layout": {
          "annotationdefaults": {
           "arrowcolor": "#2a3f5f",
           "arrowhead": 0,
           "arrowwidth": 1
          },
          "autotypenumbers": "strict",
          "coloraxis": {
           "colorbar": {
            "outlinewidth": 0,
            "ticks": ""
           }
          },
          "colorscale": {
           "diverging": [
            [
             0,
             "#8e0152"
            ],
            [
             0.1,
             "#c51b7d"
            ],
            [
             0.2,
             "#de77ae"
            ],
            [
             0.3,
             "#f1b6da"
            ],
            [
             0.4,
             "#fde0ef"
            ],
            [
             0.5,
             "#f7f7f7"
            ],
            [
             0.6,
             "#e6f5d0"
            ],
            [
             0.7,
             "#b8e186"
            ],
            [
             0.8,
             "#7fbc41"
            ],
            [
             0.9,
             "#4d9221"
            ],
            [
             1,
             "#276419"
            ]
           ],
           "sequential": [
            [
             0,
             "#0d0887"
            ],
            [
             0.1111111111111111,
             "#46039f"
            ],
            [
             0.2222222222222222,
             "#7201a8"
            ],
            [
             0.3333333333333333,
             "#9c179e"
            ],
            [
             0.4444444444444444,
             "#bd3786"
            ],
            [
             0.5555555555555556,
             "#d8576b"
            ],
            [
             0.6666666666666666,
             "#ed7953"
            ],
            [
             0.7777777777777778,
             "#fb9f3a"
            ],
            [
             0.8888888888888888,
             "#fdca26"
            ],
            [
             1,
             "#f0f921"
            ]
           ],
           "sequentialminus": [
            [
             0,
             "#0d0887"
            ],
            [
             0.1111111111111111,
             "#46039f"
            ],
            [
             0.2222222222222222,
             "#7201a8"
            ],
            [
             0.3333333333333333,
             "#9c179e"
            ],
            [
             0.4444444444444444,
             "#bd3786"
            ],
            [
             0.5555555555555556,
             "#d8576b"
            ],
            [
             0.6666666666666666,
             "#ed7953"
            ],
            [
             0.7777777777777778,
             "#fb9f3a"
            ],
            [
             0.8888888888888888,
             "#fdca26"
            ],
            [
             1,
             "#f0f921"
            ]
           ]
          },
          "colorway": [
           "#636efa",
           "#EF553B",
           "#00cc96",
           "#ab63fa",
           "#FFA15A",
           "#19d3f3",
           "#FF6692",
           "#B6E880",
           "#FF97FF",
           "#FECB52"
          ],
          "font": {
           "color": "#2a3f5f"
          },
          "geo": {
           "bgcolor": "white",
           "lakecolor": "white",
           "landcolor": "#E5ECF6",
           "showlakes": true,
           "showland": true,
           "subunitcolor": "white"
          },
          "hoverlabel": {
           "align": "left"
          },
          "hovermode": "closest",
          "mapbox": {
           "style": "light"
          },
          "paper_bgcolor": "white",
          "plot_bgcolor": "#E5ECF6",
          "polar": {
           "angularaxis": {
            "gridcolor": "white",
            "linecolor": "white",
            "ticks": ""
           },
           "bgcolor": "#E5ECF6",
           "radialaxis": {
            "gridcolor": "white",
            "linecolor": "white",
            "ticks": ""
           }
          },
          "scene": {
           "xaxis": {
            "backgroundcolor": "#E5ECF6",
            "gridcolor": "white",
            "gridwidth": 2,
            "linecolor": "white",
            "showbackground": true,
            "ticks": "",
            "zerolinecolor": "white"
           },
           "yaxis": {
            "backgroundcolor": "#E5ECF6",
            "gridcolor": "white",
            "gridwidth": 2,
            "linecolor": "white",
            "showbackground": true,
            "ticks": "",
            "zerolinecolor": "white"
           },
           "zaxis": {
            "backgroundcolor": "#E5ECF6",
            "gridcolor": "white",
            "gridwidth": 2,
            "linecolor": "white",
            "showbackground": true,
            "ticks": "",
            "zerolinecolor": "white"
           }
          },
          "shapedefaults": {
           "line": {
            "color": "#2a3f5f"
           }
          },
          "ternary": {
           "aaxis": {
            "gridcolor": "white",
            "linecolor": "white",
            "ticks": ""
           },
           "baxis": {
            "gridcolor": "white",
            "linecolor": "white",
            "ticks": ""
           },
           "bgcolor": "#E5ECF6",
           "caxis": {
            "gridcolor": "white",
            "linecolor": "white",
            "ticks": ""
           }
          },
          "title": {
           "x": 0.05
          },
          "xaxis": {
           "automargin": true,
           "gridcolor": "white",
           "linecolor": "white",
           "ticks": "",
           "title": {
            "standoff": 15
           },
           "zerolinecolor": "white",
           "zerolinewidth": 2
          },
          "yaxis": {
           "automargin": true,
           "gridcolor": "white",
           "linecolor": "white",
           "ticks": "",
           "title": {
            "standoff": 15
           },
           "zerolinecolor": "white",
           "zerolinewidth": 2
          }
         }
        },
        "width": 1000,
        "xaxis": {
         "anchor": "y",
         "autorange": true,
         "domain": [
          0,
          1
         ],
         "range": [
          -0.6776383921246923,
          0.5619809680065627
         ],
         "type": "category"
        },
        "yaxis": {
         "anchor": "x",
         "autorange": true,
         "domain": [
          0,
          1
         ],
         "range": [
          -10.88888888888889,
          226.88888888888889
         ],
         "title": {
          "text": "BookingCount"
         },
         "type": "linear"
        }
       }
      },
      "image/png": "[encoded data removed]",
      "text/html": [
       "<div>                            <div id=\"fb453683-f309-4739-ab7e-d1c5454a11b2\" class=\"plotly-graph-div\" style=\"height:700px; width:1000px;\"></div>            <script type=\"text/javascript\">                require([\"plotly\"], function(Plotly) {                    window.PLOTLYENV=window.PLOTLYENV || {};                                    if (document.getElementById(\"fb453683-f309-4739-ab7e-d1c5454a11b2\")) {                    Plotly.newPlot(                        \"fb453683-f309-4739-ab7e-d1c5454a11b2\",                        [{\"alignmentgroup\":\"True\",\"boxpoints\":\"all\",\"hovertemplate\":\"HotelId=001\\u003cbr\\u003eBookingCount=%{y}\\u003cextra\\u003e\\u003c\\u002fextra\\u003e\",\"legendgroup\":\"001\",\"marker\":{\"color\":\"#636efa\"},\"name\":\"001\",\"notched\":false,\"offsetgroup\":\"001\",\"orientation\":\"v\",\"showlegend\":true,\"x0\":\" \",\"xaxis\":\"x\",\"y\":[5,2,1,2,1,3,1,8,3,2,3,1],\"y0\":\" \",\"yaxis\":\"y\",\"type\":\"box\",\"quartilemethod\":\"linear\"},{\"alignmentgroup\":\"True\",\"boxpoints\":\"all\",\"hovertemplate\":\"HotelId=002\\u003cbr\\u003eBookingCount=%{y}\\u003cextra\\u003e\\u003c\\u002fextra\\u003e\",\"legendgroup\":\"002\",\"marker\":{\"color\":\"#EF553B\"},\"name\":\"002\",\"notched\":false,\"offsetgroup\":\"002\",\"orientation\":\"v\",\"showlegend\":true,\"x0\":\" \",\"xaxis\":\"x\",\"y\":[3,3,8,10,40,3,13,9,3,11,5,2,6,8,6,3,2,2,8,2,3,1,6,6,11,17,17,33,27,5,1,8,1,3,8,12,5,4,13,15,1,7,6,1,6,7,10,10,11,5,4,10,4,2,17,2,21,29,11,21,2,21,80,16,1,21,3,9,4,8,8,5,7,2,7,4,1,11,10,2,7,13,8,6,9,7,2,13,6,11,14,17,1,1,22,14,11,15,27,10,13,14,26,30,6,15,20,13,5,12,36,21,1,17,6,8,15],\"y0\":\" \",\"yaxis\":\"y\",\"type\":\"box\",\"quartilemethod\":\"linear\"},{\"alignmentgroup\":\"True\",\"boxpoints\":\"all\",\"hovertemplate\":\"HotelId=003\\u003cbr\\u003eBookingCount=%{y}\\u003cextra\\u003e\\u003c\\u002fextra\\u003e\",\"legendgroup\":\"003\",\"marker\":{\"color\":\"#00cc96\"},\"name\":\"003\",\"notched\":false,\"offsetgroup\":\"003\",\"orientation\":\"v\",\"showlegend\":true,\"x0\":\" \",\"xaxis\":\"x\",\"y\":[13,14,17,6,1,4,10,4,18,3,10,8,7,9,3,3,18,1,6,7,4,6,7,13,19,8,19,38,59,28,8,10,17,7,4,19,3,10,5,6,18,3,8,3,1,4,1,2,1,1,2,2,1,2,10,4,10,2,1,7,5,1,3,5,1,2,3,3,1,5,5,1,2,1,1,1,1,3,2,1,1,1],\"y0\":\" \",\"yaxis\":\"y\",\"type\":\"box\",\"quartilemethod\":\"linear\"},{\"alignmentgroup\":\"True\",\"boxpoints\":\"all\",\"hovertemplate\":\"HotelId=004\\u003cbr\\u003eBookingCount=%{y}\\u003cextra\\u003e\\u003c\\u002fextra\\u003e\",\"legendgroup\":\"004\",\"marker\":{\"color\":\"#ab63fa\"},\"name\":\"004\",\"notched\":false,\"offsetgroup\":\"004\",\"orientation\":\"v\",\"showlegend\":true,\"x0\":\" \",\"xaxis\":\"x\",\"y\":[1,16,11,7,2,1,6,1,5,5,7,3,5,2,3,6,2,5,11,21,11,3,4,7,15,3,16,11,2,6,5,2,4,19,11,12,6,6,16,1,1,11,4,14,5,10,22,23,7,9,12,21,10,6,6,12,34,4,9,13,7,2,4,1,9,18,2,7,19,9,16,17,15,9,18,17,8,24,6,31,15,19,18,29,18,51,40,5,22,16,39,8,20,22,15,10,13,7,25,47,8,6,30,4,26,19,8,17,19,18,10,20,26,10,28,28,49,55,28,20,33,46,13,19,15,20,9,23,7,24,9,14,2,6,16,19],\"y0\":\" \",\"yaxis\":\"y\",\"type\":\"box\",\"quartilemethod\":\"linear\"},{\"alignmentgroup\":\"True\",\"boxpoints\":\"all\",\"hovertemplate\":\"HotelId=005\\u003cbr\\u003eBookingCount=%{y}\\u003cextra\\u003e\\u003c\\u002fextra\\u003e\",\"legendgroup\":\"005\",\"marker\":{\"color\":\"#FFA15A\"},\"name\":\"005\",\"notched\":false,\"offsetgroup\":\"005\",\"orientation\":\"v\",\"showlegend\":true,\"x0\":\" \",\"xaxis\":\"x\",\"y\":[10,22,17,3,12,18,16,20,9,19,12,14,9,20,2,29,21,23,8,10,27,6,28,28,38,15,16,37,48,32,14,19,30,8,5,30,2,2,17,5,1,4,14,3,9,26,1,8,10,4,16,18,9,1,6,15,5,17,18,6,29,42,42,25,20,42,76,37,12,27,44,23,11,20,31,36,5,28,11,3,29,5,16,1,31,27,19,36,16,17,1,14,13,34,29,33,4,21,48,46,28,30,28,66,52,18,24,47,42,60,41,46,37,27,19,38,40,43,25,33,31,34,36,20,39,7,50,43,18,13,26,8,33,36,36,31,79,62,23,24,46,44,17,34,34,67,72,40,21,44,39,34,14,13,23,3,46,13,22,7,31,3,5,1,10,10,45],\"y0\":\" \",\"yaxis\":\"y\",\"type\":\"box\",\"quartilemethod\":\"linear\"},{\"alignmentgroup\":\"True\",\"boxpoints\":\"all\",\"hovertemplate\":\"HotelId=006\\u003cbr\\u003eBookingCount=%{y}\\u003cextra\\u003e\\u003c\\u002fextra\\u003e\",\"legendgroup\":\"006\",\"marker\":{\"color\":\"#19d3f3\"},\"name\":\"006\",\"notched\":false,\"offsetgroup\":\"006\",\"orientation\":\"v\",\"showlegend\":true,\"x0\":\" \",\"xaxis\":\"x\",\"y\":[35,46,42,44,62,35,56,44,42,52,65,42,42,45,89,4,1,46,36,18,2,18,37,45,95,98,43,22,43,29,31,51,33,80,88,40,53,104,79,36,53,4,35,44,39,45,39,46,58,51,51,12,68,44,49,55,60,71,56,36,30,42,36,25,24,50,26,2,8,37,15,19,18,14,59,94,73,56,48,51,46,36,30,70,61,82,30,52,95,75,29,47,32,43,58,14,64,103,76,55,36,63,102,62,68,74,54,33,66,70,57,57,50,45,71,3,12,53,22,31,57,84,92,58,71,49,32,36,53,60,25,44,70,42,71,77,68,43,24,18,2,44,23,50,28,68,43,53,69,53,71,65,39,42,43,64,30,26,48,61,51,53,1,42,11,62,52,51,83,56,69,49,46,24,23,55,28,24,33,52,28,36,26,24,46,6,39,33,22,27,11,10,4,7,4,11,3,4,4,2],\"y0\":\" \",\"yaxis\":\"y\",\"type\":\"box\",\"quartilemethod\":\"linear\"},{\"alignmentgroup\":\"True\",\"boxpoints\":\"all\",\"hovertemplate\":\"HotelId=007\\u003cbr\\u003eBookingCount=%{y}\\u003cextra\\u003e\\u003c\\u002fextra\\u003e\",\"legendgroup\":\"007\",\"marker\":{\"color\":\"#FF6692\"},\"name\":\"007\",\"notched\":false,\"offsetgroup\":\"007\",\"orientation\":\"v\",\"showlegend\":true,\"x0\":\" \",\"xaxis\":\"x\",\"y\":[12,130,21,26,74,17,38,32,32,75,12,24,48,15,16,23,58,14,36,36,49,46,77,48,18,31,84,78,54,42,72,80,95,24,38,52,158,27,55,20,24,24,34,18,4,1,26,36,2,64,3,20,56,1,1,12,49,49,6,46,1,1,1,28,48,27,38,22,39,45,42,7,21,50,94,63,15,62,91,60,36,54,79,23,14,37,24,13,27,14,16,34,1,85,49,58,60,47,85,75,84,78,89,150,143,93,126,79,137,122,71,109,132,120,104,120,55,145,97,73,78,82,142,80,75,91,89,104,151,73,111,117,81,56,1,62,92,59,5,4,81,2,28,64,4,74,16,65,123,99,26,39,67,112,85,46,44,85,95,24,38,50,36,8,26,22,62,45,65,9,3,5,1,32,38],\"y0\":\" \",\"yaxis\":\"y\",\"type\":\"box\",\"quartilemethod\":\"linear\"},{\"alignmentgroup\":\"True\",\"boxpoints\":\"all\",\"hovertemplate\":\"HotelId=008\\u003cbr\\u003eBookingCount=%{y}\\u003cextra\\u003e\\u003c\\u002fextra\\u003e\",\"legendgroup\":\"008\",\"marker\":{\"color\":\"#B6E880\"},\"name\":\"008\",\"notched\":false,\"offsetgroup\":\"008\",\"orientation\":\"v\",\"showlegend\":true,\"x0\":\" \",\"xaxis\":\"x\",\"y\":[44,23,49,76,89,34,79,94,72,42,52,42,44,63,45,39,49,68,31,53,56,47,42,40,32,29,38,23,31,20,14,35,9,13,33,29,14,48,64,52,44,43,32,15,39,11,4,39,24,8,10,1,53,24,2,14,42,2,20,67,3,3,93,23,10,4,65,45,16,23,14,60,20,15,33,52,49,55,47,24,69,45,45,28,74,86,135,81,31,114,76,42,15,58,93,76,33,75,60,47,89,98,67,1,1,63,141,3,52,130,10,31,7,146,168,119,159,73,158,113,176,78,162,122,144,71,151,193,114,111,96,165,105,151,67,153,187,173,214,112,215,185,204,153,172,96,110,61,198,38,88,101,17,16,11,9,22,6,8,25,12,3,5,4,19,8,19,28,21,25,7,40,16,19,1,15,11,19,10,9,8,12,5,11,4,3,14,10,6,3,2,21,5,6,2,1,3,16],\"y0\":\" \",\"yaxis\":\"y\",\"type\":\"box\",\"quartilemethod\":\"linear\"},{\"alignmentgroup\":\"True\",\"boxpoints\":\"all\",\"hovertemplate\":\"HotelId=009\\u003cbr\\u003eBookingCount=%{y}\\u003cextra\\u003e\\u003c\\u002fextra\\u003e\",\"legendgroup\":\"009\",\"marker\":{\"color\":\"#FF97FF\"},\"name\":\"009\",\"notched\":false,\"offsetgroup\":\"009\",\"orientation\":\"v\",\"showlegend\":true,\"x0\":\" \",\"xaxis\":\"x\",\"y\":[5,18,14,8,6,1,18,7,7,30,10,4,14,6,11,6,9,4,11,40,29,12,18,11,11,31,16,11,27,6,19,11,1,9,8,14,13,19,13,16,1,20,1,4,9,1,29,25,44,13,12,27,66,37,17,18,53,36,13,32,51,20,35,8,12,14,48,12,26,6,33,32,9,23,23,32,36,38,13,17,25,38,16,33,45,48,30,24,31,36,54,25,27,61,49,35,7,20,28,16,7,1,25,1,13,19,30,22,14,4,27,38,10,22,41,53,37,23,21,23,33,9,21,19,18,5,25,20,17,8,13,4,2,20,13],\"y0\":\" \",\"yaxis\":\"y\",\"type\":\"box\",\"quartilemethod\":\"linear\"},{\"alignmentgroup\":\"True\",\"boxpoints\":\"all\",\"hovertemplate\":\"HotelId=010\\u003cbr\\u003eBookingCount=%{y}\\u003cextra\\u003e\\u003c\\u002fextra\\u003e\",\"legendgroup\":\"010\",\"marker\":{\"color\":\"#FECB52\"},\"name\":\"010\",\"notched\":false,\"offsetgroup\":\"010\",\"orientation\":\"v\",\"showlegend\":true,\"x0\":\" \",\"xaxis\":\"x\",\"y\":[1,2,1,1,1,1,1,1,1,1,1,2,1,1,1,1,1,1],\"y0\":\" \",\"yaxis\":\"y\",\"type\":\"box\",\"quartilemethod\":\"linear\"}],                        {\"template\":{\"data\":{\"histogram2dcontour\":[{\"type\":\"histogram2dcontour\",\"colorbar\":{\"outlinewidth\":0,\"ticks\":\"\"},\"colorscale\":[[0.0,\"#0d0887\"],[0.1111111111111111,\"#46039f\"],[0.2222222222222222,\"#7201a8\"],[0.3333333333333333,\"#9c179e\"],[0.4444444444444444,\"#bd3786\"],[0.5555555555555556,\"#d8576b\"],[0.6666666666666666,\"#ed7953\"],[0.7777777777777778,\"#fb9f3a\"],[0.8888888888888888,\"#fdca26\"],[1.0,\"#f0f921\"]]}],\"choropleth\":[{\"type\":\"choropleth\",\"colorbar\":{\"outlinewidth\":0,\"ticks\":\"\"}}],\"histogram2d\":[{\"type\":\"histogram2d\",\"colorbar\":{\"outlinewidth\":0,\"ticks\":\"\"},\"colorscale\":[[0.0,\"#0d0887\"],[0.1111111111111111,\"#46039f\"],[0.2222222222222222,\"#7201a8\"],[0.3333333333333333,\"#9c179e\"],[0.4444444444444444,\"#bd3786\"],[0.5555555555555556,\"#d8576b\"],[0.6666666666666666,\"#ed7953\"],[0.7777777777777778,\"#fb9f3a\"],[0.8888888888888888,\"#fdca26\"],[1.0,\"#f0f921\"]]}],\"heatmap\":[{\"type\":\"heatmap\",\"colorbar\":{\"outlinewidth\":0,\"ticks\":\"\"},\"colorscale\":[[0.0,\"#0d0887\"],[0.1111111111111111,\"#46039f\"],[0.2222222222222222,\"#7201a8\"],[0.3333333333333333,\"#9c179e\"],[0.4444444444444444,\"#bd3786\"],[0.5555555555555556,\"#d8576b\"],[0.6666666666666666,\"#ed7953\"],[0.7777777777777778,\"#fb9f3a\"],[0.8888888888888888,\"#fdca26\"],[1.0,\"#f0f921\"]]}],\"heatmapgl\":[{\"type\":\"heatmapgl\",\"colorbar\":{\"outlinewidth\":0,\"ticks\":\"\"},\"colorscale\":[[0.0,\"#0d0887\"],[0.1111111111111111,\"#46039f\"],[0.2222222222222222,\"#7201a8\"],[0.3333333333333333,\"#9c179e\"],[0.4444444444444444,\"#bd3786\"],[0.5555555555555556,\"#d8576b\"],[0.6666666666666666,\"#ed7953\"],[0.7777777777777778,\"#fb9f3a\"],[0.8888888888888888,\"#fdca26\"],[1.0,\"#f0f921\"]]}],\"contourcarpet\":[{\"type\":\"contourcarpet\",\"colorbar\":{\"outlinewidth\":0,\"ticks\":\"\"}}],\"contour\":[{\"type\":\"contour\",\"colorbar\":{\"outlinewidth\":0,\"ticks\":\"\"},\"colorscale\":[[0.0,\"#0d0887\"],[0.1111111111111111,\"#46039f\"],[0.2222222222222222,\"#7201a8\"],[0.3333333333333333,\"#9c179e\"],[0.4444444444444444,\"#bd3786\"],[0.5555555555555556,\"#d8576b\"],[0.6666666666666666,\"#ed7953\"],[0.7777777777777778,\"#fb9f3a\"],[0.8888888888888888,\"#fdca26\"],[1.0,\"#f0f921\"]]}],\"surface\":[{\"type\":\"surface\",\"colorbar\":{\"outlinewidth\":0,\"ticks\":\"\"},\"colorscale\":[[0.0,\"#0d0887\"],[0.1111111111111111,\"#46039f\"],[0.2222222222222222,\"#7201a8\"],[0.3333333333333333,\"#9c179e\"],[0.4444444444444444,\"#bd3786\"],[0.5555555555555556,\"#d8576b\"],[0.6666666666666666,\"#ed7953\"],[0.7777777777777778,\"#fb9f3a\"],[0.8888888888888888,\"#fdca26\"],[1.0,\"#f0f921\"]]}],\"mesh3d\":[{\"type\":\"mesh3d\",\"colorbar\":{\"outlinewidth\":0,\"ticks\":\"\"}}],\"scatter\":[{\"fillpattern\":{\"fillmode\":\"overlay\",\"size\":10,\"solidity\":0.2},\"type\":\"scatter\"}],\"parcoords\":[{\"type\":\"parcoords\",\"line\":{\"colorbar\":{\"outlinewidth\":0,\"ticks\":\"\"}}}],\"scatterpolargl\":[{\"type\":\"scatterpolargl\",\"marker\":{\"colorbar\":{\"outlinewidth\":0,\"ticks\":\"\"}}}],\"bar\":[{\"error_x\":{\"color\":\"#2a3f5f\"},\"error_y\":{\"color\":\"#2a3f5f\"},\"marker\":{\"line\":{\"color\":\"#E5ECF6\",\"width\":0.5},\"pattern\":{\"fillmode\":\"overlay\",\"size\":10,\"solidity\":0.2}},\"type\":\"bar\"}],\"scattergeo\":[{\"type\":\"scattergeo\",\"marker\":{\"colorbar\":{\"outlinewidth\":0,\"ticks\":\"\"}}}],\"scatterpolar\":[{\"type\":\"scatterpolar\",\"marker\":{\"colorbar\":{\"outlinewidth\":0,\"ticks\":\"\"}}}],\"histogram\":[{\"marker\":{\"pattern\":{\"fillmode\":\"overlay\",\"size\":10,\"solidity\":0.2}},\"type\":\"histogram\"}],\"scattergl\":[{\"type\":\"scattergl\",\"marker\":{\"colorbar\":{\"outlinewidth\":0,\"ticks\":\"\"}}}],\"scatter3d\":[{\"type\":\"scatter3d\",\"line\":{\"colorbar\":{\"outlinewidth\":0,\"ticks\":\"\"}},\"marker\":{\"colorbar\":{\"outlinewidth\":0,\"ticks\":\"\"}}}],\"scattermapbox\":[{\"type\":\"scattermapbox\",\"marker\":{\"colorbar\":{\"outlinewidth\":0,\"ticks\":\"\"}}}],\"scatterternary\":[{\"type\":\"scatterternary\",\"marker\":{\"colorbar\":{\"outlinewidth\":0,\"ticks\":\"\"}}}],\"scattercarpet\":[{\"type\":\"scattercarpet\",\"marker\":{\"colorbar\":{\"outlinewidth\":0,\"ticks\":\"\"}}}],\"carpet\":[{\"aaxis\":{\"endlinecolor\":\"#2a3f5f\",\"gridcolor\":\"white\",\"linecolor\":\"white\",\"minorgridcolor\":\"white\",\"startlinecolor\":\"#2a3f5f\"},\"baxis\":{\"endlinecolor\":\"#2a3f5f\",\"gridcolor\":\"white\",\"linecolor\":\"white\",\"minorgridcolor\":\"white\",\"startlinecolor\":\"#2a3f5f\"},\"type\":\"carpet\"}],\"table\":[{\"cells\":{\"fill\":{\"color\":\"#EBF0F8\"},\"line\":{\"color\":\"white\"}},\"header\":{\"fill\":{\"color\":\"#C8D4E3\"},\"line\":{\"color\":\"white\"}},\"type\":\"table\"}],\"barpolar\":[{\"marker\":{\"line\":{\"color\":\"#E5ECF6\",\"width\":0.5},\"pattern\":{\"fillmode\":\"overlay\",\"size\":10,\"solidity\":0.2}},\"type\":\"barpolar\"}],\"pie\":[{\"automargin\":true,\"type\":\"pie\"}]},\"layout\":{\"autotypenumbers\":\"strict\",\"colorway\":[\"#636efa\",\"#EF553B\",\"#00cc96\",\"#ab63fa\",\"#FFA15A\",\"#19d3f3\",\"#FF6692\",\"#B6E880\",\"#FF97FF\",\"#FECB52\"],\"font\":{\"color\":\"#2a3f5f\"},\"hovermode\":\"closest\",\"hoverlabel\":{\"align\":\"left\"},\"paper_bgcolor\":\"white\",\"plot_bgcolor\":\"#E5ECF6\",\"polar\":{\"bgcolor\":\"#E5ECF6\",\"angularaxis\":{\"gridcolor\":\"white\",\"linecolor\":\"white\",\"ticks\":\"\"},\"radialaxis\":{\"gridcolor\":\"white\",\"linecolor\":\"white\",\"ticks\":\"\"}},\"ternary\":{\"bgcolor\":\"#E5ECF6\",\"aaxis\":{\"gridcolor\":\"white\",\"linecolor\":\"white\",\"ticks\":\"\"},\"baxis\":{\"gridcolor\":\"white\",\"linecolor\":\"white\",\"ticks\":\"\"},\"caxis\":{\"gridcolor\":\"white\",\"linecolor\":\"white\",\"ticks\":\"\"}},\"coloraxis\":{\"colorbar\":{\"outlinewidth\":0,\"ticks\":\"\"}},\"colorscale\":{\"sequential\":[[0.0,\"#0d0887\"],[0.1111111111111111,\"#46039f\"],[0.2222222222222222,\"#7201a8\"],[0.3333333333333333,\"#9c179e\"],[0.4444444444444444,\"#bd3786\"],[0.5555555555555556,\"#d8576b\"],[0.6666666666666666,\"#ed7953\"],[0.7777777777777778,\"#fb9f3a\"],[0.8888888888888888,\"#fdca26\"],[1.0,\"#f0f921\"]],\"sequentialminus\":[[0.0,\"#0d0887\"],[0.1111111111111111,\"#46039f\"],[0.2222222222222222,\"#7201a8\"],[0.3333333333333333,\"#9c179e\"],[0.4444444444444444,\"#bd3786\"],[0.5555555555555556,\"#d8576b\"],[0.6666666666666666,\"#ed7953\"],[0.7777777777777778,\"#fb9f3a\"],[0.8888888888888888,\"#fdca26\"],[1.0,\"#f0f921\"]],\"diverging\":[[0,\"#8e0152\"],[0.1,\"#c51b7d\"],[0.2,\"#de77ae\"],[0.3,\"#f1b6da\"],[0.4,\"#fde0ef\"],[0.5,\"#f7f7f7\"],[0.6,\"#e6f5d0\"],[0.7,\"#b8e186\"],[0.8,\"#7fbc41\"],[0.9,\"#4d9221\"],[1,\"#276419\"]]},\"xaxis\":{\"gridcolor\":\"white\",\"linecolor\":\"white\",\"ticks\":\"\",\"title\":{\"standoff\":15},\"zerolinecolor\":\"white\",\"automargin\":true,\"zerolinewidth\":2},\"yaxis\":{\"gridcolor\":\"white\",\"linecolor\":\"white\",\"ticks\":\"\",\"title\":{\"standoff\":15},\"zerolinecolor\":\"white\",\"automargin\":true,\"zerolinewidth\":2},\"scene\":{\"xaxis\":{\"backgroundcolor\":\"#E5ECF6\",\"gridcolor\":\"white\",\"linecolor\":\"white\",\"showbackground\":true,\"ticks\":\"\",\"zerolinecolor\":\"white\",\"gridwidth\":2},\"yaxis\":{\"backgroundcolor\":\"#E5ECF6\",\"gridcolor\":\"white\",\"linecolor\":\"white\",\"showbackground\":true,\"ticks\":\"\",\"zerolinecolor\":\"white\",\"gridwidth\":2},\"zaxis\":{\"backgroundcolor\":\"#E5ECF6\",\"gridcolor\":\"white\",\"linecolor\":\"white\",\"showbackground\":true,\"ticks\":\"\",\"zerolinecolor\":\"white\",\"gridwidth\":2}},\"shapedefaults\":{\"line\":{\"color\":\"#2a3f5f\"}},\"annotationdefaults\":{\"arrowcolor\":\"#2a3f5f\",\"arrowhead\":0,\"arrowwidth\":1},\"geo\":{\"bgcolor\":\"white\",\"landcolor\":\"#E5ECF6\",\"subunitcolor\":\"white\",\"showland\":true,\"showlakes\":true,\"lakecolor\":\"white\"},\"title\":{\"x\":0.05},\"mapbox\":{\"style\":\"light\"}}},\"xaxis\":{\"anchor\":\"y\",\"domain\":[0.0,1.0]},\"yaxis\":{\"anchor\":\"x\",\"domain\":[0.0,1.0],\"title\":{\"text\":\"BookingCount\"}},\"legend\":{\"title\":{\"text\":\"HotelId\"},\"tracegroupgap\":0},\"margin\":{\"t\":60},\"boxmode\":\"group\",\"width\":1000,\"height\":700},                        {\"responsive\": true}                    ).then(function(){\n",
       "                            \n",
       "var gd = document.getElementById('fb453683-f309-4739-ab7e-d1c5454a11b2');\n",
       "var x = new MutationObserver(function (mutations, observer) {{\n",
       "        var display = window.getComputedStyle(gd).display;\n",
       "        if (!display || display === 'none') {{\n",
       "            console.log([gd, 'removed!']);\n",
       "            Plotly.purge(gd);\n",
       "            observer.disconnect();\n",
       "        }}\n",
       "}});\n",
       "\n",
       "// Listen for the removal of the full notebook cells\n",
       "var notebookContainer = gd.closest('#notebook-container');\n",
       "if (notebookContainer) {{\n",
       "    x.observe(notebookContainer, {childList: true});\n",
       "}}\n",
       "\n",
       "// Listen for the clearing of the current output cell\n",
       "var outputEl = gd.closest('.output');\n",
       "if (outputEl) {{\n",
       "    x.observe(outputEl, {childList: true});\n",
       "}}\n",
       "\n",
       "                        })                };                });            </script>        </div>"
      ]
     },
     "metadata": {},
     "output_type": "display_data"
    }
   ],
   "source": [
    "\n",
    "import plotly.express as px\n",
    "fig = px.box(weekly_demand, y=\"BookingCount\", color='HotelId', points='all')\n",
    "fig.update_traces(quartilemethod=\"linear\")\n",
    "fig.update_layout(\n",
    "    width=1000,  \n",
    "    height=700\n",
    ")\n",
    "fig.show()\n"
   ]
  },
  {
   "attachments": {
    "95b0aff8-092a-4c55-956f-7f8d9f578f08.webp": {
     "image/webp": "[encoded data removed]"
    }
   },
   "cell_type": "markdown",
   "metadata": {},
   "source": [
    "We use this diagram to assist with interpreting the boxplot:  ![boxplot-outliers.webp](attachment:95b0aff8-092a-4c55-956f-7f8d9f578f08.webp) This come from the bloog [Towards Data Science](https://towardsdatascience.com/understanding-boxplots-5e2df7bcbd5)\n",
    "So using that model, there are hotel that have values that are candidate outliers in the time series distribution. Let's try to isolate the box plot and the booking per week per hotel."
   ]
  },
  {
   "cell_type": "code",
   "execution_count": 84,
   "metadata": {},
   "outputs": [
    {
     "data": {
      "application/vnd.plotly.v1+json": {
       "config": {
        "plotlyServerURL": "https://plot.ly"
       },
       "data": [
        {
         "alignmentgroup": "True",
         "boxpoints": "all",
         "hovertemplate": "BookingCount=%{y}<extra></extra>",
         "legendgroup": "",
         "marker": {
          "color": "#636efa"
         },
         "name": "",
         "notched": false,
         "offsetgroup": "",
         "orientation": "v",
         "showlegend": false,
         "type": "box",
         "x0": " ",
         "xaxis": "x",
         "y": [
          5,
          2,
          1,
          2,
          1,
          3,
          1,
          8,
          3,
          2,
          3,
          1
         ],
         "y0": " ",
         "yaxis": "y"
        },
        {
         "alignmentgroup": "True",
         "boxpoints": "all",
         "hovertemplate": "BookingCount=%{y}<extra></extra>",
         "legendgroup": "",
         "marker": {
          "color": "#636efa"
         },
         "name": "",
         "notched": false,
         "offsetgroup": "",
         "orientation": "v",
         "showlegend": false,
         "type": "box",
         "x0": " ",
         "xaxis": "x2",
         "y": [
          3,
          3,
          8,
          10,
          40,
          3,
          13,
          9,
          3,
          11,
          5,
          2,
          6,
          8,
          6,
          3,
          2,
          2,
          8,
          2,
          3,
          1,
          6,
          6,
          11,
          17,
          17,
          33,
          27,
          5,
          1,
          8,
          1,
          3,
          8,
          12,
          5,
          4,
          13,
          15,
          1,
          7,
          6,
          1,
          6,
          7,
          10,
          10,
          11,
          5,
          4,
          10,
          4,
          2,
          17,
          2,
          21,
          29,
          11,
          21,
          2,
          21,
          80,
          16,
          1,
          21,
          3,
          9,
          4,
          8,
          8,
          5,
          7,
          2,
          7,
          4,
          1,
          11,
          10,
          2,
          7,
          13,
          8,
          6,
          9,
          7,
          2,
          13,
          6,
          11,
          14,
          17,
          1,
          1,
          22,
          14,
          11,
          15,
          27,
          10,
          13,
          14,
          26,
          30,
          6,
          15,
          20,
          13,
          5,
          12,
          36,
          21,
          1,
          17,
          6,
          8,
          15
         ],
         "y0": " ",
         "yaxis": "y2"
        },
        {
         "alignmentgroup": "True",
         "boxpoints": "all",
         "hovertemplate": "BookingCount=%{y}<extra></extra>",
         "legendgroup": "",
         "marker": {
          "color": "#636efa"
         },
         "name": "",
         "notched": false,
         "offsetgroup": "",
         "orientation": "v",
         "showlegend": false,
         "type": "box",
         "x0": " ",
         "xaxis": "x3",
         "y": [
          13,
          14,
          17,
          6,
          1,
          4,
          10,
          4,
          18,
          3,
          10,
          8,
          7,
          9,
          3,
          3,
          18,
          1,
          6,
          7,
          4,
          6,
          7,
          13,
          19,
          8,
          19,
          38,
          59,
          28,
          8,
          10,
          17,
          7,
          4,
          19,
          3,
          10,
          5,
          6,
          18,
          3,
          8,
          3,
          1,
          4,
          1,
          2,
          1,
          1,
          2,
          2,
          1,
          2,
          10,
          4,
          10,
          2,
          1,
          7,
          5,
          1,
          3,
          5,
          1,
          2,
          3,
          3,
          1,
          5,
          5,
          1,
          2,
          1,
          1,
          1,
          1,
          3,
          2,
          1,
          1,
          1
         ],
         "y0": " ",
         "yaxis": "y3"
        },
        {
         "alignmentgroup": "True",
         "boxpoints": "all",
         "hovertemplate": "BookingCount=%{y}<extra></extra>",
         "legendgroup": "",
         "marker": {
          "color": "#636efa"
         },
         "name": "",
         "notched": false,
         "offsetgroup": "",
         "orientation": "v",
         "showlegend": false,
         "type": "box",
         "x0": " ",
         "xaxis": "x4",
         "y": [
          1,
          16,
          11,
          7,
          2,
          1,
          6,
          1,
          5,
          5,
          7,
          3,
          5,
          2,
          3,
          6,
          2,
          5,
          11,
          21,
          11,
          3,
          4,
          7,
          15,
          3,
          16,
          11,
          2,
          6,
          5,
          2,
          4,
          19,
          11,
          12,
          6,
          6,
          16,
          1,
          1,
          11,
          4,
          14,
          5,
          10,
          22,
          23,
          7,
          9,
          12,
          21,
          10,
          6,
          6,
          12,
          34,
          4,
          9,
          13,
          7,
          2,
          4,
          1,
          9,
          18,
          2,
          7,
          19,
          9,
          16,
          17,
          15,
          9,
          18,
          17,
          8,
          24,
          6,
          31,
          15,
          19,
          18,
          29,
          18,
          51,
          40,
          5,
          22,
          16,
          39,
          8,
          20,
          22,
          15,
          10,
          13,
          7,
          25,
          47,
          8,
          6,
          30,
          4,
          26,
          19,
          8,
          17,
          19,
          18,
          10,
          20,
          26,
          10,
          28,
          28,
          49,
          55,
          28,
          20,
          33,
          46,
          13,
          19,
          15,
          20,
          9,
          23,
          7,
          24,
          9,
          14,
          2,
          6,
          16,
          19
         ],
         "y0": " ",
         "yaxis": "y4"
        },
        {
         "alignmentgroup": "True",
         "boxpoints": "all",
         "hovertemplate": "BookingCount=%{y}<extra></extra>",
         "legendgroup": "",
         "marker": {
          "color": "#636efa"
         },
         "name": "",
         "notched": false,
         "offsetgroup": "",
         "orientation": "v",
         "showlegend": false,
         "type": "box",
         "x0": " ",
         "xaxis": "x5",
         "y": [
          10,
          22,
          17,
          3,
          12,
          18,
          16,
          20,
          9,
          19,
          12,
          14,
          9,
          20,
          2,
          29,
          21,
          23,
          8,
          10,
          27,
          6,
          28,
          28,
          38,
          15,
          16,
          37,
          48,
          32,
          14,
          19,
          30,
          8,
          5,
          30,
          2,
          2,
          17,
          5,
          1,
          4,
          14,
          3,
          9,
          26,
          1,
          8,
          10,
          4,
          16,
          18,
          9,
          1,
          6,
          15,
          5,
          17,
          18,
          6,
          29,
          42,
          42,
          25,
          20,
          42,
          76,
          37,
          12,
          27,
          44,
          23,
          11,
          20,
          31,
          36,
          5,
          28,
          11,
          3,
          29,
          5,
          16,
          1,
          31,
          27,
          19,
          36,
          16,
          17,
          1,
          14,
          13,
          34,
          29,
          33,
          4,
          21,
          48,
          46,
          28,
          30,
          28,
          66,
          52,
          18,
          24,
          47,
          42,
          60,
          41,
          46,
          37,
          27,
          19,
          38,
          40,
          43,
          25,
          33,
          31,
          34,
          36,
          20,
          39,
          7,
          50,
          43,
          18,
          13,
          26,
          8,
          33,
          36,
          36,
          31,
          79,
          62,
          23,
          24,
          46,
          44,
          17,
          34,
          34,
          67,
          72,
          40,
          21,
          44,
          39,
          34,
          14,
          13,
          23,
          3,
          46,
          13,
          22,
          7,
          31,
          3,
          5,
          1,
          10,
          10,
          45
         ],
         "y0": " ",
         "yaxis": "y5"
        },
        {
         "alignmentgroup": "True",
         "boxpoints": "all",
         "hovertemplate": "BookingCount=%{y}<extra></extra>",
         "legendgroup": "",
         "marker": {
          "color": "#636efa"
         },
         "name": "",
         "notched": false,
         "offsetgroup": "",
         "orientation": "v",
         "showlegend": false,
         "type": "box",
         "x0": " ",
         "xaxis": "x6",
         "y": [
          35,
          46,
          42,
          44,
          62,
          35,
          56,
          44,
          42,
          52,
          65,
          42,
          42,
          45,
          89,
          4,
          1,
          46,
          36,
          18,
          2,
          18,
          37,
          45,
          95,
          98,
          43,
          22,
          43,
          29,
          31,
          51,
          33,
          80,
          88,
          40,
          53,
          104,
          79,
          36,
          53,
          4,
          35,
          44,
          39,
          45,
          39,
          46,
          58,
          51,
          51,
          12,
          68,
          44,
          49,
          55,
          60,
          71,
          56,
          36,
          30,
          42,
          36,
          25,
          24,
          50,
          26,
          2,
          8,
          37,
          15,
          19,
          18,
          14,
          59,
          94,
          73,
          56,
          48,
          51,
          46,
          36,
          30,
          70,
          61,
          82,
          30,
          52,
          95,
          75,
          29,
          47,
          32,
          43,
          58,
          14,
          64,
          103,
          76,
          55,
          36,
          63,
          102,
          62,
          68,
          74,
          54,
          33,
          66,
          70,
          57,
          57,
          50,
          45,
          71,
          3,
          12,
          53,
          22,
          31,
          57,
          84,
          92,
          58,
          71,
          49,
          32,
          36,
          53,
          60,
          25,
          44,
          70,
          42,
          71,
          77,
          68,
          43,
          24,
          18,
          2,
          44,
          23,
          50,
          28,
          68,
          43,
          53,
          69,
          53,
          71,
          65,
          39,
          42,
          43,
          64,
          30,
          26,
          48,
          61,
          51,
          53,
          1,
          42,
          11,
          62,
          52,
          51,
          83,
          56,
          69,
          49,
          46,
          24,
          23,
          55,
          28,
          24,
          33,
          52,
          28,
          36,
          26,
          24,
          46,
          6,
          39,
          33,
          22,
          27,
          11,
          10,
          4,
          7,
          4,
          11,
          3,
          4,
          4,
          2
         ],
         "y0": " ",
         "yaxis": "y6"
        },
        {
         "alignmentgroup": "True",
         "boxpoints": "all",
         "hovertemplate": "BookingCount=%{y}<extra></extra>",
         "legendgroup": "",
         "marker": {
          "color": "#636efa"
         },
         "name": "",
         "notched": false,
         "offsetgroup": "",
         "orientation": "v",
         "showlegend": false,
         "type": "box",
         "x0": " ",
         "xaxis": "x7",
         "y": [
          12,
          130,
          21,
          26,
          74,
          17,
          38,
          32,
          32,
          75,
          12,
          24,
          48,
          15,
          16,
          23,
          58,
          14,
          36,
          36,
          49,
          46,
          77,
          48,
          18,
          31,
          84,
          78,
          54,
          42,
          72,
          80,
          95,
          24,
          38,
          52,
          158,
          27,
          55,
          20,
          24,
          24,
          34,
          18,
          4,
          1,
          26,
          36,
          2,
          64,
          3,
          20,
          56,
          1,
          1,
          12,
          49,
          49,
          6,
          46,
          1,
          1,
          1,
          28,
          48,
          27,
          38,
          22,
          39,
          45,
          42,
          7,
          21,
          50,
          94,
          63,
          15,
          62,
          91,
          60,
          36,
          54,
          79,
          23,
          14,
          37,
          24,
          13,
          27,
          14,
          16,
          34,
          1,
          85,
          49,
          58,
          60,
          47,
          85,
          75,
          84,
          78,
          89,
          150,
          143,
          93,
          126,
          79,
          137,
          122,
          71,
          109,
          132,
          120,
          104,
          120,
          55,
          145,
          97,
          73,
          78,
          82,
          142,
          80,
          75,
          91,
          89,
          104,
          151,
          73,
          111,
          117,
          81,
          56,
          1,
          62,
          92,
          59,
          5,
          4,
          81,
          2,
          28,
          64,
          4,
          74,
          16,
          65,
          123,
          99,
          26,
          39,
          67,
          112,
          85,
          46,
          44,
          85,
          95,
          24,
          38,
          50,
          36,
          8,
          26,
          22,
          62,
          45,
          65,
          9,
          3,
          5,
          1,
          32,
          38
         ],
         "y0": " ",
         "yaxis": "y7"
        },
        {
         "alignmentgroup": "True",
         "boxpoints": "all",
         "hovertemplate": "BookingCount=%{y}<extra></extra>",
         "legendgroup": "",
         "marker": {
          "color": "#636efa"
         },
         "name": "",
         "notched": false,
         "offsetgroup": "",
         "orientation": "v",
         "showlegend": false,
         "type": "box",
         "x0": " ",
         "xaxis": "x8",
         "y": [
          44,
          23,
          49,
          76,
          89,
          34,
          79,
          94,
          72,
          42,
          52,
          42,
          44,
          63,
          45,
          39,
          49,
          68,
          31,
          53,
          56,
          47,
          42,
          40,
          32,
          29,
          38,
          23,
          31,
          20,
          14,
          35,
          9,
          13,
          33,
          29,
          14,
          48,
          64,
          52,
          44,
          43,
          32,
          15,
          39,
          11,
          4,
          39,
          24,
          8,
          10,
          1,
          53,
          24,
          2,
          14,
          42,
          2,
          20,
          67,
          3,
          3,
          93,
          23,
          10,
          4,
          65,
          45,
          16,
          23,
          14,
          60,
          20,
          15,
          33,
          52,
          49,
          55,
          47,
          24,
          69,
          45,
          45,
          28,
          74,
          86,
          135,
          81,
          31,
          114,
          76,
          42,
          15,
          58,
          93,
          76,
          33,
          75,
          60,
          47,
          89,
          98,
          67,
          1,
          1,
          63,
          141,
          3,
          52,
          130,
          10,
          31,
          7,
          146,
          168,
          119,
          159,
          73,
          158,
          113,
          176,
          78,
          162,
          122,
          144,
          71,
          151,
          193,
          114,
          111,
          96,
          165,
          105,
          151,
          67,
          153,
          187,
          173,
          214,
          112,
          215,
          185,
          204,
          153,
          172,
          96,
          110,
          61,
          198,
          38,
          88,
          101,
          17,
          16,
          11,
          9,
          22,
          6,
          8,
          25,
          12,
          3,
          5,
          4,
          19,
          8,
          19,
          28,
          21,
          25,
          7,
          40,
          16,
          19,
          1,
          15,
          11,
          19,
          10,
          9,
          8,
          12,
          5,
          11,
          4,
          3,
          14,
          10,
          6,
          3,
          2,
          21,
          5,
          6,
          2,
          1,
          3,
          16
         ],
         "y0": " ",
         "yaxis": "y8"
        },
        {
         "alignmentgroup": "True",
         "boxpoints": "all",
         "hovertemplate": "BookingCount=%{y}<extra></extra>",
         "legendgroup": "",
         "marker": {
          "color": "#636efa"
         },
         "name": "",
         "notched": false,
         "offsetgroup": "",
         "orientation": "v",
         "showlegend": false,
         "type": "box",
         "x0": " ",
         "xaxis": "x9",
         "y": [
          5,
          18,
          14,
          8,
          6,
          1,
          18,
          7,
          7,
          30,
          10,
          4,
          14,
          6,
          11,
          6,
          9,
          4,
          11,
          40,
          29,
          12,
          18,
          11,
          11,
          31,
          16,
          11,
          27,
          6,
          19,
          11,
          1,
          9,
          8,
          14,
          13,
          19,
          13,
          16,
          1,
          20,
          1,
          4,
          9,
          1,
          29,
          25,
          44,
          13,
          12,
          27,
          66,
          37,
          17,
          18,
          53,
          36,
          13,
          32,
          51,
          20,
          35,
          8,
          12,
          14,
          48,
          12,
          26,
          6,
          33,
          32,
          9,
          23,
          23,
          32,
          36,
          38,
          13,
          17,
          25,
          38,
          16,
          33,
          45,
          48,
          30,
          24,
          31,
          36,
          54,
          25,
          27,
          61,
          49,
          35,
          7,
          20,
          28,
          16,
          7,
          1,
          25,
          1,
          13,
          19,
          30,
          22,
          14,
          4,
          27,
          38,
          10,
          22,
          41,
          53,
          37,
          23,
          21,
          23,
          33,
          9,
          21,
          19,
          18,
          5,
          25,
          20,
          17,
          8,
          13,
          4,
          2,
          20,
          13
         ],
         "y0": " ",
         "yaxis": "y9"
        },
        {
         "alignmentgroup": "True",
         "boxpoints": "all",
         "hovertemplate": "BookingCount=%{y}<extra></extra>",
         "legendgroup": "",
         "marker": {
          "color": "#636efa"
         },
         "name": "",
         "notched": false,
         "offsetgroup": "",
         "orientation": "v",
         "showlegend": false,
         "type": "box",
         "x0": " ",
         "xaxis": "x10",
         "y": [
          1,
          2,
          1,
          1,
          1,
          1,
          1,
          1,
          1,
          1,
          1,
          2,
          1,
          1,
          1,
          1,
          1,
          1
         ],
         "y0": " ",
         "yaxis": "y10"
        }
       ],
       "layout": {
        "annotations": [
         {
          "font": {
           "size": 16
          },
          "showarrow": false,
          "text": "Hotel 001",
          "x": 0.225,
          "xanchor": "center",
          "xref": "paper",
          "y": 1,
          "yanchor": "bottom",
          "yref": "paper"
         },
         {
          "font": {
           "size": 16
          },
          "showarrow": false,
          "text": "Hotel 002",
          "x": 0.775,
          "xanchor": "center",
          "xref": "paper",
          "y": 1,
          "yanchor": "bottom",
          "yref": "paper"
         },
         {
          "font": {
           "size": 16
          },
          "showarrow": false,
          "text": "Hotel 003",
          "x": 0.225,
          "xanchor": "center",
          "xref": "paper",
          "y": 0.78,
          "yanchor": "bottom",
          "yref": "paper"
         },
         {
          "font": {
           "size": 16
          },
          "showarrow": false,
          "text": "Hotel 004",
          "x": 0.775,
          "xanchor": "center",
          "xref": "paper",
          "y": 0.78,
          "yanchor": "bottom",
          "yref": "paper"
         },
         {
          "font": {
           "size": 16
          },
          "showarrow": false,
          "text": "Hotel 005",
          "x": 0.225,
          "xanchor": "center",
          "xref": "paper",
          "y": 0.56,
          "yanchor": "bottom",
          "yref": "paper"
         },
         {
          "font": {
           "size": 16
          },
          "showarrow": false,
          "text": "Hotel 006",
          "x": 0.775,
          "xanchor": "center",
          "xref": "paper",
          "y": 0.56,
          "yanchor": "bottom",
          "yref": "paper"
         },
         {
          "font": {
           "size": 16
          },
          "showarrow": false,
          "text": "Hotel 007",
          "x": 0.225,
          "xanchor": "center",
          "xref": "paper",
          "y": 0.33999999999999997,
          "yanchor": "bottom",
          "yref": "paper"
         },
         {
          "font": {
           "size": 16
          },
          "showarrow": false,
          "text": "Hotel 008",
          "x": 0.775,
          "xanchor": "center",
          "xref": "paper",
          "y": 0.33999999999999997,
          "yanchor": "bottom",
          "yref": "paper"
         },
         {
          "font": {
           "size": 16
          },
          "showarrow": false,
          "text": "Hotel 009",
          "x": 0.225,
          "xanchor": "center",
          "xref": "paper",
          "y": 0.12,
          "yanchor": "bottom",
          "yref": "paper"
         },
         {
          "font": {
           "size": 16
          },
          "showarrow": false,
          "text": "Hotel 010",
          "x": 0.775,
          "xanchor": "center",
          "xref": "paper",
          "y": 0.12,
          "yanchor": "bottom",
          "yref": "paper"
         }
        ],
        "height": 800,
        "showlegend": false,
        "template": {
         "data": {
          "bar": [
           {
            "error_x": {
             "color": "#2a3f5f"
            },
            "error_y": {
             "color": "#2a3f5f"
            },
            "marker": {
             "line": {
              "color": "#E5ECF6",
              "width": 0.5
             },
             "pattern": {
              "fillmode": "overlay",
              "size": 10,
              "solidity": 0.2
             }
            },
            "type": "bar"
           }
          ],
          "barpolar": [
           {
            "marker": {
             "line": {
              "color": "#E5ECF6",
              "width": 0.5
             },
             "pattern": {
              "fillmode": "overlay",
              "size": 10,
              "solidity": 0.2
             }
            },
            "type": "barpolar"
           }
          ],
          "carpet": [
           {
            "aaxis": {
             "endlinecolor": "#2a3f5f",
             "gridcolor": "white",
             "linecolor": "white",
             "minorgridcolor": "white",
             "startlinecolor": "#2a3f5f"
            },
            "baxis": {
             "endlinecolor": "#2a3f5f",
             "gridcolor": "white",
             "linecolor": "white",
             "minorgridcolor": "white",
             "startlinecolor": "#2a3f5f"
            },
            "type": "carpet"
           }
          ],
          "choropleth": [
           {
            "colorbar": {
             "outlinewidth": 0,
             "ticks": ""
            },
            "type": "choropleth"
           }
          ],
          "contour": [
           {
            "colorbar": {
             "outlinewidth": 0,
             "ticks": ""
            },
            "colorscale": [
             [
              0,
              "#0d0887"
             ],
             [
              0.1111111111111111,
              "#46039f"
             ],
             [
              0.2222222222222222,
              "#7201a8"
             ],
             [
              0.3333333333333333,
              "#9c179e"
             ],
             [
              0.4444444444444444,
              "#bd3786"
             ],
             [
              0.5555555555555556,
              "#d8576b"
             ],
             [
              0.6666666666666666,
              "#ed7953"
             ],
             [
              0.7777777777777778,
              "#fb9f3a"
             ],
             [
              0.8888888888888888,
              "#fdca26"
             ],
             [
              1,
              "#f0f921"
             ]
            ],
            "type": "contour"
           }
          ],
          "contourcarpet": [
           {
            "colorbar": {
             "outlinewidth": 0,
             "ticks": ""
            },
            "type": "contourcarpet"
           }
          ],
          "heatmap": [
           {
            "colorbar": {
             "outlinewidth": 0,
             "ticks": ""
            },
            "colorscale": [
             [
              0,
              "#0d0887"
             ],
             [
              0.1111111111111111,
              "#46039f"
             ],
             [
              0.2222222222222222,
              "#7201a8"
             ],
             [
              0.3333333333333333,
              "#9c179e"
             ],
             [
              0.4444444444444444,
              "#bd3786"
             ],
             [
              0.5555555555555556,
              "#d8576b"
             ],
             [
              0.6666666666666666,
              "#ed7953"
             ],
             [
              0.7777777777777778,
              "#fb9f3a"
             ],
             [
              0.8888888888888888,
              "#fdca26"
             ],
             [
              1,
              "#f0f921"
             ]
            ],
            "type": "heatmap"
           }
          ],
          "heatmapgl": [
           {
            "colorbar": {
             "outlinewidth": 0,
             "ticks": ""
            },
            "colorscale": [
             [
              0,
              "#0d0887"
             ],
             [
              0.1111111111111111,
              "#46039f"
             ],
             [
              0.2222222222222222,
              "#7201a8"
             ],
             [
              0.3333333333333333,
              "#9c179e"
             ],
             [
              0.4444444444444444,
              "#bd3786"
             ],
             [
              0.5555555555555556,
              "#d8576b"
             ],
             [
              0.6666666666666666,
              "#ed7953"
             ],
             [
              0.7777777777777778,
              "#fb9f3a"
             ],
             [
              0.8888888888888888,
              "#fdca26"
             ],
             [
              1,
              "#f0f921"
             ]
            ],
            "type": "heatmapgl"
           }
          ],
          "histogram": [
           {
            "marker": {
             "pattern": {
              "fillmode": "overlay",
              "size": 10,
              "solidity": 0.2
             }
            },
            "type": "histogram"
           }
          ],
          "histogram2d": [
           {
            "colorbar": {
             "outlinewidth": 0,
             "ticks": ""
            },
            "colorscale": [
             [
              0,
              "#0d0887"
             ],
             [
              0.1111111111111111,
              "#46039f"
             ],
             [
              0.2222222222222222,
              "#7201a8"
             ],
             [
              0.3333333333333333,
              "#9c179e"
             ],
             [
              0.4444444444444444,
              "#bd3786"
             ],
             [
              0.5555555555555556,
              "#d8576b"
             ],
             [
              0.6666666666666666,
              "#ed7953"
             ],
             [
              0.7777777777777778,
              "#fb9f3a"
             ],
             [
              0.8888888888888888,
              "#fdca26"
             ],
             [
              1,
              "#f0f921"
             ]
            ],
            "type": "histogram2d"
           }
          ],
          "histogram2dcontour": [
           {
            "colorbar": {
             "outlinewidth": 0,
             "ticks": ""
            },
            "colorscale": [
             [
              0,
              "#0d0887"
             ],
             [
              0.1111111111111111,
              "#46039f"
             ],
             [
              0.2222222222222222,
              "#7201a8"
             ],
             [
              0.3333333333333333,
              "#9c179e"
             ],
             [
              0.4444444444444444,
              "#bd3786"
             ],
             [
              0.5555555555555556,
              "#d8576b"
             ],
             [
              0.6666666666666666,
              "#ed7953"
             ],
             [
              0.7777777777777778,
              "#fb9f3a"
             ],
             [
              0.8888888888888888,
              "#fdca26"
             ],
             [
              1,
              "#f0f921"
             ]
            ],
            "type": "histogram2dcontour"
           }
          ],
          "mesh3d": [
           {
            "colorbar": {
             "outlinewidth": 0,
             "ticks": ""
            },
            "type": "mesh3d"
           }
          ],
          "parcoords": [
           {
            "line": {
             "colorbar": {
              "outlinewidth": 0,
              "ticks": ""
             }
            },
            "type": "parcoords"
           }
          ],
          "pie": [
           {
            "automargin": true,
            "type": "pie"
           }
          ],
          "scatter": [
           {
            "fillpattern": {
             "fillmode": "overlay",
             "size": 10,
             "solidity": 0.2
            },
            "type": "scatter"
           }
          ],
          "scatter3d": [
           {
            "line": {
             "colorbar": {
              "outlinewidth": 0,
              "ticks": ""
             }
            },
            "marker": {
             "colorbar": {
              "outlinewidth": 0,
              "ticks": ""
             }
            },
            "type": "scatter3d"
           }
          ],
          "scattercarpet": [
           {
            "marker": {
             "colorbar": {
              "outlinewidth": 0,
              "ticks": ""
             }
            },
            "type": "scattercarpet"
           }
          ],
          "scattergeo": [
           {
            "marker": {
             "colorbar": {
              "outlinewidth": 0,
              "ticks": ""
             }
            },
            "type": "scattergeo"
           }
          ],
          "scattergl": [
           {
            "marker": {
             "colorbar": {
              "outlinewidth": 0,
              "ticks": ""
             }
            },
            "type": "scattergl"
           }
          ],
          "scattermapbox": [
           {
            "marker": {
             "colorbar": {
              "outlinewidth": 0,
              "ticks": ""
             }
            },
            "type": "scattermapbox"
           }
          ],
          "scatterpolar": [
           {
            "marker": {
             "colorbar": {
              "outlinewidth": 0,
              "ticks": ""
             }
            },
            "type": "scatterpolar"
           }
          ],
          "scatterpolargl": [
           {
            "marker": {
             "colorbar": {
              "outlinewidth": 0,
              "ticks": ""
             }
            },
            "type": "scatterpolargl"
           }
          ],
          "scatterternary": [
           {
            "marker": {
             "colorbar": {
              "outlinewidth": 0,
              "ticks": ""
             }
            },
            "type": "scatterternary"
           }
          ],
          "surface": [
           {
            "colorbar": {
             "outlinewidth": 0,
             "ticks": ""
            },
            "colorscale": [
             [
              0,
              "#0d0887"
             ],
             [
              0.1111111111111111,
              "#46039f"
             ],
             [
              0.2222222222222222,
              "#7201a8"
             ],
             [
              0.3333333333333333,
              "#9c179e"
             ],
             [
              0.4444444444444444,
              "#bd3786"
             ],
             [
              0.5555555555555556,
              "#d8576b"
             ],
             [
              0.6666666666666666,
              "#ed7953"
             ],
             [
              0.7777777777777778,
              "#fb9f3a"
             ],
             [
              0.8888888888888888,
              "#fdca26"
             ],
             [
              1,
              "#f0f921"
             ]
            ],
            "type": "surface"
           }
          ],
          "table": [
           {
            "cells": {
             "fill": {
              "color": "#EBF0F8"
             },
             "line": {
              "color": "white"
             }
            },
            "header": {
             "fill": {
              "color": "#C8D4E3"
             },
             "line": {
              "color": "white"
             }
            },
            "type": "table"
           }
          ]
         },
         "layout": {
          "annotationdefaults": {
           "arrowcolor": "#2a3f5f",
           "arrowhead": 0,
           "arrowwidth": 1
          },
          "autotypenumbers": "strict",
          "coloraxis": {
           "colorbar": {
            "outlinewidth": 0,
            "ticks": ""
           }
          },
          "colorscale": {
           "diverging": [
            [
             0,
             "#8e0152"
            ],
            [
             0.1,
             "#c51b7d"
            ],
            [
             0.2,
             "#de77ae"
            ],
            [
             0.3,
             "#f1b6da"
            ],
            [
             0.4,
             "#fde0ef"
            ],
            [
             0.5,
             "#f7f7f7"
            ],
            [
             0.6,
             "#e6f5d0"
            ],
            [
             0.7,
             "#b8e186"
            ],
            [
             0.8,
             "#7fbc41"
            ],
            [
             0.9,
             "#4d9221"
            ],
            [
             1,
             "#276419"
            ]
           ],
           "sequential": [
            [
             0,
             "#0d0887"
            ],
            [
             0.1111111111111111,
             "#46039f"
            ],
            [
             0.2222222222222222,
             "#7201a8"
            ],
            [
             0.3333333333333333,
             "#9c179e"
            ],
            [
             0.4444444444444444,
             "#bd3786"
            ],
            [
             0.5555555555555556,
             "#d8576b"
            ],
            [
             0.6666666666666666,
             "#ed7953"
            ],
            [
             0.7777777777777778,
             "#fb9f3a"
            ],
            [
             0.8888888888888888,
             "#fdca26"
            ],
            [
             1,
             "#f0f921"
            ]
           ],
           "sequentialminus": [
            [
             0,
             "#0d0887"
            ],
            [
             0.1111111111111111,
             "#46039f"
            ],
            [
             0.2222222222222222,
             "#7201a8"
            ],
            [
             0.3333333333333333,
             "#9c179e"
            ],
            [
             0.4444444444444444,
             "#bd3786"
            ],
            [
             0.5555555555555556,
             "#d8576b"
            ],
            [
             0.6666666666666666,
             "#ed7953"
            ],
            [
             0.7777777777777778,
             "#fb9f3a"
            ],
            [
             0.8888888888888888,
             "#fdca26"
            ],
            [
             1,
             "#f0f921"
            ]
           ]
          },
          "colorway": [
           "#636efa",
           "#EF553B",
           "#00cc96",
           "#ab63fa",
           "#FFA15A",
           "#19d3f3",
           "#FF6692",
           "#B6E880",
           "#FF97FF",
           "#FECB52"
          ],
          "font": {
           "color": "#2a3f5f"
          },
          "geo": {
           "bgcolor": "white",
           "lakecolor": "white",
           "landcolor": "#E5ECF6",
           "showlakes": true,
           "showland": true,
           "subunitcolor": "white"
          },
          "hoverlabel": {
           "align": "left"
          },
          "hovermode": "closest",
          "mapbox": {
           "style": "light"
          },
          "paper_bgcolor": "white",
          "plot_bgcolor": "#E5ECF6",
          "polar": {
           "angularaxis": {
            "gridcolor": "white",
            "linecolor": "white",
            "ticks": ""
           },
           "bgcolor": "#E5ECF6",
           "radialaxis": {
            "gridcolor": "white",
            "linecolor": "white",
            "ticks": ""
           }
          },
          "scene": {
           "xaxis": {
            "backgroundcolor": "#E5ECF6",
            "gridcolor": "white",
            "gridwidth": 2,
            "linecolor": "white",
            "showbackground": true,
            "ticks": "",
            "zerolinecolor": "white"
           },
           "yaxis": {
            "backgroundcolor": "#E5ECF6",
            "gridcolor": "white",
            "gridwidth": 2,
            "linecolor": "white",
            "showbackground": true,
            "ticks": "",
            "zerolinecolor": "white"
           },
           "zaxis": {
            "backgroundcolor": "#E5ECF6",
            "gridcolor": "white",
            "gridwidth": 2,
            "linecolor": "white",
            "showbackground": true,
            "ticks": "",
            "zerolinecolor": "white"
           }
          },
          "shapedefaults": {
           "line": {
            "color": "#2a3f5f"
           }
          },
          "ternary": {
           "aaxis": {
            "gridcolor": "white",
            "linecolor": "white",
            "ticks": ""
           },
           "baxis": {
            "gridcolor": "white",
            "linecolor": "white",
            "ticks": ""
           },
           "bgcolor": "#E5ECF6",
           "caxis": {
            "gridcolor": "white",
            "linecolor": "white",
            "ticks": ""
           }
          },
          "title": {
           "x": 0.05
          },
          "xaxis": {
           "automargin": true,
           "gridcolor": "white",
           "linecolor": "white",
           "ticks": "",
           "title": {
            "standoff": 15
           },
           "zerolinecolor": "white",
           "zerolinewidth": 2
          },
          "yaxis": {
           "automargin": true,
           "gridcolor": "white",
           "linecolor": "white",
           "ticks": "",
           "title": {
            "standoff": 15
           },
           "zerolinecolor": "white",
           "zerolinewidth": 2
          }
         }
        },
        "title": {
         "text": "Distril"
        },
        "width": 1000,
        "xaxis": {
         "anchor": "y",
         "autorange": true,
         "domain": [
          0,
          0.45
         ],
         "range": [
          -0.508,
          0.5
         ],
         "type": "category"
        },
        "xaxis10": {
         "anchor": "y10",
         "autorange": true,
         "domain": [
          0.55,
          1
         ],
         "range": [
          -0.508,
          0.5
         ],
         "type": "category"
        },
        "xaxis2": {
         "anchor": "y2",
         "autorange": true,
         "domain": [
          0.55,
          1
         ],
         "range": [
          -0.508,
          0.5
         ],
         "type": "category"
        },
        "xaxis3": {
         "anchor": "y3",
         "autorange": true,
         "domain": [
          0,
          0.45
         ],
         "range": [
          -0.508,
          0.5
         ],
         "type": "category"
        },
        "xaxis4": {
         "anchor": "y4",
         "autorange": true,
         "domain": [
          0.55,
          1
         ],
         "range": [
          -0.508,
          0.5
         ],
         "type": "category"
        },
        "xaxis5": {
         "anchor": "y5",
         "autorange": true,
         "domain": [
          0,
          0.45
         ],
         "range": [
          -0.508,
          0.5
         ],
         "type": "category"
        },
        "xaxis6": {
         "anchor": "y6",
         "autorange": true,
         "domain": [
          0.55,
          1
         ],
         "range": [
          -0.508,
          0.5
         ],
         "type": "category"
        },
        "xaxis7": {
         "anchor": "y7",
         "autorange": true,
         "domain": [
          0,
          0.45
         ],
         "range": [
          -0.508,
          0.5
         ],
         "type": "category"
        },
        "xaxis8": {
         "anchor": "y8",
         "autorange": true,
         "domain": [
          0.55,
          1
         ],
         "range": [
          -0.508,
          0.5
         ],
         "type": "category"
        },
        "xaxis9": {
         "anchor": "y9",
         "autorange": true,
         "domain": [
          0,
          0.45
         ],
         "range": [
          -0.508,
          0.5
         ],
         "type": "category"
        },
        "yaxis": {
         "anchor": "x",
         "autorange": true,
         "domain": [
          0.88,
          1
         ],
         "range": [
          0.6111111111111112,
          8.38888888888889
         ],
         "type": "linear"
        },
        "yaxis10": {
         "anchor": "x10",
         "autorange": true,
         "domain": [
          0,
          0.12
         ],
         "range": [
          0.9444444444444444,
          2.0555555555555554
         ],
         "type": "linear"
        },
        "yaxis2": {
         "anchor": "x2",
         "autorange": true,
         "domain": [
          0.88,
          1
         ],
         "range": [
          -3.3888888888888893,
          84.38888888888889
         ],
         "type": "linear"
        },
        "yaxis3": {
         "anchor": "x3",
         "autorange": true,
         "domain": [
          0.66,
          0.78
         ],
         "range": [
          -2.2222222222222223,
          62.22222222222222
         ],
         "type": "linear"
        },
        "yaxis4": {
         "anchor": "x4",
         "autorange": true,
         "domain": [
          0.66,
          0.78
         ],
         "range": [
          -2,
          58
         ],
         "type": "linear"
        },
        "yaxis5": {
         "anchor": "x5",
         "autorange": true,
         "domain": [
          0.44,
          0.56
         ],
         "range": [
          -3.333333333333333,
          83.33333333333333
         ],
         "type": "linear"
        },
        "yaxis6": {
         "anchor": "x6",
         "autorange": true,
         "domain": [
          0.44,
          0.56
         ],
         "range": [
          -4.722222222222222,
          109.72222222222223
         ],
         "type": "linear"
        },
        "yaxis7": {
         "anchor": "x7",
         "autorange": true,
         "domain": [
          0.22,
          0.33999999999999997
         ],
         "range": [
          -7.722222222222223,
          166.72222222222223
         ],
         "type": "linear"
        },
        "yaxis8": {
         "anchor": "x8",
         "autorange": true,
         "domain": [
          0.22,
          0.33999999999999997
         ],
         "range": [
          -10.888888888888888,
          226.88888888888889
         ],
         "type": "linear"
        },
        "yaxis9": {
         "anchor": "x9",
         "autorange": true,
         "domain": [
          0,
          0.12
         ],
         "range": [
          -2.611111111111111,
          69.61111111111111
         ],
         "type": "linear"
        }
       }
      },
      "image/png": "[encoded data removed]",
      "text/html": [
       "<div>                            <div id=\"a988da7a-da0e-4cc9-8a09-29b1f5f2f830\" class=\"plotly-graph-div\" style=\"height:800px; width:1000px;\"></div>            <script type=\"text/javascript\">                require([\"plotly\"], function(Plotly) {                    window.PLOTLYENV=window.PLOTLYENV || {};                                    if (document.getElementById(\"a988da7a-da0e-4cc9-8a09-29b1f5f2f830\")) {                    Plotly.newPlot(                        \"a988da7a-da0e-4cc9-8a09-29b1f5f2f830\",                        [{\"alignmentgroup\":\"True\",\"boxpoints\":\"all\",\"hovertemplate\":\"BookingCount=%{y}\\u003cextra\\u003e\\u003c\\u002fextra\\u003e\",\"legendgroup\":\"\",\"marker\":{\"color\":\"#636efa\"},\"name\":\"\",\"notched\":false,\"offsetgroup\":\"\",\"orientation\":\"v\",\"showlegend\":false,\"x0\":\" \",\"xaxis\":\"x\",\"y\":[5,2,1,2,1,3,1,8,3,2,3,1],\"y0\":\" \",\"yaxis\":\"y\",\"type\":\"box\"},{\"alignmentgroup\":\"True\",\"boxpoints\":\"all\",\"hovertemplate\":\"BookingCount=%{y}\\u003cextra\\u003e\\u003c\\u002fextra\\u003e\",\"legendgroup\":\"\",\"marker\":{\"color\":\"#636efa\"},\"name\":\"\",\"notched\":false,\"offsetgroup\":\"\",\"orientation\":\"v\",\"showlegend\":false,\"x0\":\" \",\"xaxis\":\"x2\",\"y\":[3,3,8,10,40,3,13,9,3,11,5,2,6,8,6,3,2,2,8,2,3,1,6,6,11,17,17,33,27,5,1,8,1,3,8,12,5,4,13,15,1,7,6,1,6,7,10,10,11,5,4,10,4,2,17,2,21,29,11,21,2,21,80,16,1,21,3,9,4,8,8,5,7,2,7,4,1,11,10,2,7,13,8,6,9,7,2,13,6,11,14,17,1,1,22,14,11,15,27,10,13,14,26,30,6,15,20,13,5,12,36,21,1,17,6,8,15],\"y0\":\" \",\"yaxis\":\"y2\",\"type\":\"box\"},{\"alignmentgroup\":\"True\",\"boxpoints\":\"all\",\"hovertemplate\":\"BookingCount=%{y}\\u003cextra\\u003e\\u003c\\u002fextra\\u003e\",\"legendgroup\":\"\",\"marker\":{\"color\":\"#636efa\"},\"name\":\"\",\"notched\":false,\"offsetgroup\":\"\",\"orientation\":\"v\",\"showlegend\":false,\"x0\":\" \",\"xaxis\":\"x3\",\"y\":[13,14,17,6,1,4,10,4,18,3,10,8,7,9,3,3,18,1,6,7,4,6,7,13,19,8,19,38,59,28,8,10,17,7,4,19,3,10,5,6,18,3,8,3,1,4,1,2,1,1,2,2,1,2,10,4,10,2,1,7,5,1,3,5,1,2,3,3,1,5,5,1,2,1,1,1,1,3,2,1,1,1],\"y0\":\" \",\"yaxis\":\"y3\",\"type\":\"box\"},{\"alignmentgroup\":\"True\",\"boxpoints\":\"all\",\"hovertemplate\":\"BookingCount=%{y}\\u003cextra\\u003e\\u003c\\u002fextra\\u003e\",\"legendgroup\":\"\",\"marker\":{\"color\":\"#636efa\"},\"name\":\"\",\"notched\":false,\"offsetgroup\":\"\",\"orientation\":\"v\",\"showlegend\":false,\"x0\":\" \",\"xaxis\":\"x4\",\"y\":[1,16,11,7,2,1,6,1,5,5,7,3,5,2,3,6,2,5,11,21,11,3,4,7,15,3,16,11,2,6,5,2,4,19,11,12,6,6,16,1,1,11,4,14,5,10,22,23,7,9,12,21,10,6,6,12,34,4,9,13,7,2,4,1,9,18,2,7,19,9,16,17,15,9,18,17,8,24,6,31,15,19,18,29,18,51,40,5,22,16,39,8,20,22,15,10,13,7,25,47,8,6,30,4,26,19,8,17,19,18,10,20,26,10,28,28,49,55,28,20,33,46,13,19,15,20,9,23,7,24,9,14,2,6,16,19],\"y0\":\" \",\"yaxis\":\"y4\",\"type\":\"box\"},{\"alignmentgroup\":\"True\",\"boxpoints\":\"all\",\"hovertemplate\":\"BookingCount=%{y}\\u003cextra\\u003e\\u003c\\u002fextra\\u003e\",\"legendgroup\":\"\",\"marker\":{\"color\":\"#636efa\"},\"name\":\"\",\"notched\":false,\"offsetgroup\":\"\",\"orientation\":\"v\",\"showlegend\":false,\"x0\":\" \",\"xaxis\":\"x5\",\"y\":[10,22,17,3,12,18,16,20,9,19,12,14,9,20,2,29,21,23,8,10,27,6,28,28,38,15,16,37,48,32,14,19,30,8,5,30,2,2,17,5,1,4,14,3,9,26,1,8,10,4,16,18,9,1,6,15,5,17,18,6,29,42,42,25,20,42,76,37,12,27,44,23,11,20,31,36,5,28,11,3,29,5,16,1,31,27,19,36,16,17,1,14,13,34,29,33,4,21,48,46,28,30,28,66,52,18,24,47,42,60,41,46,37,27,19,38,40,43,25,33,31,34,36,20,39,7,50,43,18,13,26,8,33,36,36,31,79,62,23,24,46,44,17,34,34,67,72,40,21,44,39,34,14,13,23,3,46,13,22,7,31,3,5,1,10,10,45],\"y0\":\" \",\"yaxis\":\"y5\",\"type\":\"box\"},{\"alignmentgroup\":\"True\",\"boxpoints\":\"all\",\"hovertemplate\":\"BookingCount=%{y}\\u003cextra\\u003e\\u003c\\u002fextra\\u003e\",\"legendgroup\":\"\",\"marker\":{\"color\":\"#636efa\"},\"name\":\"\",\"notched\":false,\"offsetgroup\":\"\",\"orientation\":\"v\",\"showlegend\":false,\"x0\":\" \",\"xaxis\":\"x6\",\"y\":[35,46,42,44,62,35,56,44,42,52,65,42,42,45,89,4,1,46,36,18,2,18,37,45,95,98,43,22,43,29,31,51,33,80,88,40,53,104,79,36,53,4,35,44,39,45,39,46,58,51,51,12,68,44,49,55,60,71,56,36,30,42,36,25,24,50,26,2,8,37,15,19,18,14,59,94,73,56,48,51,46,36,30,70,61,82,30,52,95,75,29,47,32,43,58,14,64,103,76,55,36,63,102,62,68,74,54,33,66,70,57,57,50,45,71,3,12,53,22,31,57,84,92,58,71,49,32,36,53,60,25,44,70,42,71,77,68,43,24,18,2,44,23,50,28,68,43,53,69,53,71,65,39,42,43,64,30,26,48,61,51,53,1,42,11,62,52,51,83,56,69,49,46,24,23,55,28,24,33,52,28,36,26,24,46,6,39,33,22,27,11,10,4,7,4,11,3,4,4,2],\"y0\":\" \",\"yaxis\":\"y6\",\"type\":\"box\"},{\"alignmentgroup\":\"True\",\"boxpoints\":\"all\",\"hovertemplate\":\"BookingCount=%{y}\\u003cextra\\u003e\\u003c\\u002fextra\\u003e\",\"legendgroup\":\"\",\"marker\":{\"color\":\"#636efa\"},\"name\":\"\",\"notched\":false,\"offsetgroup\":\"\",\"orientation\":\"v\",\"showlegend\":false,\"x0\":\" \",\"xaxis\":\"x7\",\"y\":[12,130,21,26,74,17,38,32,32,75,12,24,48,15,16,23,58,14,36,36,49,46,77,48,18,31,84,78,54,42,72,80,95,24,38,52,158,27,55,20,24,24,34,18,4,1,26,36,2,64,3,20,56,1,1,12,49,49,6,46,1,1,1,28,48,27,38,22,39,45,42,7,21,50,94,63,15,62,91,60,36,54,79,23,14,37,24,13,27,14,16,34,1,85,49,58,60,47,85,75,84,78,89,150,143,93,126,79,137,122,71,109,132,120,104,120,55,145,97,73,78,82,142,80,75,91,89,104,151,73,111,117,81,56,1,62,92,59,5,4,81,2,28,64,4,74,16,65,123,99,26,39,67,112,85,46,44,85,95,24,38,50,36,8,26,22,62,45,65,9,3,5,1,32,38],\"y0\":\" \",\"yaxis\":\"y7\",\"type\":\"box\"},{\"alignmentgroup\":\"True\",\"boxpoints\":\"all\",\"hovertemplate\":\"BookingCount=%{y}\\u003cextra\\u003e\\u003c\\u002fextra\\u003e\",\"legendgroup\":\"\",\"marker\":{\"color\":\"#636efa\"},\"name\":\"\",\"notched\":false,\"offsetgroup\":\"\",\"orientation\":\"v\",\"showlegend\":false,\"x0\":\" \",\"xaxis\":\"x8\",\"y\":[44,23,49,76,89,34,79,94,72,42,52,42,44,63,45,39,49,68,31,53,56,47,42,40,32,29,38,23,31,20,14,35,9,13,33,29,14,48,64,52,44,43,32,15,39,11,4,39,24,8,10,1,53,24,2,14,42,2,20,67,3,3,93,23,10,4,65,45,16,23,14,60,20,15,33,52,49,55,47,24,69,45,45,28,74,86,135,81,31,114,76,42,15,58,93,76,33,75,60,47,89,98,67,1,1,63,141,3,52,130,10,31,7,146,168,119,159,73,158,113,176,78,162,122,144,71,151,193,114,111,96,165,105,151,67,153,187,173,214,112,215,185,204,153,172,96,110,61,198,38,88,101,17,16,11,9,22,6,8,25,12,3,5,4,19,8,19,28,21,25,7,40,16,19,1,15,11,19,10,9,8,12,5,11,4,3,14,10,6,3,2,21,5,6,2,1,3,16],\"y0\":\" \",\"yaxis\":\"y8\",\"type\":\"box\"},{\"alignmentgroup\":\"True\",\"boxpoints\":\"all\",\"hovertemplate\":\"BookingCount=%{y}\\u003cextra\\u003e\\u003c\\u002fextra\\u003e\",\"legendgroup\":\"\",\"marker\":{\"color\":\"#636efa\"},\"name\":\"\",\"notched\":false,\"offsetgroup\":\"\",\"orientation\":\"v\",\"showlegend\":false,\"x0\":\" \",\"xaxis\":\"x9\",\"y\":[5,18,14,8,6,1,18,7,7,30,10,4,14,6,11,6,9,4,11,40,29,12,18,11,11,31,16,11,27,6,19,11,1,9,8,14,13,19,13,16,1,20,1,4,9,1,29,25,44,13,12,27,66,37,17,18,53,36,13,32,51,20,35,8,12,14,48,12,26,6,33,32,9,23,23,32,36,38,13,17,25,38,16,33,45,48,30,24,31,36,54,25,27,61,49,35,7,20,28,16,7,1,25,1,13,19,30,22,14,4,27,38,10,22,41,53,37,23,21,23,33,9,21,19,18,5,25,20,17,8,13,4,2,20,13],\"y0\":\" \",\"yaxis\":\"y9\",\"type\":\"box\"},{\"alignmentgroup\":\"True\",\"boxpoints\":\"all\",\"hovertemplate\":\"BookingCount=%{y}\\u003cextra\\u003e\\u003c\\u002fextra\\u003e\",\"legendgroup\":\"\",\"marker\":{\"color\":\"#636efa\"},\"name\":\"\",\"notched\":false,\"offsetgroup\":\"\",\"orientation\":\"v\",\"showlegend\":false,\"x0\":\" \",\"xaxis\":\"x10\",\"y\":[1,2,1,1,1,1,1,1,1,1,1,2,1,1,1,1,1,1],\"y0\":\" \",\"yaxis\":\"y10\",\"type\":\"box\"}],                        {\"template\":{\"data\":{\"histogram2dcontour\":[{\"type\":\"histogram2dcontour\",\"colorbar\":{\"outlinewidth\":0,\"ticks\":\"\"},\"colorscale\":[[0.0,\"#0d0887\"],[0.1111111111111111,\"#46039f\"],[0.2222222222222222,\"#7201a8\"],[0.3333333333333333,\"#9c179e\"],[0.4444444444444444,\"#bd3786\"],[0.5555555555555556,\"#d8576b\"],[0.6666666666666666,\"#ed7953\"],[0.7777777777777778,\"#fb9f3a\"],[0.8888888888888888,\"#fdca26\"],[1.0,\"#f0f921\"]]}],\"choropleth\":[{\"type\":\"choropleth\",\"colorbar\":{\"outlinewidth\":0,\"ticks\":\"\"}}],\"histogram2d\":[{\"type\":\"histogram2d\",\"colorbar\":{\"outlinewidth\":0,\"ticks\":\"\"},\"colorscale\":[[0.0,\"#0d0887\"],[0.1111111111111111,\"#46039f\"],[0.2222222222222222,\"#7201a8\"],[0.3333333333333333,\"#9c179e\"],[0.4444444444444444,\"#bd3786\"],[0.5555555555555556,\"#d8576b\"],[0.6666666666666666,\"#ed7953\"],[0.7777777777777778,\"#fb9f3a\"],[0.8888888888888888,\"#fdca26\"],[1.0,\"#f0f921\"]]}],\"heatmap\":[{\"type\":\"heatmap\",\"colorbar\":{\"outlinewidth\":0,\"ticks\":\"\"},\"colorscale\":[[0.0,\"#0d0887\"],[0.1111111111111111,\"#46039f\"],[0.2222222222222222,\"#7201a8\"],[0.3333333333333333,\"#9c179e\"],[0.4444444444444444,\"#bd3786\"],[0.5555555555555556,\"#d8576b\"],[0.6666666666666666,\"#ed7953\"],[0.7777777777777778,\"#fb9f3a\"],[0.8888888888888888,\"#fdca26\"],[1.0,\"#f0f921\"]]}],\"heatmapgl\":[{\"type\":\"heatmapgl\",\"colorbar\":{\"outlinewidth\":0,\"ticks\":\"\"},\"colorscale\":[[0.0,\"#0d0887\"],[0.1111111111111111,\"#46039f\"],[0.2222222222222222,\"#7201a8\"],[0.3333333333333333,\"#9c179e\"],[0.4444444444444444,\"#bd3786\"],[0.5555555555555556,\"#d8576b\"],[0.6666666666666666,\"#ed7953\"],[0.7777777777777778,\"#fb9f3a\"],[0.8888888888888888,\"#fdca26\"],[1.0,\"#f0f921\"]]}],\"contourcarpet\":[{\"type\":\"contourcarpet\",\"colorbar\":{\"outlinewidth\":0,\"ticks\":\"\"}}],\"contour\":[{\"type\":\"contour\",\"colorbar\":{\"outlinewidth\":0,\"ticks\":\"\"},\"colorscale\":[[0.0,\"#0d0887\"],[0.1111111111111111,\"#46039f\"],[0.2222222222222222,\"#7201a8\"],[0.3333333333333333,\"#9c179e\"],[0.4444444444444444,\"#bd3786\"],[0.5555555555555556,\"#d8576b\"],[0.6666666666666666,\"#ed7953\"],[0.7777777777777778,\"#fb9f3a\"],[0.8888888888888888,\"#fdca26\"],[1.0,\"#f0f921\"]]}],\"surface\":[{\"type\":\"surface\",\"colorbar\":{\"outlinewidth\":0,\"ticks\":\"\"},\"colorscale\":[[0.0,\"#0d0887\"],[0.1111111111111111,\"#46039f\"],[0.2222222222222222,\"#7201a8\"],[0.3333333333333333,\"#9c179e\"],[0.4444444444444444,\"#bd3786\"],[0.5555555555555556,\"#d8576b\"],[0.6666666666666666,\"#ed7953\"],[0.7777777777777778,\"#fb9f3a\"],[0.8888888888888888,\"#fdca26\"],[1.0,\"#f0f921\"]]}],\"mesh3d\":[{\"type\":\"mesh3d\",\"colorbar\":{\"outlinewidth\":0,\"ticks\":\"\"}}],\"scatter\":[{\"fillpattern\":{\"fillmode\":\"overlay\",\"size\":10,\"solidity\":0.2},\"type\":\"scatter\"}],\"parcoords\":[{\"type\":\"parcoords\",\"line\":{\"colorbar\":{\"outlinewidth\":0,\"ticks\":\"\"}}}],\"scatterpolargl\":[{\"type\":\"scatterpolargl\",\"marker\":{\"colorbar\":{\"outlinewidth\":0,\"ticks\":\"\"}}}],\"bar\":[{\"error_x\":{\"color\":\"#2a3f5f\"},\"error_y\":{\"color\":\"#2a3f5f\"},\"marker\":{\"line\":{\"color\":\"#E5ECF6\",\"width\":0.5},\"pattern\":{\"fillmode\":\"overlay\",\"size\":10,\"solidity\":0.2}},\"type\":\"bar\"}],\"scattergeo\":[{\"type\":\"scattergeo\",\"marker\":{\"colorbar\":{\"outlinewidth\":0,\"ticks\":\"\"}}}],\"scatterpolar\":[{\"type\":\"scatterpolar\",\"marker\":{\"colorbar\":{\"outlinewidth\":0,\"ticks\":\"\"}}}],\"histogram\":[{\"marker\":{\"pattern\":{\"fillmode\":\"overlay\",\"size\":10,\"solidity\":0.2}},\"type\":\"histogram\"}],\"scattergl\":[{\"type\":\"scattergl\",\"marker\":{\"colorbar\":{\"outlinewidth\":0,\"ticks\":\"\"}}}],\"scatter3d\":[{\"type\":\"scatter3d\",\"line\":{\"colorbar\":{\"outlinewidth\":0,\"ticks\":\"\"}},\"marker\":{\"colorbar\":{\"outlinewidth\":0,\"ticks\":\"\"}}}],\"scattermapbox\":[{\"type\":\"scattermapbox\",\"marker\":{\"colorbar\":{\"outlinewidth\":0,\"ticks\":\"\"}}}],\"scatterternary\":[{\"type\":\"scatterternary\",\"marker\":{\"colorbar\":{\"outlinewidth\":0,\"ticks\":\"\"}}}],\"scattercarpet\":[{\"type\":\"scattercarpet\",\"marker\":{\"colorbar\":{\"outlinewidth\":0,\"ticks\":\"\"}}}],\"carpet\":[{\"aaxis\":{\"endlinecolor\":\"#2a3f5f\",\"gridcolor\":\"white\",\"linecolor\":\"white\",\"minorgridcolor\":\"white\",\"startlinecolor\":\"#2a3f5f\"},\"baxis\":{\"endlinecolor\":\"#2a3f5f\",\"gridcolor\":\"white\",\"linecolor\":\"white\",\"minorgridcolor\":\"white\",\"startlinecolor\":\"#2a3f5f\"},\"type\":\"carpet\"}],\"table\":[{\"cells\":{\"fill\":{\"color\":\"#EBF0F8\"},\"line\":{\"color\":\"white\"}},\"header\":{\"fill\":{\"color\":\"#C8D4E3\"},\"line\":{\"color\":\"white\"}},\"type\":\"table\"}],\"barpolar\":[{\"marker\":{\"line\":{\"color\":\"#E5ECF6\",\"width\":0.5},\"pattern\":{\"fillmode\":\"overlay\",\"size\":10,\"solidity\":0.2}},\"type\":\"barpolar\"}],\"pie\":[{\"automargin\":true,\"type\":\"pie\"}]},\"layout\":{\"autotypenumbers\":\"strict\",\"colorway\":[\"#636efa\",\"#EF553B\",\"#00cc96\",\"#ab63fa\",\"#FFA15A\",\"#19d3f3\",\"#FF6692\",\"#B6E880\",\"#FF97FF\",\"#FECB52\"],\"font\":{\"color\":\"#2a3f5f\"},\"hovermode\":\"closest\",\"hoverlabel\":{\"align\":\"left\"},\"paper_bgcolor\":\"white\",\"plot_bgcolor\":\"#E5ECF6\",\"polar\":{\"bgcolor\":\"#E5ECF6\",\"angularaxis\":{\"gridcolor\":\"white\",\"linecolor\":\"white\",\"ticks\":\"\"},\"radialaxis\":{\"gridcolor\":\"white\",\"linecolor\":\"white\",\"ticks\":\"\"}},\"ternary\":{\"bgcolor\":\"#E5ECF6\",\"aaxis\":{\"gridcolor\":\"white\",\"linecolor\":\"white\",\"ticks\":\"\"},\"baxis\":{\"gridcolor\":\"white\",\"linecolor\":\"white\",\"ticks\":\"\"},\"caxis\":{\"gridcolor\":\"white\",\"linecolor\":\"white\",\"ticks\":\"\"}},\"coloraxis\":{\"colorbar\":{\"outlinewidth\":0,\"ticks\":\"\"}},\"colorscale\":{\"sequential\":[[0.0,\"#0d0887\"],[0.1111111111111111,\"#46039f\"],[0.2222222222222222,\"#7201a8\"],[0.3333333333333333,\"#9c179e\"],[0.4444444444444444,\"#bd3786\"],[0.5555555555555556,\"#d8576b\"],[0.6666666666666666,\"#ed7953\"],[0.7777777777777778,\"#fb9f3a\"],[0.8888888888888888,\"#fdca26\"],[1.0,\"#f0f921\"]],\"sequentialminus\":[[0.0,\"#0d0887\"],[0.1111111111111111,\"#46039f\"],[0.2222222222222222,\"#7201a8\"],[0.3333333333333333,\"#9c179e\"],[0.4444444444444444,\"#bd3786\"],[0.5555555555555556,\"#d8576b\"],[0.6666666666666666,\"#ed7953\"],[0.7777777777777778,\"#fb9f3a\"],[0.8888888888888888,\"#fdca26\"],[1.0,\"#f0f921\"]],\"diverging\":[[0,\"#8e0152\"],[0.1,\"#c51b7d\"],[0.2,\"#de77ae\"],[0.3,\"#f1b6da\"],[0.4,\"#fde0ef\"],[0.5,\"#f7f7f7\"],[0.6,\"#e6f5d0\"],[0.7,\"#b8e186\"],[0.8,\"#7fbc41\"],[0.9,\"#4d9221\"],[1,\"#276419\"]]},\"xaxis\":{\"gridcolor\":\"white\",\"linecolor\":\"white\",\"ticks\":\"\",\"title\":{\"standoff\":15},\"zerolinecolor\":\"white\",\"automargin\":true,\"zerolinewidth\":2},\"yaxis\":{\"gridcolor\":\"white\",\"linecolor\":\"white\",\"ticks\":\"\",\"title\":{\"standoff\":15},\"zerolinecolor\":\"white\",\"automargin\":true,\"zerolinewidth\":2},\"scene\":{\"xaxis\":{\"backgroundcolor\":\"#E5ECF6\",\"gridcolor\":\"white\",\"linecolor\":\"white\",\"showbackground\":true,\"ticks\":\"\",\"zerolinecolor\":\"white\",\"gridwidth\":2},\"yaxis\":{\"backgroundcolor\":\"#E5ECF6\",\"gridcolor\":\"white\",\"linecolor\":\"white\",\"showbackground\":true,\"ticks\":\"\",\"zerolinecolor\":\"white\",\"gridwidth\":2},\"zaxis\":{\"backgroundcolor\":\"#E5ECF6\",\"gridcolor\":\"white\",\"linecolor\":\"white\",\"showbackground\":true,\"ticks\":\"\",\"zerolinecolor\":\"white\",\"gridwidth\":2}},\"shapedefaults\":{\"line\":{\"color\":\"#2a3f5f\"}},\"annotationdefaults\":{\"arrowcolor\":\"#2a3f5f\",\"arrowhead\":0,\"arrowwidth\":1},\"geo\":{\"bgcolor\":\"white\",\"landcolor\":\"#E5ECF6\",\"subunitcolor\":\"white\",\"showland\":true,\"showlakes\":true,\"lakecolor\":\"white\"},\"title\":{\"x\":0.05},\"mapbox\":{\"style\":\"light\"}}},\"xaxis\":{\"anchor\":\"y\",\"domain\":[0.0,0.45]},\"yaxis\":{\"anchor\":\"x\",\"domain\":[0.88,1.0]},\"xaxis2\":{\"anchor\":\"y2\",\"domain\":[0.55,1.0]},\"yaxis2\":{\"anchor\":\"x2\",\"domain\":[0.88,1.0]},\"xaxis3\":{\"anchor\":\"y3\",\"domain\":[0.0,0.45]},\"yaxis3\":{\"anchor\":\"x3\",\"domain\":[0.66,0.78]},\"xaxis4\":{\"anchor\":\"y4\",\"domain\":[0.55,1.0]},\"yaxis4\":{\"anchor\":\"x4\",\"domain\":[0.66,0.78]},\"xaxis5\":{\"anchor\":\"y5\",\"domain\":[0.0,0.45]},\"yaxis5\":{\"anchor\":\"x5\",\"domain\":[0.44,0.56]},\"xaxis6\":{\"anchor\":\"y6\",\"domain\":[0.55,1.0]},\"yaxis6\":{\"anchor\":\"x6\",\"domain\":[0.44,0.56]},\"xaxis7\":{\"anchor\":\"y7\",\"domain\":[0.0,0.45]},\"yaxis7\":{\"anchor\":\"x7\",\"domain\":[0.22,0.33999999999999997]},\"xaxis8\":{\"anchor\":\"y8\",\"domain\":[0.55,1.0]},\"yaxis8\":{\"anchor\":\"x8\",\"domain\":[0.22,0.33999999999999997]},\"xaxis9\":{\"anchor\":\"y9\",\"domain\":[0.0,0.45]},\"yaxis9\":{\"anchor\":\"x9\",\"domain\":[0.0,0.12]},\"xaxis10\":{\"anchor\":\"y10\",\"domain\":[0.55,1.0]},\"yaxis10\":{\"anchor\":\"x10\",\"domain\":[0.0,0.12]},\"annotations\":[{\"font\":{\"size\":16},\"showarrow\":false,\"text\":\"Hotel 001\",\"x\":0.225,\"xanchor\":\"center\",\"xref\":\"paper\",\"y\":1.0,\"yanchor\":\"bottom\",\"yref\":\"paper\"},{\"font\":{\"size\":16},\"showarrow\":false,\"text\":\"Hotel 002\",\"x\":0.775,\"xanchor\":\"center\",\"xref\":\"paper\",\"y\":1.0,\"yanchor\":\"bottom\",\"yref\":\"paper\"},{\"font\":{\"size\":16},\"showarrow\":false,\"text\":\"Hotel 003\",\"x\":0.225,\"xanchor\":\"center\",\"xref\":\"paper\",\"y\":0.78,\"yanchor\":\"bottom\",\"yref\":\"paper\"},{\"font\":{\"size\":16},\"showarrow\":false,\"text\":\"Hotel 004\",\"x\":0.775,\"xanchor\":\"center\",\"xref\":\"paper\",\"y\":0.78,\"yanchor\":\"bottom\",\"yref\":\"paper\"},{\"font\":{\"size\":16},\"showarrow\":false,\"text\":\"Hotel 005\",\"x\":0.225,\"xanchor\":\"center\",\"xref\":\"paper\",\"y\":0.56,\"yanchor\":\"bottom\",\"yref\":\"paper\"},{\"font\":{\"size\":16},\"showarrow\":false,\"text\":\"Hotel 006\",\"x\":0.775,\"xanchor\":\"center\",\"xref\":\"paper\",\"y\":0.56,\"yanchor\":\"bottom\",\"yref\":\"paper\"},{\"font\":{\"size\":16},\"showarrow\":false,\"text\":\"Hotel 007\",\"x\":0.225,\"xanchor\":\"center\",\"xref\":\"paper\",\"y\":0.33999999999999997,\"yanchor\":\"bottom\",\"yref\":\"paper\"},{\"font\":{\"size\":16},\"showarrow\":false,\"text\":\"Hotel 008\",\"x\":0.775,\"xanchor\":\"center\",\"xref\":\"paper\",\"y\":0.33999999999999997,\"yanchor\":\"bottom\",\"yref\":\"paper\"},{\"font\":{\"size\":16},\"showarrow\":false,\"text\":\"Hotel 009\",\"x\":0.225,\"xanchor\":\"center\",\"xref\":\"paper\",\"y\":0.12,\"yanchor\":\"bottom\",\"yref\":\"paper\"},{\"font\":{\"size\":16},\"showarrow\":false,\"text\":\"Hotel 010\",\"x\":0.775,\"xanchor\":\"center\",\"xref\":\"paper\",\"y\":0.12,\"yanchor\":\"bottom\",\"yref\":\"paper\"}],\"title\":{\"text\":\"Distril\"},\"height\":800,\"width\":1000,\"showlegend\":false},                        {\"responsive\": true}                    ).then(function(){\n",
       "                            \n",
       "var gd = document.getElementById('a988da7a-da0e-4cc9-8a09-29b1f5f2f830');\n",
       "var x = new MutationObserver(function (mutations, observer) {{\n",
       "        var display = window.getComputedStyle(gd).display;\n",
       "        if (!display || display === 'none') {{\n",
       "            console.log([gd, 'removed!']);\n",
       "            Plotly.purge(gd);\n",
       "            observer.disconnect();\n",
       "        }}\n",
       "}});\n",
       "\n",
       "// Listen for the removal of the full notebook cells\n",
       "var notebookContainer = gd.closest('#notebook-container');\n",
       "if (notebookContainer) {{\n",
       "    x.observe(notebookContainer, {childList: true});\n",
       "}}\n",
       "\n",
       "// Listen for the clearing of the current output cell\n",
       "var outputEl = gd.closest('.output');\n",
       "if (outputEl) {{\n",
       "    x.observe(outputEl, {childList: true});\n",
       "}}\n",
       "\n",
       "                        })                };                });            </script>        </div>"
      ]
     },
     "metadata": {},
     "output_type": "display_data"
    }
   ],
   "source": [
    "\n",
    "import plotly.express as px\n",
    "\n",
    "hotel_ids = weekly_demand['HotelId'].unique()\n",
    "rows = (len(hotel_ids) + 1) // 2  # Calculate the number of rows needed\n",
    "fig = make_subplots(rows=rows, cols=2, subplot_titles=[f'Hotel {hotel_id}' for hotel_id in hotel_ids])\n",
    "for idx, hotel_id in enumerate(hotel_ids):\n",
    "    hotel_data = weekly_demand[weekly_demand['HotelId'] == hotel_id]    \n",
    "    box_plot = px.box(hotel_data, y=\"BookingCount\", points='all')\n",
    "    for trace in box_plot['data']:\n",
    "        fig.add_trace(trace, row=(idx // 2) + 1, col=(idx % 2) + 1)\n",
    "fig.update_layout(height=800, width=1000, showlegend=False, title_text=\"Distril\")\n",
    "fig.show()\n"
   ]
  },
  {
   "cell_type": "markdown",
   "metadata": {},
   "source": [
    "The comprensive set of boxplot indicates that in each hotel there weeks that we've exceptional demand i.e. in Summer for each Hotel or it can be anomalies \n",
    "to be detected. We use an algorithm that comes a well known Italian university but at the moment let's understand seasonal decomposition. We pick up HotelId 008, since looks one that have most anomalies. "
   ]
  },
  {
   "cell_type": "markdown",
   "metadata": {},
   "source": [
    "## Seasonal Decomposition\n",
    "Seasonal decompositon will fundamental for our algorithm. In this [decomposition](https://math.unm.edu/~lil/Stat581/6-decomposition.pdf) a time series is split on three parts:\n",
    "1. Trend: Long term pattern present in the series both increase or decrease.\n",
    "2. Seasonal: Repeating cyclic pattern in the series where the cycle is specified in weeks, months, years.\n",
    "3. Residual: Basically noise. It is the remaining part of the data after removing the trend and seasonal components.\n",
    "\n",
    "We want to understand whether each time series is additive or multiplicative. To do this, we can use seasonal_decompose, which provides us with three separate components: trend, seasonality, and residual. If the seasonality component changes proportionally with the trend, we classify the time series as multiplicative. Otherwise, if the seasonality remains constant regardless of the trend, it is considered additive.\n",
    "\n",
    "In our context, a hotel that experiences a fixed summer peak of 20 additional rooms fits an additive model. On the other hand, a hotel that sees a 20% increase in bookings every summer would better fit a multiplicative time series.\n",
    "                                      - "
   ]
  },
  {
   "cell_type": "code",
   "execution_count": 100,
   "metadata": {},
   "outputs": [],
   "source": [
    "import plotly.graph_objs as go\n",
    "import statsmodels.api as sm\n",
    "hotel_data = weekly_demand[weekly_demand['HotelId'] == '008']    \n"
   ]
  },
  {
   "cell_type": "code",
   "execution_count": 95,
   "metadata": {},
   "outputs": [
    {
     "data": {
      "image/png": "[encoded data removed]",
      "text/plain": [
       "<Figure size 640x480 with 4 Axes>"
      ]
     },
     "metadata": {},
     "output_type": "display_data"
    }
   ],
   "source": [
    "res = sm.tsa.seasonal_decompose(hotel_data['BookingCount'].interpolate(),\n",
    "                                period=52,\n",
    "                                model='multiplicative')\n",
    "resplot = res.plot()"
   ]
  },
  {
   "cell_type": "code",
   "execution_count": 96,
   "metadata": {},
   "outputs": [],
   "source": [
    "res.resid[np.isfinite(res.resid) == False] = 0"
   ]
  },
  {
   "cell_type": "code",
   "execution_count": 97,
   "metadata": {},
   "outputs": [],
   "source": [
    "res_resid = sm.tsa.seasonal_decompose(res.resid.interpolate(),\n",
    "                                period=52,\n",
    "                                model='additive')"
   ]
  },
  {
   "cell_type": "code",
   "execution_count": 98,
   "metadata": {},
   "outputs": [
    {
     "data": {
      "image/png": "[encoded data removed]",
      "text/plain": [
       "<Figure size 640x480 with 4 Axes>"
      ]
     },
     "metadata": {},
     "output_type": "display_data"
    }
   ],
   "source": [
    "resplot = res_resid.plot()"
   ]
  },
  {
   "cell_type": "markdown",
   "metadata": {},
   "source": [
    "## Anomaly detection.\n",
    "An anomaly in a time series refers to a data point or sequence of data points that significantly deviates from the expected patterns or trends typically observed in the data. These anomalies can manifest in various ways, such as abrupt changes in values, an increase in NULL values, missing data segments, or other irregular patterns that deviate from normal fluctuations. As discussed in [Anomaly Detection in Time Series: A Comprehensive Evaluation](https://www.vldb.org/pvldb/vol15/p1779-wenig.pdf), such anomalies can indicate significant events or issues within the system being analyzed. In our specific context, an anomaly might suggest that during certain periods, the demand exceeded the hotel's operational capacity.\n",
    "Numerous techniques for anomaly detection have been evaluated in the literature. During our research, we identified an effective algorithm that can be applied to the residual component of a seasonal-trend decomposition, utilizing the Isolation Forest method. This approach is both efficient and fast. We propose this algorithm for anomaly detection at each hotel level, as inspired by the work on [Unsupervised Anomaly Detection on Server Metrics](https://webthesis.biblio.polito.it/21240/1/tesi.pdf)."
   ]
  },
  {
   "cell_type": "markdown",
   "metadata": {},
   "source": [
    "#### Anomaly detection with Isolation Forest\n",
    "The steps of the algorithm are:\n",
    "1. Normalization of the time series\n",
    "2. Seasonal trend decomposition of the time series to extract the residual.\n",
    "3. Applying ISOLATION FOREST to the residual\n",
    "4. Remove points not considered anomalous by the Isolation Forest\n",
    "5. Apply DBSCAN to the points outside the confidence region to obtain clusters of points close to each other\n",
    "6. Points that do not belong to any cluster are the anomalies\n",
    "\n",
    "[Isolation Forest](https://ieeexplore.ieee.org/stamp/stamp.jsp?tp=&arnumber=8888179) algorithm directly seeks anomalous points based on the contamination parameter. First, the algorithm builds a forest of random decision trees. After training, it assigns an anomaly score to each data point. At this stage, we don't know whether a point is an inlier or outlier. The contamination parameter serves as a threshold, determining how many points are classified as outliers by converting these raw scores into inlier or outlier labels."
   ]
  },
  {
   "cell_type": "code",
   "execution_count": 83,
   "metadata": {
    "scrolled": true
   },
   "outputs": [
    {
     "name": "stdout",
     "output_type": "stream",
     "text": [
      "Requirement already satisfied: matplot in /home/jozoppi/anaconda3/lib/python3.12/site-packages (0.1.9)\n",
      "Requirement already satisfied: statsmodels in /home/jozoppi/anaconda3/lib/python3.12/site-packages (0.14.2)\n",
      "Requirement already satisfied: numpy in /home/jozoppi/anaconda3/lib/python3.12/site-packages (1.26.4)\n",
      "Requirement already satisfied: pyloco>=0.0.134 in /home/jozoppi/anaconda3/lib/python3.12/site-packages (from matplot) (0.0.139)\n",
      "Requirement already satisfied: matplotlib>=3.1.1 in /home/jozoppi/anaconda3/lib/python3.12/site-packages (from matplot) (3.7.5)\n",
      "Requirement already satisfied: scipy!=1.9.2,>=1.8 in /home/jozoppi/anaconda3/lib/python3.12/site-packages (from statsmodels) (1.11.4)\n",
      "Requirement already satisfied: pandas!=2.1.0,>=1.4 in /home/jozoppi/anaconda3/lib/python3.12/site-packages (from statsmodels) (1.5.3)\n",
      "Requirement already satisfied: patsy>=0.5.6 in /home/jozoppi/anaconda3/lib/python3.12/site-packages (from statsmodels) (0.5.6)\n",
      "Requirement already satisfied: packaging>=21.3 in /home/jozoppi/anaconda3/lib/python3.12/site-packages (from statsmodels) (23.2)\n",
      "Requirement already satisfied: contourpy>=1.0.1 in /home/jozoppi/anaconda3/lib/python3.12/site-packages (from matplotlib>=3.1.1->matplot) (1.2.0)\n",
      "Requirement already satisfied: cycler>=0.10 in /home/jozoppi/anaconda3/lib/python3.12/site-packages (from matplotlib>=3.1.1->matplot) (0.11.0)\n",
      "Requirement already satisfied: fonttools>=4.22.0 in /home/jozoppi/anaconda3/lib/python3.12/site-packages (from matplotlib>=3.1.1->matplot) (4.51.0)\n",
      "Requirement already satisfied: kiwisolver>=1.0.1 in /home/jozoppi/anaconda3/lib/python3.12/site-packages (from matplotlib>=3.1.1->matplot) (1.4.4)\n",
      "Requirement already satisfied: pillow>=6.2.0 in /home/jozoppi/anaconda3/lib/python3.12/site-packages (from matplotlib>=3.1.1->matplot) (10.3.0)\n",
      "Requirement already satisfied: pyparsing>=2.3.1 in /home/jozoppi/anaconda3/lib/python3.12/site-packages (from matplotlib>=3.1.1->matplot) (3.0.9)\n",
      "Requirement already satisfied: python-dateutil>=2.7 in /home/jozoppi/anaconda3/lib/python3.12/site-packages (from matplotlib>=3.1.1->matplot) (2.9.0.post0)\n",
      "Requirement already satisfied: pytz>=2020.1 in /home/jozoppi/anaconda3/lib/python3.12/site-packages (from pandas!=2.1.0,>=1.4->statsmodels) (2024.1)\n",
      "Requirement already satisfied: six in /home/jozoppi/anaconda3/lib/python3.12/site-packages (from patsy>=0.5.6->statsmodels) (1.16.0)\n",
      "Requirement already satisfied: ushlex in /home/jozoppi/anaconda3/lib/python3.12/site-packages (from pyloco>=0.0.134->matplot) (0.99.1)\n",
      "Requirement already satisfied: websocket-client in /home/jozoppi/anaconda3/lib/python3.12/site-packages (from pyloco>=0.0.134->matplot) (1.8.0)\n",
      "Requirement already satisfied: twine in /home/jozoppi/anaconda3/lib/python3.12/site-packages (from pyloco>=0.0.134->matplot) (5.1.1)\n",
      "Requirement already satisfied: typing in /home/jozoppi/anaconda3/lib/python3.12/site-packages (from pyloco>=0.0.134->matplot) (3.7.4.3)\n",
      "Requirement already satisfied: SimpleWebSocketServer in /home/jozoppi/anaconda3/lib/python3.12/site-packages (from pyloco>=0.0.134->matplot) (0.1.2)\n",
      "Requirement already satisfied: pkginfo>=1.8.1 in /home/jozoppi/anaconda3/lib/python3.12/site-packages (from twine->pyloco>=0.0.134->matplot) (1.10.0)\n",
      "Requirement already satisfied: readme-renderer>=35.0 in /home/jozoppi/anaconda3/lib/python3.12/site-packages (from twine->pyloco>=0.0.134->matplot) (44.0)\n",
      "Requirement already satisfied: requests>=2.20 in /home/jozoppi/anaconda3/lib/python3.12/site-packages (from twine->pyloco>=0.0.134->matplot) (2.32.2)\n",
      "Requirement already satisfied: requests-toolbelt!=0.9.0,>=0.8.0 in /home/jozoppi/anaconda3/lib/python3.12/site-packages (from twine->pyloco>=0.0.134->matplot) (1.0.0)\n",
      "Requirement already satisfied: urllib3>=1.26.0 in /home/jozoppi/anaconda3/lib/python3.12/site-packages (from twine->pyloco>=0.0.134->matplot) (2.2.2)\n",
      "Requirement already satisfied: importlib-metadata>=3.6 in /home/jozoppi/anaconda3/lib/python3.12/site-packages (from twine->pyloco>=0.0.134->matplot) (7.0.1)\n",
      "Requirement already satisfied: keyring>=15.1 in /home/jozoppi/anaconda3/lib/python3.12/site-packages (from twine->pyloco>=0.0.134->matplot) (24.3.1)\n",
      "Requirement already satisfied: rfc3986>=1.4.0 in /home/jozoppi/anaconda3/lib/python3.12/site-packages (from twine->pyloco>=0.0.134->matplot) (2.0.0)\n",
      "Requirement already satisfied: rich>=12.0.0 in /home/jozoppi/anaconda3/lib/python3.12/site-packages (from twine->pyloco>=0.0.134->matplot) (13.3.5)\n",
      "Requirement already satisfied: zipp>=0.5 in /home/jozoppi/anaconda3/lib/python3.12/site-packages (from importlib-metadata>=3.6->twine->pyloco>=0.0.134->matplot) (3.17.0)\n",
      "Requirement already satisfied: jaraco.classes in /home/jozoppi/anaconda3/lib/python3.12/site-packages (from keyring>=15.1->twine->pyloco>=0.0.134->matplot) (3.2.1)\n",
      "Requirement already satisfied: SecretStorage>=3.2 in /home/jozoppi/anaconda3/lib/python3.12/site-packages (from keyring>=15.1->twine->pyloco>=0.0.134->matplot) (3.3.1)\n",
      "Requirement already satisfied: jeepney>=0.4.2 in /home/jozoppi/anaconda3/lib/python3.12/site-packages (from keyring>=15.1->twine->pyloco>=0.0.134->matplot) (0.7.1)\n",
      "Requirement already satisfied: nh3>=0.2.14 in /home/jozoppi/anaconda3/lib/python3.12/site-packages (from readme-renderer>=35.0->twine->pyloco>=0.0.134->matplot) (0.2.18)\n",
      "Requirement already satisfied: docutils>=0.21.2 in /home/jozoppi/anaconda3/lib/python3.12/site-packages (from readme-renderer>=35.0->twine->pyloco>=0.0.134->matplot) (0.21.2)\n",
      "Requirement already satisfied: Pygments>=2.5.1 in /home/jozoppi/anaconda3/lib/python3.12/site-packages (from readme-renderer>=35.0->twine->pyloco>=0.0.134->matplot) (2.15.1)\n",
      "Requirement already satisfied: charset-normalizer<4,>=2 in /home/jozoppi/anaconda3/lib/python3.12/site-packages (from requests>=2.20->twine->pyloco>=0.0.134->matplot) (2.0.4)\n",
      "Requirement already satisfied: idna<4,>=2.5 in /home/jozoppi/anaconda3/lib/python3.12/site-packages (from requests>=2.20->twine->pyloco>=0.0.134->matplot) (3.7)\n",
      "Requirement already satisfied: certifi>=2017.4.17 in /home/jozoppi/anaconda3/lib/python3.12/site-packages (from requests>=2.20->twine->pyloco>=0.0.134->matplot) (2024.8.30)\n",
      "Requirement already satisfied: markdown-it-py<3.0.0,>=2.2.0 in /home/jozoppi/anaconda3/lib/python3.12/site-packages (from rich>=12.0.0->twine->pyloco>=0.0.134->matplot) (2.2.0)\n",
      "Requirement already satisfied: mdurl~=0.1 in /home/jozoppi/anaconda3/lib/python3.12/site-packages (from markdown-it-py<3.0.0,>=2.2.0->rich>=12.0.0->twine->pyloco>=0.0.134->matplot) (0.1.0)\n",
      "Requirement already satisfied: cryptography>=2.0 in /home/jozoppi/anaconda3/lib/python3.12/site-packages (from SecretStorage>=3.2->keyring>=15.1->twine->pyloco>=0.0.134->matplot) (42.0.5)\n",
      "Requirement already satisfied: more-itertools in /home/jozoppi/anaconda3/lib/python3.12/site-packages (from jaraco.classes->keyring>=15.1->twine->pyloco>=0.0.134->matplot) (10.1.0)\n",
      "Requirement already satisfied: cffi>=1.12 in /home/jozoppi/anaconda3/lib/python3.12/site-packages (from cryptography>=2.0->SecretStorage>=3.2->keyring>=15.1->twine->pyloco>=0.0.134->matplot) (1.16.0)\n",
      "Requirement already satisfied: pycparser in /home/jozoppi/anaconda3/lib/python3.12/site-packages (from cffi>=1.12->cryptography>=2.0->SecretStorage>=3.2->keyring>=15.1->twine->pyloco>=0.0.134->matplot) (2.21)\n"
     ]
    }
   ],
   "source": [
    "!pip install matplot statsmodels numpy"
   ]
  },
  {
   "cell_type": "markdown",
   "metadata": {},
   "source": [
    "### Normalization of time series\n",
    "We pick up Hotel08 since from the boxplot has more parameters above"
   ]
  },
  {
   "cell_type": "markdown",
   "metadata": {},
   "source": [
    "### Seasonal-Trend decomposition using LOESS"
   ]
  },
  {
   "cell_type": "code",
   "execution_count": null,
   "metadata": {},
   "outputs": [],
   "source": [
    "import numpy as np\n",
    "import pandas as pd\n",
    "import matplotlib.pyplot as plt\n",
    "from statsmodels.tsa.seasonal import STL\n",
    "\n",
    "# Apply STL decomposition\n",
    "stl = STL(df['Value'], seasonal=13)\n",
    "result = stl.fit()\n",
    "\n",
    "# Extract the residual\n",
    "residual = result.resid\n",
    "\n",
    "# Plot the decomposition results\n",
    "result.plot()\n",
    "plt.show()\n",
    "\n"
   ]
  },
  {
   "cell_type": "code",
   "execution_count": null,
   "metadata": {},
   "outputs": [],
   "source": [
    "# Plot the decomposition results\n",
    "result.plot()\n",
    "plt.show()\n",
    "\n",
    "# Plot residual component\n",
    "plt.figure()\n",
    "plt.plot(residual)\n",
    "plt.title(\"Residual Component\")\n",
    "plt.show()\n"
   ]
  },
  {
   "cell_type": "code",
   "execution_count": null,
   "metadata": {},
   "outputs": [],
   "source": [
    "iso_forest = IsolationForest(contamination=0.05)  # Adjust contamination as needed\n",
    "df['anomaly_score'] = iso_forest.fit_predict(residual.values.reshape(-1, 1)]\n",
    "df['is_anomaly'] = df['anomaly_score'] == -1\n",
    "plt.figure(figsize=(10, 6))\n",
    "plt.plot(df.index, df['Value'], label='Time Series')\n",
    "plt.scatter(df.index[df['is_anomaly']], df['Value'][df['is_anomaly']], color='red', label='Anomalies')\n",
    "plt.title('Time Series with Anomalies Detected by Isolation Forest')\n",
    "plt.legend()\n",
    "plt.show()\n",
    "# Plot the residual with anomalies marked\n",
    "plt.figure(figsize=(10, 6))\n",
    "plt.plot(df.index, residual, label='Residual')\n",
    "plt.scatter(df.index[df['is_anomaly']], residual[df['is_anomaly']], color='red', label='Anomalies')\n",
    "plt.title('Residual with Anomalies Detected by Isolation Forest')\n",
    "plt.legend()\n",
    "plt.show()"
   ]
  },
  {
   "cell_type": "code",
   "execution_count": null,
   "metadata": {},
   "outputs": [],
   "source": [
    "Normalization is a rescaling of the data from the original range so that all values are within the range of 0 and 1.\n",
    "Normalization can be useful, and even required in some machine learning algorithms when your time series data has input values with differing scales.It may be required for algorithms, like k-Nearest neighbors, which uses distance calculations and Linear Regression and Artificial Neural Networks that weight input values.\n",
    "Normalization requires that you know or are able to accurately estimate the minimum and maximum observable values. You may be able to estimate these values from your available data. If your time series is trending up or down, estimating these expected values may be difficult and normalization may not be the best method to use on your problem.\n",
    "\n",
    "A value is normalized as follows:\n",
    "y = (x - min) / (max - min)\n",
    "\n",
    "Where the minimum and maximum values pertain to the value x being normalized.\n",
    "\n",
    "For example, for the temperature data, we could guesstimate the min and max observable values as 30 and -10, which are greatly over and under-estimated. We can then normalize any value like 18.8 as follows:\n",
    "y = (x - min) / (max - min)\n",
    "y = (18.8 - -10) / (30 - -10)\n",
    "y = 28.8 / 40\n",
    "y = 0.72\n",
    "\n",
    "You can see that if an x value is provided that is outside the bounds of the minimum and maximum values, that the resulting value will not be in the range of 0 and 1. You could check for these observations prior to making predictions and either remove them from the dataset or limit them to the pre-defined maximum or minimum values.\n",
    "\n",
    "You can normalize your dataset using the scikit-learn object MinMaxScaler.\n",
    "\n",
    "Good practice usage with the MinMaxScaler and other rescaling techniques is as follows:\n",
    "\n",
    "    Fit the scaler using available training data. For normalization, this means the training data will be used to estimate the minimum and maximum observable values. This is done by calling the fit() function,\n",
    "    Apply the scale to training data. This means you can use the normalized data to train your model. This is done by calling the transform() function\n",
    "    Apply the scale to data going forward. This means you can prepare new data in the future on which you want to make predictions.\n",
    "\n",
    "If needed, the transform can be inverted. This is useful for converting predictions back into their original scale for reporting or plotting. This can be done by calling the inverse_transform() function.\n",
    "\n",
    "Below is an example of normalizing the Minimum Daily Temperatures dataset.\n",
    "\n",
    "The scaler requires data to be provided as a matrix of rows and columns. The loaded time series data is loaded as a Pandas Series. It must then be reshaped into a matrix of one column with 3,650 rows.\n",
    "\n",
    "The reshaped dataset is then used to fit the scaler, the dataset is normalized, then the normalization transform is inverted to show the original values again.\n",
    "# Normalize time series data\n",
    "from pandas import read_csv\n",
    "from sklearn.preprocessing import MinMaxScaler\n",
    "# load the dataset and print the first 5 rows\n",
    "series = read_csv('daily-minimum-temperatures-in-me.csv', header=0, index_col=0)\n",
    "print(series.head())\n",
    "# prepare data for normalization\n",
    "values = series.values\n",
    "values = values.reshape((len(values), 1))\n",
    "# train the normalization\n",
    "scaler = MinMaxScaler(feature_range=(0, 1))\n",
    "scaler = scaler.fit(values)\n",
    "print('Min: %f, Max: %f' % (scaler.data_min_, scaler.data_max_))\n",
    "# normalize the dataset and print the first 5 rows\n",
    "normalized = scaler.transform(values)\n",
    "for i in range(5):\n",
    " print(normalized[i])\n",
    "# inverse transform and print the first 5 rows\n",
    "inversed = scaler.inverse_transform(normalized)\n",
    "for i in range(5):\n",
    " print(inversed[i])\n",
    "\n",
    "Running the example prints the first 5 rows from the loaded dataset, shows the same 5 values in their normalized form, then the values back in their original scale using the inverse transform.\n",
    "\n",
    "We can also see that the minimum and maximum values of the dataset are 0 and 26.3 respectively.\n",
    "Date\n",
    "1981-01-01 20.7\n",
    "1981-01-02 17.9\n",
    "1981-01-03 18.8\n",
    "1981-01-04 14.6\n",
    "1981-01-05 15.8\n",
    "Name: Temp, dtype: float64\n",
    "Min: 0.000000, Max: 26.300000\n",
    "[ 0.78707224]\n",
    "[ 0.68060837]\n",
    "[ 0.7148289]\n",
    "[ 0.55513308]\n",
    "[ 0.60076046]\n",
    "[ 20.7]\n",
    "[ 17.9]\n",
    "[ 18.8]\n",
    "[ 14.6]\n",
    "[ 15.8]\n",
    "\n",
    "There is another type of rescaling that is more robust to new values being outside the range of expected values; this is called Standardization. We will look at that next."
   ]
  },
  {
   "cell_type": "code",
   "execution_count": null,
   "metadata": {},
   "outputs": [],
   "source": [
    " STL uses LOESS (locally estimated scatterplot smoothing) to extract smooths estimates of the three components. The key inputs into STL are:\n",
    "\n",
    "    season - The length of the seasonal smoother. Must be odd.\n",
    "\n",
    "    trend - The length of the trend smoother, usually around 150% of season. Must be odd and larger than season.\n",
    "\n",
    "    low_pass - The length of the low-pass estimation window, usually the smallest odd number larger than the periodicity of the data.\n"
   ]
  },
  {
   "cell_type": "code",
   "execution_count": null,
   "metadata": {},
   "outputs": [],
   "source": [
    "import matplotlib.pyplot as plt\n",
    "import pandas as pd\n",
    "import seaborn as sns\n",
    "from pandas.plotting import register_matplotlib_converters\n",
    "\n",
    "register_matplotlib_converters()\n",
    "sns.set_style(\"darkgrid\")"
   ]
  },
  {
   "cell_type": "code",
   "execution_count": null,
   "metadata": {},
   "outputs": [],
   "source": [
    "Computing STL and ploting"
   ]
  },
  {
   "cell_type": "code",
   "execution_count": null,
   "metadata": {},
   "outputs": [],
   "source": [
    "mod = STL(y, period=period, seasonal=seasonal)\n",
    "%timeit mod.fit()\n",
    "res = mod.fit()\n",
    "fig = res.plot(observed=False, resid=False)\n",
    "# Extract the residual\n",
    "residual = result.resid\n",
    "\n",
    "# Plot the decomposition results\n",
    "result.plot()\n",
    "plt.show()\n",
    "\n",
    "# Plot residual component\n",
    "plt.figure()\n",
    "plt.plot(residual)\n",
    "plt.title(\"Residual Component\")\n",
    "plt.show()\n"
   ]
  },
  {
   "cell_type": "code",
   "execution_count": null,
   "metadata": {},
   "outputs": [],
   "source": [
    "import pandas as pd\n",
    "import numpy as np\n",
    "from prophet import Prophet\n",
    "from statsmodels.tsa.statespace.sarimax import SARIMAX\n",
    "from sklearn.metrics import mean_absolute_error, mean_squared_error\n",
    "import warnings\n",
    "\n",
    "warnings.filterwarnings(\"ignore\")\n",
    "\n",
    "\n",
    "# Aggregate the data to get weekly demand\n",
    "hb_dataset['Week'] = hb_dataset['Arrival'].dt.to_period('W').apply(lambda r: r.start_time)\n",
    "weekly_demand = hb_dataset.groupby('Week').size().reset_index(name='Demand')\n",
    "weekly_demand.head()\n",
    "\n",
    "\n"
   ]
  },
  {
   "cell_type": "code",
   "execution_count": null,
   "metadata": {},
   "outputs": [],
   "source": [
    "\n",
    "# Prepare the data for Prophet\n",
    "weekly_demand_prophet = weekly_demand.rename(columns={'Week': 'ds', 'Demand': 'y'})\n",
    "\n",
    "# Fit Prophet model\n",
    "prophet_model = Prophet()\n",
    "prophet_model.fit(weekly_demand_prophet)\n",
    "\n",
    "# Make a future dataframe for Prophet\n",
    "future_prophet = prophet_model.make_future_dataframe(periods=52, freq='W')\n",
    "forecast_prophet = prophet_model.predict(future_prophet)\n",
    "\n"
   ]
  },
  {
   "cell_type": "code",
   "execution_count": null,
   "metadata": {},
   "outputs": [],
   "source": [
    "weekly_demand_prophet.head()"
   ]
  },
  {
   "cell_type": "code",
   "execution_count": null,
   "metadata": {},
   "outputs": [],
   "source": [
    "forecast_prophet.head()"
   ]
  },
  {
   "cell_type": "code",
   "execution_count": null,
   "metadata": {},
   "outputs": [],
   "source": [
    "# Fit ARIMA model\n",
    "arima_model = SARIMAX(weekly_demand['Demand'], order=(1, 1, 1), seasonal_order=(1, 1, 1, 52))\n",
    "arima_model_fit = arima_model.fit(disp=False)\n",
    "# Forecast using ARIMA\n",
    "forecast_arima = arima_model_fit.get_forecast(steps=52)\n",
    "forecast_arima_df = forecast_arima.summary_frame()\n"
   ]
  },
  {
   "cell_type": "code",
   "execution_count": null,
   "metadata": {},
   "outputs": [],
   "source": [
    "# Prepare the forecast data for comparison\n",
    "forecast_prophet = forecast_prophet[['ds', 'yhat']].set_index('ds')\n",
    "forecast_arima_df = forecast_arima_df[['mean']]\n"
   ]
  },
  {
   "cell_type": "code",
   "execution_count": null,
   "metadata": {},
   "outputs": [],
   "source": []
  },
  {
   "cell_type": "markdown",
   "metadata": {},
   "source": [
    "# Performance\n",
    "Better SARIMA. So we will use SARIMA for the compute of the score based on arrival. Let's motivate the process:\n",
    "- Mean Average Error (MSE): Tells us the average magnitude of the forecast errors. \n",
    "- Mean Square Error: Emphasizes larger errors more than MAE. \n",
    "- Root Mean Square Error: Provides an error measure in the same units as the demand. \n",
    "\n",
    "## Comparing Models\n",
    "- SARIMA shows an higher MAE than Prophet but perform better since MSE and RMSE are lower.\n"
   ]
  },
  {
   "cell_type": "code",
   "execution_count": null,
   "metadata": {},
   "outputs": [],
   "source": [
    "\n",
    "# Compute evaluation metrics\n",
    "# For Prophet\n",
    "prophet_true = weekly_demand['Demand'].values[-52:]\n",
    "prophet_pred = forecast_prophet['yhat'].values[:52]\n",
    "prophet_mae = mean_absolute_error(prophet_true, prophet_pred)\n",
    "prophet_mse = mean_squared_error(prophet_true, prophet_pred)\n",
    "prophet_rmse = np.sqrt(prophet_mse)\n",
    "prophet_mape = mean_absolute_percentage_error(prophet_true, prophet_pred) \n",
    "# For ARIMA\n",
    "arima_true = weekly_demand['Demand'].values[-52:]\n",
    "arima_pred = forecast_arima_df['mean'].values[:52]\n",
    "arima_mae = mean_absolute_error(arima_true, arima_pred)\n",
    "arima_mse = mean_squared_error(arima_true, arima_pred)\n",
    "arima_rmse = np.sqrt(arima_mse)\n",
    "arima_mape = mean_absolute_percentage_error(arima_true, arume_pred)\n",
    "print(f'Arima MAPE: {arima_mape * 100:.2f}%')\n",
    "# Print evaluation metrics\n",
    "print(f\"Prophet MAE: {prophet_mae}, MSE: {prophet_mse}, RMSE: {prophet_rmse}\")\n",
    "print(f\"ARIMA MAE: {arima_mae}, MSE: {arima_mse}, RMSE: {arima_rmse}\")\n"
   ]
  },
  {
   "cell_type": "markdown",
   "metadata": {},
   "source": [
    "# <b>Review Score</b> using BERT Sentiment Analysis over Tripadvisor Reviews."
   ]
  },
  {
   "cell_type": "markdown",
   "metadata": {},
   "source": [
    "<p>Hotel performance in terms of revenue depends stricly from online reputation (cit), so our goal in designing <b>HotelRank</p> algorithm is to analyze reviews about our customers hotel and provide an unique score to put a linear factor in HotelRank. We can name that score as <i>review score</i>.</p>\n",
    "<p><B>ReviewScore = Hotel_Rating - (0.5 * #number_negative review) + (0.25 * number of positive review)</B></p>\n",
    "<p>Here we emphasize the idea that is better not having negitive than positive reviews. To compute this formula we need we are in need to perform sentiment analysis over hotel reviews.</p><p>In case the <b>ReviewScore</b> is negative we assume that his weight to HotelRank is 0</p>\n"
   ]
  },
  {
   "cell_type": "markdown",
   "metadata": {},
   "source": [
    "The state-of-the-art sentiment analysis can be accomplished by fine-tuning pretrained BERT models with sentiment-analysis datasets. Fine-tuning is accomplished by further training a pretrained model for a limited number of epochs and with a reduced learning rate. We have collected the review using a scraper that we've coded in Go programming Language."
   ]
  },
  {
   "cell_type": "code",
   "execution_count": null,
   "metadata": {},
   "outputs": [],
   "source": []
  },
  {
   "cell_type": "code",
   "execution_count": null,
   "metadata": {},
   "outputs": [],
   "source": [
    "from transformers import AutoTokenizer\n",
    "\n",
    "tokenizer = AutoTokenizer.from_pretrained('distilbert-base-uncased')\n",
    "\n",
    "def tokenize(samples):\n",
    "    return tokenizer(samples['Text'], truncation=True)\n",
    "\n",
    "tokenized_imdb = imdb.map(tokenize, batched=True)"
   ]
  },
  {
   "cell_type": "markdown",
   "metadata": {},
   "source": [
    "Now that the reviews are tokenized, they need to be converted from [Hugging Face datasets](https://huggingface.co/docs/datasets/package_reference/main_classes#datasets.Dataset) into [TensorFlow datasets](https://www.tensorflow.org/api_docs/python/tf/data/Dataset) with Hugging Face’s [Dataset.to_tf_dataset](https://huggingface.co/docs/datasets/package_reference/main_classes#datasets.Dataset.to_tf_dataset) method. The collating function passed to that method dynamically pads the sequences so they’re all the same length. You can also ask the tokenizer to do the padding, but padding performed that way is static and requires more memory:\n",
    "                                                                                           "
   ]
  },
  {
   "cell_type": "code",
   "execution_count": null,
   "metadata": {},
   "outputs": [],
   "source": [
    "from transformers import DataCollatorWithPadding\n",
    "\n",
    "data_collator = DataCollatorWithPadding(tokenizer=tokenizer, return_tensors='tf')\n",
    "\n",
    "train_data = tokenized_imdb['train'].to_tf_dataset(\n",
    "    columns=['attention_mask', 'input_ids', 'label'],\n",
    "    shuffle=True,\n",
    "    batch_size=16,\n",
    "    collate_fn=data_collator\n",
    ")\n",
    "\n",
    "validation_data = tokenized_imdb['test'].to_tf_dataset(\n",
    "    columns=['attention_mask', 'input_ids', 'label'],\n",
    "    shuffle=False,\n",
    "    batch_size=16,\n",
    "    collate_fn=data_collator\n",
    ")"
   ]
  },
  {
   "cell_type": "markdown",
   "metadata": {},
   "source": [
    "Now you’re ready to fine-tune. Call `fit` on the model as usual, but set the `Adam` optimizer’s learning rate (the nominal amount that weights and biases are adjusted during backpropagation passes) to 0.00002, which is a fraction of the default learning rate of 0.001:"
   ]
  },
  {
   "cell_type": "code",
   "execution_count": null,
   "metadata": {},
   "outputs": [],
   "source": [
    "from tensorflow.keras.optimizers import Adam\n",
    "from transformers import TFAutoModelForSequenceClassification\n",
    "\n",
    "model = TFAutoModelForSequenceClassification.from_pretrained('distilbert-base-uncased', num_labels=2)\n",
    "model.compile(Adam(learning_rate=2e-5), metrics=['accuracy'])\n",
    "hist = model.fit(train_data, validation_data=validation_data, epochs=3)"
   ]
  },
  {
   "cell_type": "markdown",
   "metadata": {},
   "source": [
    "Plot the training and accuracy."
   ]
  },
  {
   "cell_type": "code",
   "execution_count": null,
   "metadata": {},
   "outputs": [],
   "source": [
    "import seaborn as sns\n",
    "import matplotlib.pyplot as plt\n",
    "%matplotlib inline\n",
    "sns.set()\n",
    "\n",
    "acc = hist.history['accuracy']\n",
    "val = hist.history['val_accuracy']\n",
    "epochs = range(1, len(acc) + 1)\n",
    "\n",
    "plt.plot(epochs, acc, '-', label='Training accuracy')\n",
    "plt.plot(epochs, val, ':', label='Validation accuracy')\n",
    "plt.title('Training and Validation Accuracy')\n",
    "plt.xlabel('Epoch')\n",
    "plt.ylabel('Accuracy')"
   ]
  },
  {
   "cell_type": "markdown",
   "metadata": {},
   "source": [
    "Finish up by defining an `analyze_text` function that returns a sentiment score and using it to score a positive review for sentiment. The model returns an object wrapping a tensor containing unnormalized sentiment scores (negative and positive), but you can use TensorFlow’s `softmax` function to normalize them to values from 0.0 to 1.0:"
   ]
  },
  {
   "cell_type": "code",
   "execution_count": null,
   "metadata": {},
   "outputs": [],
   "source": [
    "import glob\n",
    "import panda as pd\n",
    "import tensorflow as tf\n",
    "\n",
    "def analyze_text(text, tokenizer, model):\n",
    "    tokenized_text = tokenizer(text, padding=True, truncation=True, return_tensors='tf')\n",
    "    prediction = model(tokenized_text)\n",
    "    return tf.nn.softmax(prediction[0]).numpy()[0][1]\n",
    "\n",
    "review_data = glob.glob('review_data/*.csv')\n",
    "datasets = [pd.read_csv(filedata) for filedata in review_data]\n",
    "datasets[0].head()"
   ]
  },
  {
   "cell_type": "markdown",
   "metadata": {},
   "source": [
    "# Cancellation Score: Analysis on Cancellations"
   ]
  },
  {
   "cell_type": "code",
   "execution_count": null,
   "metadata": {},
   "outputs": [],
   "source": []
  }
 ],
 "metadata": {
  "kernelspec": {
   "display_name": "Python 3 (ipykernel)",
   "language": "python",
   "name": "python3"
  },
  "language_info": {
   "codemirror_mode": {
    "name": "ipython",
    "version": 3
   },
   "file_extension": ".py",
   "mimetype": "text/x-python",
   "name": "python",
   "nbconvert_exporter": "python",
   "pygments_lexer": "ipython3",
   "version": "3.12.4"
  }
 },
 "nbformat": 4,
 "nbformat_minor": 4
}
